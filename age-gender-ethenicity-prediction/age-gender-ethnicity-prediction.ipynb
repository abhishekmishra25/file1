{
 "cells": [
  {
   "cell_type": "markdown",
   "metadata": {
    "papermill": {
     "duration": 0.032198,
     "end_time": "2020-09-24T10:28:34.559924",
     "exception": false,
     "start_time": "2020-09-24T10:28:34.527726",
     "status": "completed"
    },
    "tags": []
   },
   "source": [
    "# Table of content\n",
    "1. [Importing relevent libraries](#01)\n",
    "2. [Loading Dataset](#02)\n",
    "3. [Distributions](#03)\n",
    "    - [Age Distribution](#3.1)\n",
    "    - [Ethnicity Distribution](#3.2)\n",
    "    - [Gender Distribution](#3.3)\n",
    "    - [Gender Distribution](#3.3)\n",
    "    - [Sample Images](#3.4)\n",
    "4. [Model for Gender Prediction](#04)\n",
    "    - [Spliting data into train/test](#4.1)\n",
    "    - [Build and train model](#4.2)\n",
    "    - [Evaluating training history](#4.3)\n",
    "5. [Model for Ethnicity Prediction](#05)\n",
    "    - [Spliting data into train/test](#5.1)\n",
    "    - [Build and train model](#5.2)\n",
    "    - [Evaluating training history](#5.3)\n",
    "6. [Model for Age Prediction](#06)\n",
    "    - [Spliting data into train/test](#6.1)\n",
    "    - [Build and train model](#6.2)\n",
    "    - [Evaluating training history](#6.3)"
   ]
  },
  {
   "cell_type": "markdown",
   "metadata": {
    "papermill": {
     "duration": 0.027633,
     "end_time": "2020-09-24T10:28:34.616260",
     "exception": false,
     "start_time": "2020-09-24T10:28:34.588627",
     "status": "completed"
    },
    "tags": []
   },
   "source": [
    "## Importing relevent libraries <a id=\"01\"></a>"
   ]
  },
  {
   "cell_type": "code",
   "execution_count": 17,
   "metadata": {
    "execution": {
     "iopub.execute_input": "2020-09-24T10:28:34.680273Z",
     "iopub.status.busy": "2020-09-24T10:28:34.679572Z",
     "iopub.status.idle": "2020-09-24T10:28:42.481602Z",
     "shell.execute_reply": "2020-09-24T10:28:42.480999Z"
    },
    "papermill": {
     "duration": 7.837007,
     "end_time": "2020-09-24T10:28:42.481762",
     "exception": false,
     "start_time": "2020-09-24T10:28:34.644755",
     "status": "completed"
    },
    "tags": []
   },
   "outputs": [],
   "source": [
    "import numpy as np \n",
    "import pandas as pd\n",
    "import tensorflow as tf\n",
    "import tensorflow.keras.layers as L\n",
    "import matplotlib.pyplot as plt\n",
    "import plotly.graph_objects as go\n",
    "import plotly.express as px\n",
    "from sklearn.model_selection import train_test_split"
   ]
  },
  {
   "cell_type": "markdown",
   "metadata": {
    "papermill": {
     "duration": 0.028723,
     "end_time": "2020-09-24T10:28:42.539261",
     "exception": false,
     "start_time": "2020-09-24T10:28:42.510538",
     "status": "completed"
    },
    "tags": []
   },
   "source": [
    "## Loading Dataset <a id=\"02\"></a>"
   ]
  },
  {
   "cell_type": "code",
   "execution_count": 18,
   "metadata": {
    "_cell_guid": "79c7e3d0-c299-4dcb-8224-4455121ee9b0",
    "_uuid": "d629ff2d2480ee46fbb7e2d37f6b5fab8052498a",
    "execution": {
     "iopub.execute_input": "2020-09-24T10:28:42.605919Z",
     "iopub.status.busy": "2020-09-24T10:28:42.605200Z",
     "iopub.status.idle": "2020-09-24T10:29:05.641589Z",
     "shell.execute_reply": "2020-09-24T10:29:05.641064Z"
    },
    "papermill": {
     "duration": 23.074222,
     "end_time": "2020-09-24T10:29:05.641714",
     "exception": false,
     "start_time": "2020-09-24T10:28:42.567492",
     "status": "completed"
    },
    "tags": []
   },
   "outputs": [
    {
     "output_type": "execute_result",
     "data": {
      "text/plain": [
       "   age  ethnicity  gender                        img_name  \\\n",
       "0    1          2       0  20161219203650636.jpg.chip.jpg   \n",
       "1    1          2       0  20161219222752047.jpg.chip.jpg   \n",
       "2    1          2       0  20161219222832191.jpg.chip.jpg   \n",
       "3    1          2       0  20161220144911423.jpg.chip.jpg   \n",
       "4    1          2       0  20161220144914327.jpg.chip.jpg   \n",
       "\n",
       "                                              pixels  \n",
       "0  [129.0, 128.0, 128.0, 126.0, 127.0, 130.0, 133...  \n",
       "1  [164.0, 74.0, 111.0, 168.0, 169.0, 171.0, 175....  \n",
       "2  [67.0, 70.0, 71.0, 70.0, 69.0, 67.0, 70.0, 79....  \n",
       "3  [193.0, 197.0, 198.0, 200.0, 199.0, 200.0, 202...  \n",
       "4  [202.0, 205.0, 209.0, 210.0, 209.0, 209.0, 210...  "
      ],
      "text/html": "<div>\n<style scoped>\n    .dataframe tbody tr th:only-of-type {\n        vertical-align: middle;\n    }\n\n    .dataframe tbody tr th {\n        vertical-align: top;\n    }\n\n    .dataframe thead th {\n        text-align: right;\n    }\n</style>\n<table border=\"1\" class=\"dataframe\">\n  <thead>\n    <tr style=\"text-align: right;\">\n      <th></th>\n      <th>age</th>\n      <th>ethnicity</th>\n      <th>gender</th>\n      <th>img_name</th>\n      <th>pixels</th>\n    </tr>\n  </thead>\n  <tbody>\n    <tr>\n      <th>0</th>\n      <td>1</td>\n      <td>2</td>\n      <td>0</td>\n      <td>20161219203650636.jpg.chip.jpg</td>\n      <td>[129.0, 128.0, 128.0, 126.0, 127.0, 130.0, 133...</td>\n    </tr>\n    <tr>\n      <th>1</th>\n      <td>1</td>\n      <td>2</td>\n      <td>0</td>\n      <td>20161219222752047.jpg.chip.jpg</td>\n      <td>[164.0, 74.0, 111.0, 168.0, 169.0, 171.0, 175....</td>\n    </tr>\n    <tr>\n      <th>2</th>\n      <td>1</td>\n      <td>2</td>\n      <td>0</td>\n      <td>20161219222832191.jpg.chip.jpg</td>\n      <td>[67.0, 70.0, 71.0, 70.0, 69.0, 67.0, 70.0, 79....</td>\n    </tr>\n    <tr>\n      <th>3</th>\n      <td>1</td>\n      <td>2</td>\n      <td>0</td>\n      <td>20161220144911423.jpg.chip.jpg</td>\n      <td>[193.0, 197.0, 198.0, 200.0, 199.0, 200.0, 202...</td>\n    </tr>\n    <tr>\n      <th>4</th>\n      <td>1</td>\n      <td>2</td>\n      <td>0</td>\n      <td>20161220144914327.jpg.chip.jpg</td>\n      <td>[202.0, 205.0, 209.0, 210.0, 209.0, 209.0, 210...</td>\n    </tr>\n  </tbody>\n</table>\n</div>"
     },
     "metadata": {},
     "execution_count": 18
    }
   ],
   "source": [
    "data = pd.read_csv('age_gender.csv')\n",
    "\n",
    "## Converting pixels into numpy array\n",
    "data['pixels']=data['pixels'].apply(lambda x:  np.array(x.split(), dtype=\"float32\"))\n",
    "\n",
    "data.head()"
   ]
  },
  {
   "cell_type": "code",
   "execution_count": 19,
   "metadata": {
    "execution": {
     "iopub.execute_input": "2020-09-24T10:29:05.704140Z",
     "iopub.status.busy": "2020-09-24T10:29:05.703483Z",
     "iopub.status.idle": "2020-09-24T10:29:05.707553Z",
     "shell.execute_reply": "2020-09-24T10:29:05.708107Z"
    },
    "papermill": {
     "duration": 0.03833,
     "end_time": "2020-09-24T10:29:05.708238",
     "exception": false,
     "start_time": "2020-09-24T10:29:05.669908",
     "status": "completed"
    },
    "tags": []
   },
   "outputs": [
    {
     "output_type": "stream",
     "name": "stdout",
     "text": [
      "Total rows: 23705\nTotal columns: 5\n"
     ]
    }
   ],
   "source": [
    "print('Total rows: {}'.format(len(data)))\n",
    "print('Total columns: {}'.format(len(data.columns)))"
   ]
  },
  {
   "cell_type": "markdown",
   "metadata": {
    "papermill": {
     "duration": 0.037214,
     "end_time": "2020-09-24T10:29:05.774178",
     "exception": false,
     "start_time": "2020-09-24T10:29:05.736964",
     "status": "completed"
    },
    "tags": []
   },
   "source": [
    "## Distributions <a id=\"03\"></a>"
   ]
  },
  {
   "cell_type": "code",
   "execution_count": 20,
   "metadata": {
    "_kg_hide-input": true,
    "execution": {
     "iopub.execute_input": "2020-09-24T10:29:05.840692Z",
     "iopub.status.busy": "2020-09-24T10:29:05.839721Z",
     "iopub.status.idle": "2020-09-24T10:29:05.981195Z",
     "shell.execute_reply": "2020-09-24T10:29:05.980655Z"
    },
    "papermill": {
     "duration": 0.178782,
     "end_time": "2020-09-24T10:29:05.981305",
     "exception": false,
     "start_time": "2020-09-24T10:29:05.802523",
     "status": "completed"
    },
    "tags": []
   },
   "outputs": [],
   "source": [
    "## normalizing pixels data\n",
    "data['pixels'] = data['pixels'].apply(lambda x: x/255)\n",
    "\n",
    "## calculating distributions\n",
    "age_dist = data['age'].value_counts()\n",
    "ethnicity_dist = data['ethnicity'].value_counts()\n",
    "gender_dist = data['gender'].value_counts().rename(index={0:'Male',1:'Female'})\n",
    "\n",
    "def ditribution_plot(x,y,name):\n",
    "    fig = go.Figure([\n",
    "        go.Bar(x=x, y=y)\n",
    "    ])\n",
    "\n",
    "    fig.update_layout(title_text=name)\n",
    "    fig.show()"
   ]
  },
  {
   "cell_type": "markdown",
   "metadata": {
    "papermill": {
     "duration": 0.029835,
     "end_time": "2020-09-24T10:29:06.040161",
     "exception": false,
     "start_time": "2020-09-24T10:29:06.010326",
     "status": "completed"
    },
    "tags": []
   },
   "source": [
    "### Age Distribtion <a id=\"3.1\"></a>"
   ]
  },
  {
   "cell_type": "code",
   "execution_count": 21,
   "metadata": {
    "_kg_hide-input": true,
    "execution": {
     "iopub.execute_input": "2020-09-24T10:29:06.105047Z",
     "iopub.status.busy": "2020-09-24T10:29:06.104378Z",
     "iopub.status.idle": "2020-09-24T10:29:06.250975Z",
     "shell.execute_reply": "2020-09-24T10:29:06.250104Z"
    },
    "papermill": {
     "duration": 0.181115,
     "end_time": "2020-09-24T10:29:06.251089",
     "exception": false,
     "start_time": "2020-09-24T10:29:06.069974",
     "status": "completed"
    },
    "tags": []
   },
   "outputs": [
    {
     "output_type": "display_data",
     "data": {
      "application/vnd.plotly.v1+json": {
       "config": {
        "plotlyServerURL": "https://plot.ly"
       },
       "data": [
        {
         "type": "bar",
         "x": [
          26,
          1,
          28,
          35,
          24,
          25,
          30,
          32,
          27,
          29,
          40,
          36,
          2,
          45,
          23,
          34,
          22,
          50,
          54,
          31,
          21,
          38,
          37,
          60,
          3,
          20,
          4,
          58,
          55,
          42,
          39,
          8,
          18,
          65,
          16,
          53,
          56,
          52,
          5,
          15,
          47,
          9,
          61,
          17,
          43,
          14,
          10,
          85,
          48,
          46,
          75,
          49,
          70,
          33,
          7,
          51,
          80,
          41,
          6,
          12,
          62,
          63,
          68,
          44,
          19,
          72,
          57,
          67,
          90,
          59,
          13,
          66,
          78,
          11,
          73,
          76,
          69,
          64,
          82,
          86,
          88,
          89,
          71,
          74,
          77,
          84,
          79,
          81,
          83,
          96,
          92,
          100,
          87,
          99,
          95,
          93,
          105,
          110,
          116,
          115,
          91,
          101,
          103,
          111
         ],
         "y": [
          2197,
          1123,
          918,
          880,
          859,
          734,
          724,
          664,
          615,
          570,
          526,
          483,
          482,
          440,
          426,
          409,
          395,
          381,
          353,
          350,
          346,
          325,
          293,
          293,
          289,
          284,
          273,
          271,
          268,
          266,
          265,
          263,
          262,
          259,
          247,
          241,
          236,
          232,
          196,
          177,
          170,
          166,
          159,
          158,
          157,
          157,
          156,
          155,
          153,
          153,
          148,
          148,
          147,
          143,
          139,
          138,
          133,
          132,
          131,
          130,
          125,
          103,
          100,
          100,
          98,
          98,
          97,
          94,
          82,
          82,
          81,
          77,
          69,
          65,
          63,
          58,
          56,
          50,
          40,
          35,
          34,
          33,
          33,
          32,
          28,
          24,
          23,
          22,
          18,
          17,
          13,
          11,
          10,
          9,
          9,
          5,
          5,
          5,
          4,
          3,
          2,
          2,
          1,
          1
         ]
        }
       ],
       "layout": {
        "template": {
         "data": {
          "bar": [
           {
            "error_x": {
             "color": "#2a3f5f"
            },
            "error_y": {
             "color": "#2a3f5f"
            },
            "marker": {
             "line": {
              "color": "#E5ECF6",
              "width": 0.5
             }
            },
            "type": "bar"
           }
          ],
          "barpolar": [
           {
            "marker": {
             "line": {
              "color": "#E5ECF6",
              "width": 0.5
             }
            },
            "type": "barpolar"
           }
          ],
          "carpet": [
           {
            "aaxis": {
             "endlinecolor": "#2a3f5f",
             "gridcolor": "white",
             "linecolor": "white",
             "minorgridcolor": "white",
             "startlinecolor": "#2a3f5f"
            },
            "baxis": {
             "endlinecolor": "#2a3f5f",
             "gridcolor": "white",
             "linecolor": "white",
             "minorgridcolor": "white",
             "startlinecolor": "#2a3f5f"
            },
            "type": "carpet"
           }
          ],
          "choropleth": [
           {
            "colorbar": {
             "outlinewidth": 0,
             "ticks": ""
            },
            "type": "choropleth"
           }
          ],
          "contour": [
           {
            "colorbar": {
             "outlinewidth": 0,
             "ticks": ""
            },
            "colorscale": [
             [
              0,
              "#0d0887"
             ],
             [
              0.1111111111111111,
              "#46039f"
             ],
             [
              0.2222222222222222,
              "#7201a8"
             ],
             [
              0.3333333333333333,
              "#9c179e"
             ],
             [
              0.4444444444444444,
              "#bd3786"
             ],
             [
              0.5555555555555556,
              "#d8576b"
             ],
             [
              0.6666666666666666,
              "#ed7953"
             ],
             [
              0.7777777777777778,
              "#fb9f3a"
             ],
             [
              0.8888888888888888,
              "#fdca26"
             ],
             [
              1,
              "#f0f921"
             ]
            ],
            "type": "contour"
           }
          ],
          "contourcarpet": [
           {
            "colorbar": {
             "outlinewidth": 0,
             "ticks": ""
            },
            "type": "contourcarpet"
           }
          ],
          "heatmap": [
           {
            "colorbar": {
             "outlinewidth": 0,
             "ticks": ""
            },
            "colorscale": [
             [
              0,
              "#0d0887"
             ],
             [
              0.1111111111111111,
              "#46039f"
             ],
             [
              0.2222222222222222,
              "#7201a8"
             ],
             [
              0.3333333333333333,
              "#9c179e"
             ],
             [
              0.4444444444444444,
              "#bd3786"
             ],
             [
              0.5555555555555556,
              "#d8576b"
             ],
             [
              0.6666666666666666,
              "#ed7953"
             ],
             [
              0.7777777777777778,
              "#fb9f3a"
             ],
             [
              0.8888888888888888,
              "#fdca26"
             ],
             [
              1,
              "#f0f921"
             ]
            ],
            "type": "heatmap"
           }
          ],
          "heatmapgl": [
           {
            "colorbar": {
             "outlinewidth": 0,
             "ticks": ""
            },
            "colorscale": [
             [
              0,
              "#0d0887"
             ],
             [
              0.1111111111111111,
              "#46039f"
             ],
             [
              0.2222222222222222,
              "#7201a8"
             ],
             [
              0.3333333333333333,
              "#9c179e"
             ],
             [
              0.4444444444444444,
              "#bd3786"
             ],
             [
              0.5555555555555556,
              "#d8576b"
             ],
             [
              0.6666666666666666,
              "#ed7953"
             ],
             [
              0.7777777777777778,
              "#fb9f3a"
             ],
             [
              0.8888888888888888,
              "#fdca26"
             ],
             [
              1,
              "#f0f921"
             ]
            ],
            "type": "heatmapgl"
           }
          ],
          "histogram": [
           {
            "marker": {
             "colorbar": {
              "outlinewidth": 0,
              "ticks": ""
             }
            },
            "type": "histogram"
           }
          ],
          "histogram2d": [
           {
            "colorbar": {
             "outlinewidth": 0,
             "ticks": ""
            },
            "colorscale": [
             [
              0,
              "#0d0887"
             ],
             [
              0.1111111111111111,
              "#46039f"
             ],
             [
              0.2222222222222222,
              "#7201a8"
             ],
             [
              0.3333333333333333,
              "#9c179e"
             ],
             [
              0.4444444444444444,
              "#bd3786"
             ],
             [
              0.5555555555555556,
              "#d8576b"
             ],
             [
              0.6666666666666666,
              "#ed7953"
             ],
             [
              0.7777777777777778,
              "#fb9f3a"
             ],
             [
              0.8888888888888888,
              "#fdca26"
             ],
             [
              1,
              "#f0f921"
             ]
            ],
            "type": "histogram2d"
           }
          ],
          "histogram2dcontour": [
           {
            "colorbar": {
             "outlinewidth": 0,
             "ticks": ""
            },
            "colorscale": [
             [
              0,
              "#0d0887"
             ],
             [
              0.1111111111111111,
              "#46039f"
             ],
             [
              0.2222222222222222,
              "#7201a8"
             ],
             [
              0.3333333333333333,
              "#9c179e"
             ],
             [
              0.4444444444444444,
              "#bd3786"
             ],
             [
              0.5555555555555556,
              "#d8576b"
             ],
             [
              0.6666666666666666,
              "#ed7953"
             ],
             [
              0.7777777777777778,
              "#fb9f3a"
             ],
             [
              0.8888888888888888,
              "#fdca26"
             ],
             [
              1,
              "#f0f921"
             ]
            ],
            "type": "histogram2dcontour"
           }
          ],
          "mesh3d": [
           {
            "colorbar": {
             "outlinewidth": 0,
             "ticks": ""
            },
            "type": "mesh3d"
           }
          ],
          "parcoords": [
           {
            "line": {
             "colorbar": {
              "outlinewidth": 0,
              "ticks": ""
             }
            },
            "type": "parcoords"
           }
          ],
          "pie": [
           {
            "automargin": true,
            "type": "pie"
           }
          ],
          "scatter": [
           {
            "marker": {
             "colorbar": {
              "outlinewidth": 0,
              "ticks": ""
             }
            },
            "type": "scatter"
           }
          ],
          "scatter3d": [
           {
            "line": {
             "colorbar": {
              "outlinewidth": 0,
              "ticks": ""
             }
            },
            "marker": {
             "colorbar": {
              "outlinewidth": 0,
              "ticks": ""
             }
            },
            "type": "scatter3d"
           }
          ],
          "scattercarpet": [
           {
            "marker": {
             "colorbar": {
              "outlinewidth": 0,
              "ticks": ""
             }
            },
            "type": "scattercarpet"
           }
          ],
          "scattergeo": [
           {
            "marker": {
             "colorbar": {
              "outlinewidth": 0,
              "ticks": ""
             }
            },
            "type": "scattergeo"
           }
          ],
          "scattergl": [
           {
            "marker": {
             "colorbar": {
              "outlinewidth": 0,
              "ticks": ""
             }
            },
            "type": "scattergl"
           }
          ],
          "scattermapbox": [
           {
            "marker": {
             "colorbar": {
              "outlinewidth": 0,
              "ticks": ""
             }
            },
            "type": "scattermapbox"
           }
          ],
          "scatterpolar": [
           {
            "marker": {
             "colorbar": {
              "outlinewidth": 0,
              "ticks": ""
             }
            },
            "type": "scatterpolar"
           }
          ],
          "scatterpolargl": [
           {
            "marker": {
             "colorbar": {
              "outlinewidth": 0,
              "ticks": ""
             }
            },
            "type": "scatterpolargl"
           }
          ],
          "scatterternary": [
           {
            "marker": {
             "colorbar": {
              "outlinewidth": 0,
              "ticks": ""
             }
            },
            "type": "scatterternary"
           }
          ],
          "surface": [
           {
            "colorbar": {
             "outlinewidth": 0,
             "ticks": ""
            },
            "colorscale": [
             [
              0,
              "#0d0887"
             ],
             [
              0.1111111111111111,
              "#46039f"
             ],
             [
              0.2222222222222222,
              "#7201a8"
             ],
             [
              0.3333333333333333,
              "#9c179e"
             ],
             [
              0.4444444444444444,
              "#bd3786"
             ],
             [
              0.5555555555555556,
              "#d8576b"
             ],
             [
              0.6666666666666666,
              "#ed7953"
             ],
             [
              0.7777777777777778,
              "#fb9f3a"
             ],
             [
              0.8888888888888888,
              "#fdca26"
             ],
             [
              1,
              "#f0f921"
             ]
            ],
            "type": "surface"
           }
          ],
          "table": [
           {
            "cells": {
             "fill": {
              "color": "#EBF0F8"
             },
             "line": {
              "color": "white"
             }
            },
            "header": {
             "fill": {
              "color": "#C8D4E3"
             },
             "line": {
              "color": "white"
             }
            },
            "type": "table"
           }
          ]
         },
         "layout": {
          "annotationdefaults": {
           "arrowcolor": "#2a3f5f",
           "arrowhead": 0,
           "arrowwidth": 1
          },
          "autotypenumbers": "strict",
          "coloraxis": {
           "colorbar": {
            "outlinewidth": 0,
            "ticks": ""
           }
          },
          "colorscale": {
           "diverging": [
            [
             0,
             "#8e0152"
            ],
            [
             0.1,
             "#c51b7d"
            ],
            [
             0.2,
             "#de77ae"
            ],
            [
             0.3,
             "#f1b6da"
            ],
            [
             0.4,
             "#fde0ef"
            ],
            [
             0.5,
             "#f7f7f7"
            ],
            [
             0.6,
             "#e6f5d0"
            ],
            [
             0.7,
             "#b8e186"
            ],
            [
             0.8,
             "#7fbc41"
            ],
            [
             0.9,
             "#4d9221"
            ],
            [
             1,
             "#276419"
            ]
           ],
           "sequential": [
            [
             0,
             "#0d0887"
            ],
            [
             0.1111111111111111,
             "#46039f"
            ],
            [
             0.2222222222222222,
             "#7201a8"
            ],
            [
             0.3333333333333333,
             "#9c179e"
            ],
            [
             0.4444444444444444,
             "#bd3786"
            ],
            [
             0.5555555555555556,
             "#d8576b"
            ],
            [
             0.6666666666666666,
             "#ed7953"
            ],
            [
             0.7777777777777778,
             "#fb9f3a"
            ],
            [
             0.8888888888888888,
             "#fdca26"
            ],
            [
             1,
             "#f0f921"
            ]
           ],
           "sequentialminus": [
            [
             0,
             "#0d0887"
            ],
            [
             0.1111111111111111,
             "#46039f"
            ],
            [
             0.2222222222222222,
             "#7201a8"
            ],
            [
             0.3333333333333333,
             "#9c179e"
            ],
            [
             0.4444444444444444,
             "#bd3786"
            ],
            [
             0.5555555555555556,
             "#d8576b"
            ],
            [
             0.6666666666666666,
             "#ed7953"
            ],
            [
             0.7777777777777778,
             "#fb9f3a"
            ],
            [
             0.8888888888888888,
             "#fdca26"
            ],
            [
             1,
             "#f0f921"
            ]
           ]
          },
          "colorway": [
           "#636efa",
           "#EF553B",
           "#00cc96",
           "#ab63fa",
           "#FFA15A",
           "#19d3f3",
           "#FF6692",
           "#B6E880",
           "#FF97FF",
           "#FECB52"
          ],
          "font": {
           "color": "#2a3f5f"
          },
          "geo": {
           "bgcolor": "white",
           "lakecolor": "white",
           "landcolor": "#E5ECF6",
           "showlakes": true,
           "showland": true,
           "subunitcolor": "white"
          },
          "hoverlabel": {
           "align": "left"
          },
          "hovermode": "closest",
          "mapbox": {
           "style": "light"
          },
          "paper_bgcolor": "white",
          "plot_bgcolor": "#E5ECF6",
          "polar": {
           "angularaxis": {
            "gridcolor": "white",
            "linecolor": "white",
            "ticks": ""
           },
           "bgcolor": "#E5ECF6",
           "radialaxis": {
            "gridcolor": "white",
            "linecolor": "white",
            "ticks": ""
           }
          },
          "scene": {
           "xaxis": {
            "backgroundcolor": "#E5ECF6",
            "gridcolor": "white",
            "gridwidth": 2,
            "linecolor": "white",
            "showbackground": true,
            "ticks": "",
            "zerolinecolor": "white"
           },
           "yaxis": {
            "backgroundcolor": "#E5ECF6",
            "gridcolor": "white",
            "gridwidth": 2,
            "linecolor": "white",
            "showbackground": true,
            "ticks": "",
            "zerolinecolor": "white"
           },
           "zaxis": {
            "backgroundcolor": "#E5ECF6",
            "gridcolor": "white",
            "gridwidth": 2,
            "linecolor": "white",
            "showbackground": true,
            "ticks": "",
            "zerolinecolor": "white"
           }
          },
          "shapedefaults": {
           "line": {
            "color": "#2a3f5f"
           }
          },
          "ternary": {
           "aaxis": {
            "gridcolor": "white",
            "linecolor": "white",
            "ticks": ""
           },
           "baxis": {
            "gridcolor": "white",
            "linecolor": "white",
            "ticks": ""
           },
           "bgcolor": "#E5ECF6",
           "caxis": {
            "gridcolor": "white",
            "linecolor": "white",
            "ticks": ""
           }
          },
          "title": {
           "x": 0.05
          },
          "xaxis": {
           "automargin": true,
           "gridcolor": "white",
           "linecolor": "white",
           "ticks": "",
           "title": {
            "standoff": 15
           },
           "zerolinecolor": "white",
           "zerolinewidth": 2
          },
          "yaxis": {
           "automargin": true,
           "gridcolor": "white",
           "linecolor": "white",
           "ticks": "",
           "title": {
            "standoff": 15
           },
           "zerolinecolor": "white",
           "zerolinewidth": 2
          }
         }
        },
        "title": {
         "text": "Age Distribution"
        }
       }
      }
     },
     "metadata": {}
    }
   ],
   "source": [
    "ditribution_plot(x=age_dist.index, y=age_dist.values, name='Age Distribution')"
   ]
  },
  {
   "cell_type": "markdown",
   "metadata": {
    "papermill": {
     "duration": 0.030047,
     "end_time": "2020-09-24T10:29:06.311925",
     "exception": false,
     "start_time": "2020-09-24T10:29:06.281878",
     "status": "completed"
    },
    "tags": []
   },
   "source": [
    "### Ethnicity Distribution <a id=\"3.2\"></a>"
   ]
  },
  {
   "cell_type": "code",
   "execution_count": 22,
   "metadata": {
    "_kg_hide-input": true,
    "execution": {
     "iopub.execute_input": "2020-09-24T10:29:06.385999Z",
     "iopub.status.busy": "2020-09-24T10:29:06.385151Z",
     "iopub.status.idle": "2020-09-24T10:29:06.390614Z",
     "shell.execute_reply": "2020-09-24T10:29:06.390097Z"
    },
    "papermill": {
     "duration": 0.047568,
     "end_time": "2020-09-24T10:29:06.390757",
     "exception": false,
     "start_time": "2020-09-24T10:29:06.343189",
     "status": "completed"
    },
    "tags": []
   },
   "outputs": [
    {
     "output_type": "display_data",
     "data": {
      "application/vnd.plotly.v1+json": {
       "config": {
        "plotlyServerURL": "https://plot.ly"
       },
       "data": [
        {
         "type": "bar",
         "x": [
          0,
          1,
          3,
          2,
          4
         ],
         "y": [
          10078,
          4526,
          3975,
          3434,
          1692
         ]
        }
       ],
       "layout": {
        "template": {
         "data": {
          "bar": [
           {
            "error_x": {
             "color": "#2a3f5f"
            },
            "error_y": {
             "color": "#2a3f5f"
            },
            "marker": {
             "line": {
              "color": "#E5ECF6",
              "width": 0.5
             }
            },
            "type": "bar"
           }
          ],
          "barpolar": [
           {
            "marker": {
             "line": {
              "color": "#E5ECF6",
              "width": 0.5
             }
            },
            "type": "barpolar"
           }
          ],
          "carpet": [
           {
            "aaxis": {
             "endlinecolor": "#2a3f5f",
             "gridcolor": "white",
             "linecolor": "white",
             "minorgridcolor": "white",
             "startlinecolor": "#2a3f5f"
            },
            "baxis": {
             "endlinecolor": "#2a3f5f",
             "gridcolor": "white",
             "linecolor": "white",
             "minorgridcolor": "white",
             "startlinecolor": "#2a3f5f"
            },
            "type": "carpet"
           }
          ],
          "choropleth": [
           {
            "colorbar": {
             "outlinewidth": 0,
             "ticks": ""
            },
            "type": "choropleth"
           }
          ],
          "contour": [
           {
            "colorbar": {
             "outlinewidth": 0,
             "ticks": ""
            },
            "colorscale": [
             [
              0,
              "#0d0887"
             ],
             [
              0.1111111111111111,
              "#46039f"
             ],
             [
              0.2222222222222222,
              "#7201a8"
             ],
             [
              0.3333333333333333,
              "#9c179e"
             ],
             [
              0.4444444444444444,
              "#bd3786"
             ],
             [
              0.5555555555555556,
              "#d8576b"
             ],
             [
              0.6666666666666666,
              "#ed7953"
             ],
             [
              0.7777777777777778,
              "#fb9f3a"
             ],
             [
              0.8888888888888888,
              "#fdca26"
             ],
             [
              1,
              "#f0f921"
             ]
            ],
            "type": "contour"
           }
          ],
          "contourcarpet": [
           {
            "colorbar": {
             "outlinewidth": 0,
             "ticks": ""
            },
            "type": "contourcarpet"
           }
          ],
          "heatmap": [
           {
            "colorbar": {
             "outlinewidth": 0,
             "ticks": ""
            },
            "colorscale": [
             [
              0,
              "#0d0887"
             ],
             [
              0.1111111111111111,
              "#46039f"
             ],
             [
              0.2222222222222222,
              "#7201a8"
             ],
             [
              0.3333333333333333,
              "#9c179e"
             ],
             [
              0.4444444444444444,
              "#bd3786"
             ],
             [
              0.5555555555555556,
              "#d8576b"
             ],
             [
              0.6666666666666666,
              "#ed7953"
             ],
             [
              0.7777777777777778,
              "#fb9f3a"
             ],
             [
              0.8888888888888888,
              "#fdca26"
             ],
             [
              1,
              "#f0f921"
             ]
            ],
            "type": "heatmap"
           }
          ],
          "heatmapgl": [
           {
            "colorbar": {
             "outlinewidth": 0,
             "ticks": ""
            },
            "colorscale": [
             [
              0,
              "#0d0887"
             ],
             [
              0.1111111111111111,
              "#46039f"
             ],
             [
              0.2222222222222222,
              "#7201a8"
             ],
             [
              0.3333333333333333,
              "#9c179e"
             ],
             [
              0.4444444444444444,
              "#bd3786"
             ],
             [
              0.5555555555555556,
              "#d8576b"
             ],
             [
              0.6666666666666666,
              "#ed7953"
             ],
             [
              0.7777777777777778,
              "#fb9f3a"
             ],
             [
              0.8888888888888888,
              "#fdca26"
             ],
             [
              1,
              "#f0f921"
             ]
            ],
            "type": "heatmapgl"
           }
          ],
          "histogram": [
           {
            "marker": {
             "colorbar": {
              "outlinewidth": 0,
              "ticks": ""
             }
            },
            "type": "histogram"
           }
          ],
          "histogram2d": [
           {
            "colorbar": {
             "outlinewidth": 0,
             "ticks": ""
            },
            "colorscale": [
             [
              0,
              "#0d0887"
             ],
             [
              0.1111111111111111,
              "#46039f"
             ],
             [
              0.2222222222222222,
              "#7201a8"
             ],
             [
              0.3333333333333333,
              "#9c179e"
             ],
             [
              0.4444444444444444,
              "#bd3786"
             ],
             [
              0.5555555555555556,
              "#d8576b"
             ],
             [
              0.6666666666666666,
              "#ed7953"
             ],
             [
              0.7777777777777778,
              "#fb9f3a"
             ],
             [
              0.8888888888888888,
              "#fdca26"
             ],
             [
              1,
              "#f0f921"
             ]
            ],
            "type": "histogram2d"
           }
          ],
          "histogram2dcontour": [
           {
            "colorbar": {
             "outlinewidth": 0,
             "ticks": ""
            },
            "colorscale": [
             [
              0,
              "#0d0887"
             ],
             [
              0.1111111111111111,
              "#46039f"
             ],
             [
              0.2222222222222222,
              "#7201a8"
             ],
             [
              0.3333333333333333,
              "#9c179e"
             ],
             [
              0.4444444444444444,
              "#bd3786"
             ],
             [
              0.5555555555555556,
              "#d8576b"
             ],
             [
              0.6666666666666666,
              "#ed7953"
             ],
             [
              0.7777777777777778,
              "#fb9f3a"
             ],
             [
              0.8888888888888888,
              "#fdca26"
             ],
             [
              1,
              "#f0f921"
             ]
            ],
            "type": "histogram2dcontour"
           }
          ],
          "mesh3d": [
           {
            "colorbar": {
             "outlinewidth": 0,
             "ticks": ""
            },
            "type": "mesh3d"
           }
          ],
          "parcoords": [
           {
            "line": {
             "colorbar": {
              "outlinewidth": 0,
              "ticks": ""
             }
            },
            "type": "parcoords"
           }
          ],
          "pie": [
           {
            "automargin": true,
            "type": "pie"
           }
          ],
          "scatter": [
           {
            "marker": {
             "colorbar": {
              "outlinewidth": 0,
              "ticks": ""
             }
            },
            "type": "scatter"
           }
          ],
          "scatter3d": [
           {
            "line": {
             "colorbar": {
              "outlinewidth": 0,
              "ticks": ""
             }
            },
            "marker": {
             "colorbar": {
              "outlinewidth": 0,
              "ticks": ""
             }
            },
            "type": "scatter3d"
           }
          ],
          "scattercarpet": [
           {
            "marker": {
             "colorbar": {
              "outlinewidth": 0,
              "ticks": ""
             }
            },
            "type": "scattercarpet"
           }
          ],
          "scattergeo": [
           {
            "marker": {
             "colorbar": {
              "outlinewidth": 0,
              "ticks": ""
             }
            },
            "type": "scattergeo"
           }
          ],
          "scattergl": [
           {
            "marker": {
             "colorbar": {
              "outlinewidth": 0,
              "ticks": ""
             }
            },
            "type": "scattergl"
           }
          ],
          "scattermapbox": [
           {
            "marker": {
             "colorbar": {
              "outlinewidth": 0,
              "ticks": ""
             }
            },
            "type": "scattermapbox"
           }
          ],
          "scatterpolar": [
           {
            "marker": {
             "colorbar": {
              "outlinewidth": 0,
              "ticks": ""
             }
            },
            "type": "scatterpolar"
           }
          ],
          "scatterpolargl": [
           {
            "marker": {
             "colorbar": {
              "outlinewidth": 0,
              "ticks": ""
             }
            },
            "type": "scatterpolargl"
           }
          ],
          "scatterternary": [
           {
            "marker": {
             "colorbar": {
              "outlinewidth": 0,
              "ticks": ""
             }
            },
            "type": "scatterternary"
           }
          ],
          "surface": [
           {
            "colorbar": {
             "outlinewidth": 0,
             "ticks": ""
            },
            "colorscale": [
             [
              0,
              "#0d0887"
             ],
             [
              0.1111111111111111,
              "#46039f"
             ],
             [
              0.2222222222222222,
              "#7201a8"
             ],
             [
              0.3333333333333333,
              "#9c179e"
             ],
             [
              0.4444444444444444,
              "#bd3786"
             ],
             [
              0.5555555555555556,
              "#d8576b"
             ],
             [
              0.6666666666666666,
              "#ed7953"
             ],
             [
              0.7777777777777778,
              "#fb9f3a"
             ],
             [
              0.8888888888888888,
              "#fdca26"
             ],
             [
              1,
              "#f0f921"
             ]
            ],
            "type": "surface"
           }
          ],
          "table": [
           {
            "cells": {
             "fill": {
              "color": "#EBF0F8"
             },
             "line": {
              "color": "white"
             }
            },
            "header": {
             "fill": {
              "color": "#C8D4E3"
             },
             "line": {
              "color": "white"
             }
            },
            "type": "table"
           }
          ]
         },
         "layout": {
          "annotationdefaults": {
           "arrowcolor": "#2a3f5f",
           "arrowhead": 0,
           "arrowwidth": 1
          },
          "autotypenumbers": "strict",
          "coloraxis": {
           "colorbar": {
            "outlinewidth": 0,
            "ticks": ""
           }
          },
          "colorscale": {
           "diverging": [
            [
             0,
             "#8e0152"
            ],
            [
             0.1,
             "#c51b7d"
            ],
            [
             0.2,
             "#de77ae"
            ],
            [
             0.3,
             "#f1b6da"
            ],
            [
             0.4,
             "#fde0ef"
            ],
            [
             0.5,
             "#f7f7f7"
            ],
            [
             0.6,
             "#e6f5d0"
            ],
            [
             0.7,
             "#b8e186"
            ],
            [
             0.8,
             "#7fbc41"
            ],
            [
             0.9,
             "#4d9221"
            ],
            [
             1,
             "#276419"
            ]
           ],
           "sequential": [
            [
             0,
             "#0d0887"
            ],
            [
             0.1111111111111111,
             "#46039f"
            ],
            [
             0.2222222222222222,
             "#7201a8"
            ],
            [
             0.3333333333333333,
             "#9c179e"
            ],
            [
             0.4444444444444444,
             "#bd3786"
            ],
            [
             0.5555555555555556,
             "#d8576b"
            ],
            [
             0.6666666666666666,
             "#ed7953"
            ],
            [
             0.7777777777777778,
             "#fb9f3a"
            ],
            [
             0.8888888888888888,
             "#fdca26"
            ],
            [
             1,
             "#f0f921"
            ]
           ],
           "sequentialminus": [
            [
             0,
             "#0d0887"
            ],
            [
             0.1111111111111111,
             "#46039f"
            ],
            [
             0.2222222222222222,
             "#7201a8"
            ],
            [
             0.3333333333333333,
             "#9c179e"
            ],
            [
             0.4444444444444444,
             "#bd3786"
            ],
            [
             0.5555555555555556,
             "#d8576b"
            ],
            [
             0.6666666666666666,
             "#ed7953"
            ],
            [
             0.7777777777777778,
             "#fb9f3a"
            ],
            [
             0.8888888888888888,
             "#fdca26"
            ],
            [
             1,
             "#f0f921"
            ]
           ]
          },
          "colorway": [
           "#636efa",
           "#EF553B",
           "#00cc96",
           "#ab63fa",
           "#FFA15A",
           "#19d3f3",
           "#FF6692",
           "#B6E880",
           "#FF97FF",
           "#FECB52"
          ],
          "font": {
           "color": "#2a3f5f"
          },
          "geo": {
           "bgcolor": "white",
           "lakecolor": "white",
           "landcolor": "#E5ECF6",
           "showlakes": true,
           "showland": true,
           "subunitcolor": "white"
          },
          "hoverlabel": {
           "align": "left"
          },
          "hovermode": "closest",
          "mapbox": {
           "style": "light"
          },
          "paper_bgcolor": "white",
          "plot_bgcolor": "#E5ECF6",
          "polar": {
           "angularaxis": {
            "gridcolor": "white",
            "linecolor": "white",
            "ticks": ""
           },
           "bgcolor": "#E5ECF6",
           "radialaxis": {
            "gridcolor": "white",
            "linecolor": "white",
            "ticks": ""
           }
          },
          "scene": {
           "xaxis": {
            "backgroundcolor": "#E5ECF6",
            "gridcolor": "white",
            "gridwidth": 2,
            "linecolor": "white",
            "showbackground": true,
            "ticks": "",
            "zerolinecolor": "white"
           },
           "yaxis": {
            "backgroundcolor": "#E5ECF6",
            "gridcolor": "white",
            "gridwidth": 2,
            "linecolor": "white",
            "showbackground": true,
            "ticks": "",
            "zerolinecolor": "white"
           },
           "zaxis": {
            "backgroundcolor": "#E5ECF6",
            "gridcolor": "white",
            "gridwidth": 2,
            "linecolor": "white",
            "showbackground": true,
            "ticks": "",
            "zerolinecolor": "white"
           }
          },
          "shapedefaults": {
           "line": {
            "color": "#2a3f5f"
           }
          },
          "ternary": {
           "aaxis": {
            "gridcolor": "white",
            "linecolor": "white",
            "ticks": ""
           },
           "baxis": {
            "gridcolor": "white",
            "linecolor": "white",
            "ticks": ""
           },
           "bgcolor": "#E5ECF6",
           "caxis": {
            "gridcolor": "white",
            "linecolor": "white",
            "ticks": ""
           }
          },
          "title": {
           "x": 0.05
          },
          "xaxis": {
           "automargin": true,
           "gridcolor": "white",
           "linecolor": "white",
           "ticks": "",
           "title": {
            "standoff": 15
           },
           "zerolinecolor": "white",
           "zerolinewidth": 2
          },
          "yaxis": {
           "automargin": true,
           "gridcolor": "white",
           "linecolor": "white",
           "ticks": "",
           "title": {
            "standoff": 15
           },
           "zerolinecolor": "white",
           "zerolinewidth": 2
          }
         }
        },
        "title": {
         "text": "Ethnicity Distribution"
        }
       }
      }
     },
     "metadata": {}
    }
   ],
   "source": [
    "ditribution_plot(x=ethnicity_dist.index, y=ethnicity_dist.values, name='Ethnicity Distribution')"
   ]
  },
  {
   "cell_type": "markdown",
   "metadata": {
    "papermill": {
     "duration": 0.030852,
     "end_time": "2020-09-24T10:29:06.453845",
     "exception": false,
     "start_time": "2020-09-24T10:29:06.422993",
     "status": "completed"
    },
    "tags": []
   },
   "source": [
    "### Gender Distribution <a id=\"3.3\"></a>"
   ]
  },
  {
   "cell_type": "code",
   "execution_count": 23,
   "metadata": {
    "_kg_hide-input": true,
    "execution": {
     "iopub.execute_input": "2020-09-24T10:29:06.528719Z",
     "iopub.status.busy": "2020-09-24T10:29:06.527689Z",
     "iopub.status.idle": "2020-09-24T10:29:06.533829Z",
     "shell.execute_reply": "2020-09-24T10:29:06.533291Z"
    },
    "papermill": {
     "duration": 0.049129,
     "end_time": "2020-09-24T10:29:06.533952",
     "exception": false,
     "start_time": "2020-09-24T10:29:06.484823",
     "status": "completed"
    },
    "tags": []
   },
   "outputs": [
    {
     "output_type": "display_data",
     "data": {
      "application/vnd.plotly.v1+json": {
       "config": {
        "plotlyServerURL": "https://plot.ly"
       },
       "data": [
        {
         "type": "bar",
         "x": [
          "Male",
          "Female"
         ],
         "y": [
          12391,
          11314
         ]
        }
       ],
       "layout": {
        "template": {
         "data": {
          "bar": [
           {
            "error_x": {
             "color": "#2a3f5f"
            },
            "error_y": {
             "color": "#2a3f5f"
            },
            "marker": {
             "line": {
              "color": "#E5ECF6",
              "width": 0.5
             }
            },
            "type": "bar"
           }
          ],
          "barpolar": [
           {
            "marker": {
             "line": {
              "color": "#E5ECF6",
              "width": 0.5
             }
            },
            "type": "barpolar"
           }
          ],
          "carpet": [
           {
            "aaxis": {
             "endlinecolor": "#2a3f5f",
             "gridcolor": "white",
             "linecolor": "white",
             "minorgridcolor": "white",
             "startlinecolor": "#2a3f5f"
            },
            "baxis": {
             "endlinecolor": "#2a3f5f",
             "gridcolor": "white",
             "linecolor": "white",
             "minorgridcolor": "white",
             "startlinecolor": "#2a3f5f"
            },
            "type": "carpet"
           }
          ],
          "choropleth": [
           {
            "colorbar": {
             "outlinewidth": 0,
             "ticks": ""
            },
            "type": "choropleth"
           }
          ],
          "contour": [
           {
            "colorbar": {
             "outlinewidth": 0,
             "ticks": ""
            },
            "colorscale": [
             [
              0,
              "#0d0887"
             ],
             [
              0.1111111111111111,
              "#46039f"
             ],
             [
              0.2222222222222222,
              "#7201a8"
             ],
             [
              0.3333333333333333,
              "#9c179e"
             ],
             [
              0.4444444444444444,
              "#bd3786"
             ],
             [
              0.5555555555555556,
              "#d8576b"
             ],
             [
              0.6666666666666666,
              "#ed7953"
             ],
             [
              0.7777777777777778,
              "#fb9f3a"
             ],
             [
              0.8888888888888888,
              "#fdca26"
             ],
             [
              1,
              "#f0f921"
             ]
            ],
            "type": "contour"
           }
          ],
          "contourcarpet": [
           {
            "colorbar": {
             "outlinewidth": 0,
             "ticks": ""
            },
            "type": "contourcarpet"
           }
          ],
          "heatmap": [
           {
            "colorbar": {
             "outlinewidth": 0,
             "ticks": ""
            },
            "colorscale": [
             [
              0,
              "#0d0887"
             ],
             [
              0.1111111111111111,
              "#46039f"
             ],
             [
              0.2222222222222222,
              "#7201a8"
             ],
             [
              0.3333333333333333,
              "#9c179e"
             ],
             [
              0.4444444444444444,
              "#bd3786"
             ],
             [
              0.5555555555555556,
              "#d8576b"
             ],
             [
              0.6666666666666666,
              "#ed7953"
             ],
             [
              0.7777777777777778,
              "#fb9f3a"
             ],
             [
              0.8888888888888888,
              "#fdca26"
             ],
             [
              1,
              "#f0f921"
             ]
            ],
            "type": "heatmap"
           }
          ],
          "heatmapgl": [
           {
            "colorbar": {
             "outlinewidth": 0,
             "ticks": ""
            },
            "colorscale": [
             [
              0,
              "#0d0887"
             ],
             [
              0.1111111111111111,
              "#46039f"
             ],
             [
              0.2222222222222222,
              "#7201a8"
             ],
             [
              0.3333333333333333,
              "#9c179e"
             ],
             [
              0.4444444444444444,
              "#bd3786"
             ],
             [
              0.5555555555555556,
              "#d8576b"
             ],
             [
              0.6666666666666666,
              "#ed7953"
             ],
             [
              0.7777777777777778,
              "#fb9f3a"
             ],
             [
              0.8888888888888888,
              "#fdca26"
             ],
             [
              1,
              "#f0f921"
             ]
            ],
            "type": "heatmapgl"
           }
          ],
          "histogram": [
           {
            "marker": {
             "colorbar": {
              "outlinewidth": 0,
              "ticks": ""
             }
            },
            "type": "histogram"
           }
          ],
          "histogram2d": [
           {
            "colorbar": {
             "outlinewidth": 0,
             "ticks": ""
            },
            "colorscale": [
             [
              0,
              "#0d0887"
             ],
             [
              0.1111111111111111,
              "#46039f"
             ],
             [
              0.2222222222222222,
              "#7201a8"
             ],
             [
              0.3333333333333333,
              "#9c179e"
             ],
             [
              0.4444444444444444,
              "#bd3786"
             ],
             [
              0.5555555555555556,
              "#d8576b"
             ],
             [
              0.6666666666666666,
              "#ed7953"
             ],
             [
              0.7777777777777778,
              "#fb9f3a"
             ],
             [
              0.8888888888888888,
              "#fdca26"
             ],
             [
              1,
              "#f0f921"
             ]
            ],
            "type": "histogram2d"
           }
          ],
          "histogram2dcontour": [
           {
            "colorbar": {
             "outlinewidth": 0,
             "ticks": ""
            },
            "colorscale": [
             [
              0,
              "#0d0887"
             ],
             [
              0.1111111111111111,
              "#46039f"
             ],
             [
              0.2222222222222222,
              "#7201a8"
             ],
             [
              0.3333333333333333,
              "#9c179e"
             ],
             [
              0.4444444444444444,
              "#bd3786"
             ],
             [
              0.5555555555555556,
              "#d8576b"
             ],
             [
              0.6666666666666666,
              "#ed7953"
             ],
             [
              0.7777777777777778,
              "#fb9f3a"
             ],
             [
              0.8888888888888888,
              "#fdca26"
             ],
             [
              1,
              "#f0f921"
             ]
            ],
            "type": "histogram2dcontour"
           }
          ],
          "mesh3d": [
           {
            "colorbar": {
             "outlinewidth": 0,
             "ticks": ""
            },
            "type": "mesh3d"
           }
          ],
          "parcoords": [
           {
            "line": {
             "colorbar": {
              "outlinewidth": 0,
              "ticks": ""
             }
            },
            "type": "parcoords"
           }
          ],
          "pie": [
           {
            "automargin": true,
            "type": "pie"
           }
          ],
          "scatter": [
           {
            "marker": {
             "colorbar": {
              "outlinewidth": 0,
              "ticks": ""
             }
            },
            "type": "scatter"
           }
          ],
          "scatter3d": [
           {
            "line": {
             "colorbar": {
              "outlinewidth": 0,
              "ticks": ""
             }
            },
            "marker": {
             "colorbar": {
              "outlinewidth": 0,
              "ticks": ""
             }
            },
            "type": "scatter3d"
           }
          ],
          "scattercarpet": [
           {
            "marker": {
             "colorbar": {
              "outlinewidth": 0,
              "ticks": ""
             }
            },
            "type": "scattercarpet"
           }
          ],
          "scattergeo": [
           {
            "marker": {
             "colorbar": {
              "outlinewidth": 0,
              "ticks": ""
             }
            },
            "type": "scattergeo"
           }
          ],
          "scattergl": [
           {
            "marker": {
             "colorbar": {
              "outlinewidth": 0,
              "ticks": ""
             }
            },
            "type": "scattergl"
           }
          ],
          "scattermapbox": [
           {
            "marker": {
             "colorbar": {
              "outlinewidth": 0,
              "ticks": ""
             }
            },
            "type": "scattermapbox"
           }
          ],
          "scatterpolar": [
           {
            "marker": {
             "colorbar": {
              "outlinewidth": 0,
              "ticks": ""
             }
            },
            "type": "scatterpolar"
           }
          ],
          "scatterpolargl": [
           {
            "marker": {
             "colorbar": {
              "outlinewidth": 0,
              "ticks": ""
             }
            },
            "type": "scatterpolargl"
           }
          ],
          "scatterternary": [
           {
            "marker": {
             "colorbar": {
              "outlinewidth": 0,
              "ticks": ""
             }
            },
            "type": "scatterternary"
           }
          ],
          "surface": [
           {
            "colorbar": {
             "outlinewidth": 0,
             "ticks": ""
            },
            "colorscale": [
             [
              0,
              "#0d0887"
             ],
             [
              0.1111111111111111,
              "#46039f"
             ],
             [
              0.2222222222222222,
              "#7201a8"
             ],
             [
              0.3333333333333333,
              "#9c179e"
             ],
             [
              0.4444444444444444,
              "#bd3786"
             ],
             [
              0.5555555555555556,
              "#d8576b"
             ],
             [
              0.6666666666666666,
              "#ed7953"
             ],
             [
              0.7777777777777778,
              "#fb9f3a"
             ],
             [
              0.8888888888888888,
              "#fdca26"
             ],
             [
              1,
              "#f0f921"
             ]
            ],
            "type": "surface"
           }
          ],
          "table": [
           {
            "cells": {
             "fill": {
              "color": "#EBF0F8"
             },
             "line": {
              "color": "white"
             }
            },
            "header": {
             "fill": {
              "color": "#C8D4E3"
             },
             "line": {
              "color": "white"
             }
            },
            "type": "table"
           }
          ]
         },
         "layout": {
          "annotationdefaults": {
           "arrowcolor": "#2a3f5f",
           "arrowhead": 0,
           "arrowwidth": 1
          },
          "autotypenumbers": "strict",
          "coloraxis": {
           "colorbar": {
            "outlinewidth": 0,
            "ticks": ""
           }
          },
          "colorscale": {
           "diverging": [
            [
             0,
             "#8e0152"
            ],
            [
             0.1,
             "#c51b7d"
            ],
            [
             0.2,
             "#de77ae"
            ],
            [
             0.3,
             "#f1b6da"
            ],
            [
             0.4,
             "#fde0ef"
            ],
            [
             0.5,
             "#f7f7f7"
            ],
            [
             0.6,
             "#e6f5d0"
            ],
            [
             0.7,
             "#b8e186"
            ],
            [
             0.8,
             "#7fbc41"
            ],
            [
             0.9,
             "#4d9221"
            ],
            [
             1,
             "#276419"
            ]
           ],
           "sequential": [
            [
             0,
             "#0d0887"
            ],
            [
             0.1111111111111111,
             "#46039f"
            ],
            [
             0.2222222222222222,
             "#7201a8"
            ],
            [
             0.3333333333333333,
             "#9c179e"
            ],
            [
             0.4444444444444444,
             "#bd3786"
            ],
            [
             0.5555555555555556,
             "#d8576b"
            ],
            [
             0.6666666666666666,
             "#ed7953"
            ],
            [
             0.7777777777777778,
             "#fb9f3a"
            ],
            [
             0.8888888888888888,
             "#fdca26"
            ],
            [
             1,
             "#f0f921"
            ]
           ],
           "sequentialminus": [
            [
             0,
             "#0d0887"
            ],
            [
             0.1111111111111111,
             "#46039f"
            ],
            [
             0.2222222222222222,
             "#7201a8"
            ],
            [
             0.3333333333333333,
             "#9c179e"
            ],
            [
             0.4444444444444444,
             "#bd3786"
            ],
            [
             0.5555555555555556,
             "#d8576b"
            ],
            [
             0.6666666666666666,
             "#ed7953"
            ],
            [
             0.7777777777777778,
             "#fb9f3a"
            ],
            [
             0.8888888888888888,
             "#fdca26"
            ],
            [
             1,
             "#f0f921"
            ]
           ]
          },
          "colorway": [
           "#636efa",
           "#EF553B",
           "#00cc96",
           "#ab63fa",
           "#FFA15A",
           "#19d3f3",
           "#FF6692",
           "#B6E880",
           "#FF97FF",
           "#FECB52"
          ],
          "font": {
           "color": "#2a3f5f"
          },
          "geo": {
           "bgcolor": "white",
           "lakecolor": "white",
           "landcolor": "#E5ECF6",
           "showlakes": true,
           "showland": true,
           "subunitcolor": "white"
          },
          "hoverlabel": {
           "align": "left"
          },
          "hovermode": "closest",
          "mapbox": {
           "style": "light"
          },
          "paper_bgcolor": "white",
          "plot_bgcolor": "#E5ECF6",
          "polar": {
           "angularaxis": {
            "gridcolor": "white",
            "linecolor": "white",
            "ticks": ""
           },
           "bgcolor": "#E5ECF6",
           "radialaxis": {
            "gridcolor": "white",
            "linecolor": "white",
            "ticks": ""
           }
          },
          "scene": {
           "xaxis": {
            "backgroundcolor": "#E5ECF6",
            "gridcolor": "white",
            "gridwidth": 2,
            "linecolor": "white",
            "showbackground": true,
            "ticks": "",
            "zerolinecolor": "white"
           },
           "yaxis": {
            "backgroundcolor": "#E5ECF6",
            "gridcolor": "white",
            "gridwidth": 2,
            "linecolor": "white",
            "showbackground": true,
            "ticks": "",
            "zerolinecolor": "white"
           },
           "zaxis": {
            "backgroundcolor": "#E5ECF6",
            "gridcolor": "white",
            "gridwidth": 2,
            "linecolor": "white",
            "showbackground": true,
            "ticks": "",
            "zerolinecolor": "white"
           }
          },
          "shapedefaults": {
           "line": {
            "color": "#2a3f5f"
           }
          },
          "ternary": {
           "aaxis": {
            "gridcolor": "white",
            "linecolor": "white",
            "ticks": ""
           },
           "baxis": {
            "gridcolor": "white",
            "linecolor": "white",
            "ticks": ""
           },
           "bgcolor": "#E5ECF6",
           "caxis": {
            "gridcolor": "white",
            "linecolor": "white",
            "ticks": ""
           }
          },
          "title": {
           "x": 0.05
          },
          "xaxis": {
           "automargin": true,
           "gridcolor": "white",
           "linecolor": "white",
           "ticks": "",
           "title": {
            "standoff": 15
           },
           "zerolinecolor": "white",
           "zerolinewidth": 2
          },
          "yaxis": {
           "automargin": true,
           "gridcolor": "white",
           "linecolor": "white",
           "ticks": "",
           "title": {
            "standoff": 15
           },
           "zerolinecolor": "white",
           "zerolinewidth": 2
          }
         }
        },
        "title": {
         "text": "Gender Distribution"
        }
       }
      }
     },
     "metadata": {}
    }
   ],
   "source": [
    "ditribution_plot(x=gender_dist.index, y=gender_dist.values, name='Gender Distribution')"
   ]
  },
  {
   "cell_type": "code",
   "execution_count": 24,
   "metadata": {
    "_kg_hide-input": false,
    "execution": {
     "iopub.execute_input": "2020-09-24T10:29:06.608648Z",
     "iopub.status.busy": "2020-09-24T10:29:06.607441Z",
     "iopub.status.idle": "2020-09-24T10:29:06.688491Z",
     "shell.execute_reply": "2020-09-24T10:29:06.687881Z"
    },
    "papermill": {
     "duration": 0.121715,
     "end_time": "2020-09-24T10:29:06.688620",
     "exception": false,
     "start_time": "2020-09-24T10:29:06.566905",
     "status": "completed"
    },
    "tags": []
   },
   "outputs": [],
   "source": [
    "X = np.array(data['pixels'].tolist())\n",
    "\n",
    "## Converting pixels from 1D to 3D\n",
    "X = X.reshape(X.shape[0],48,48,1)"
   ]
  },
  {
   "cell_type": "markdown",
   "metadata": {
    "papermill": {
     "duration": 0.032247,
     "end_time": "2020-09-24T10:29:06.759390",
     "exception": false,
     "start_time": "2020-09-24T10:29:06.727143",
     "status": "completed"
    },
    "tags": []
   },
   "source": [
    "### Sample Images <a id=\"3.4\"></a>"
   ]
  },
  {
   "cell_type": "code",
   "execution_count": 25,
   "metadata": {
    "_kg_hide-input": true,
    "execution": {
     "iopub.execute_input": "2020-09-24T10:29:06.837729Z",
     "iopub.status.busy": "2020-09-24T10:29:06.837036Z",
     "iopub.status.idle": "2020-09-24T10:29:07.797153Z",
     "shell.execute_reply": "2020-09-24T10:29:07.797650Z"
    },
    "papermill": {
     "duration": 1.004995,
     "end_time": "2020-09-24T10:29:07.797839",
     "exception": false,
     "start_time": "2020-09-24T10:29:06.792844",
     "status": "completed"
    },
    "tags": []
   },
   "outputs": [
    {
     "output_type": "display_data",
     "data": {
      "text/plain": "<Figure size 1152x1152 with 20 Axes>",
      "image/svg+xml": "<?xml version=\"1.0\" encoding=\"utf-8\" standalone=\"no\"?>\r\n<!DOCTYPE svg PUBLIC \"-//W3C//DTD SVG 1.1//EN\"\r\n  \"http://www.w3.org/Graphics/SVG/1.1/DTD/svg11.dtd\">\r\n<!-- Created with matplotlib (https://matplotlib.org/) -->\r\n<svg height=\"717.88778pt\" version=\"1.1\" viewBox=\"0 0 906.727586 717.88778\" width=\"906.727586pt\" xmlns=\"http://www.w3.org/2000/svg\" xmlns:xlink=\"http://www.w3.org/1999/xlink\">\r\n <metadata>\r\n  <rdf:RDF xmlns:cc=\"http://creativecommons.org/ns#\" xmlns:dc=\"http://purl.org/dc/elements/1.1/\" xmlns:rdf=\"http://www.w3.org/1999/02/22-rdf-syntax-ns#\">\r\n   <cc:Work>\r\n    <dc:type rdf:resource=\"http://purl.org/dc/dcmitype/StillImage\"/>\r\n    <dc:date>2021-02-27T12:57:27.736295</dc:date>\r\n    <dc:format>image/svg+xml</dc:format>\r\n    <dc:creator>\r\n     <cc:Agent>\r\n      <dc:title>Matplotlib v3.3.4, https://matplotlib.org/</dc:title>\r\n     </cc:Agent>\r\n    </dc:creator>\r\n   </cc:Work>\r\n  </rdf:RDF>\r\n </metadata>\r\n <defs>\r\n  <style type=\"text/css\">*{stroke-linecap:butt;stroke-linejoin:round;}</style>\r\n </defs>\r\n <g id=\"figure_1\">\r\n  <g id=\"patch_1\">\r\n   <path d=\"M 0 717.88778 \r\nL 906.727586 717.88778 \r\nL 906.727586 0 \r\nL 0 0 \r\nz\r\n\" style=\"fill:none;\"/>\r\n  </g>\r\n  <g id=\"axes_1\">\r\n   <g id=\"patch_2\">\r\n    <path d=\"M 10.7 157.158621 \r\nL 160.658621 157.158621 \r\nL 160.658621 7.2 \r\nL 10.7 7.2 \r\nz\r\n\" style=\"fill:#ffffff;\"/>\r\n   </g>\r\n   <g clip-path=\"url(#p434e355f05)\">\r\n    <image height=\"150\" id=\"imagee8c9722517\" transform=\"scale(1 -1)translate(0 -150)\" width=\"150\" x=\"10.7\" xlink:href=\"data:image/png;base64,\r\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\" y=\"-7.158621\"/>\r\n   </g>\r\n   <g id=\"matplotlib.axis_1\">\r\n    <g id=\"text_1\">\r\n     <!-- Age:12  Ethnicity:4  Gender:0 -->\r\n     <g transform=\"translate(11.994154 168.757058)scale(0.1 -0.1)\">\r\n      <defs>\r\n       <path d=\"M 34.1875 63.1875 \r\nL 20.796875 26.90625 \r\nL 47.609375 26.90625 \r\nz\r\nM 28.609375 72.90625 \r\nL 39.796875 72.90625 \r\nL 67.578125 0 \r\nL 57.328125 0 \r\nL 50.6875 18.703125 \r\nL 17.828125 18.703125 \r\nL 11.1875 0 \r\nL 0.78125 0 \r\nz\r\n\" id=\"DejaVuSans-65\"/>\r\n       <path d=\"M 45.40625 27.984375 \r\nQ 45.40625 37.75 41.375 43.109375 \r\nQ 37.359375 48.484375 30.078125 48.484375 \r\nQ 22.859375 48.484375 18.828125 43.109375 \r\nQ 14.796875 37.75 14.796875 27.984375 \r\nQ 14.796875 18.265625 18.828125 12.890625 \r\nQ 22.859375 7.515625 30.078125 7.515625 \r\nQ 37.359375 7.515625 41.375 12.890625 \r\nQ 45.40625 18.265625 45.40625 27.984375 \r\nz\r\nM 54.390625 6.78125 \r\nQ 54.390625 -7.171875 48.1875 -13.984375 \r\nQ 42 -20.796875 29.203125 -20.796875 \r\nQ 24.46875 -20.796875 20.265625 -20.09375 \r\nQ 16.0625 -19.390625 12.109375 -17.921875 \r\nL 12.109375 -9.1875 \r\nQ 16.0625 -11.328125 19.921875 -12.34375 \r\nQ 23.78125 -13.375 27.78125 -13.375 \r\nQ 36.625 -13.375 41.015625 -8.765625 \r\nQ 45.40625 -4.15625 45.40625 5.171875 \r\nL 45.40625 9.625 \r\nQ 42.625 4.78125 38.28125 2.390625 \r\nQ 33.9375 0 27.875 0 \r\nQ 17.828125 0 11.671875 7.65625 \r\nQ 5.515625 15.328125 5.515625 27.984375 \r\nQ 5.515625 40.671875 11.671875 48.328125 \r\nQ 17.828125 56 27.875 56 \r\nQ 33.9375 56 38.28125 53.609375 \r\nQ 42.625 51.21875 45.40625 46.390625 \r\nL 45.40625 54.6875 \r\nL 54.390625 54.6875 \r\nz\r\n\" id=\"DejaVuSans-103\"/>\r\n       <path d=\"M 56.203125 29.59375 \r\nL 56.203125 25.203125 \r\nL 14.890625 25.203125 \r\nQ 15.484375 15.921875 20.484375 11.0625 \r\nQ 25.484375 6.203125 34.421875 6.203125 \r\nQ 39.59375 6.203125 44.453125 7.46875 \r\nQ 49.3125 8.734375 54.109375 11.28125 \r\nL 54.109375 2.78125 \r\nQ 49.265625 0.734375 44.1875 -0.34375 \r\nQ 39.109375 -1.421875 33.890625 -1.421875 \r\nQ 20.796875 -1.421875 13.15625 6.1875 \r\nQ 5.515625 13.8125 5.515625 26.8125 \r\nQ 5.515625 40.234375 12.765625 48.109375 \r\nQ 20.015625 56 32.328125 56 \r\nQ 43.359375 56 49.78125 48.890625 \r\nQ 56.203125 41.796875 56.203125 29.59375 \r\nz\r\nM 47.21875 32.234375 \r\nQ 47.125 39.59375 43.09375 43.984375 \r\nQ 39.0625 48.390625 32.421875 48.390625 \r\nQ 24.90625 48.390625 20.390625 44.140625 \r\nQ 15.875 39.890625 15.1875 32.171875 \r\nz\r\n\" id=\"DejaVuSans-101\"/>\r\n       <path d=\"M 11.71875 12.40625 \r\nL 22.015625 12.40625 \r\nL 22.015625 0 \r\nL 11.71875 0 \r\nz\r\nM 11.71875 51.703125 \r\nL 22.015625 51.703125 \r\nL 22.015625 39.3125 \r\nL 11.71875 39.3125 \r\nz\r\n\" id=\"DejaVuSans-58\"/>\r\n       <path d=\"M 12.40625 8.296875 \r\nL 28.515625 8.296875 \r\nL 28.515625 63.921875 \r\nL 10.984375 60.40625 \r\nL 10.984375 69.390625 \r\nL 28.421875 72.90625 \r\nL 38.28125 72.90625 \r\nL 38.28125 8.296875 \r\nL 54.390625 8.296875 \r\nL 54.390625 0 \r\nL 12.40625 0 \r\nz\r\n\" id=\"DejaVuSans-49\"/>\r\n       <path d=\"M 19.1875 8.296875 \r\nL 53.609375 8.296875 \r\nL 53.609375 0 \r\nL 7.328125 0 \r\nL 7.328125 8.296875 \r\nQ 12.9375 14.109375 22.625 23.890625 \r\nQ 32.328125 33.6875 34.8125 36.53125 \r\nQ 39.546875 41.84375 41.421875 45.53125 \r\nQ 43.3125 49.21875 43.3125 52.78125 \r\nQ 43.3125 58.59375 39.234375 62.25 \r\nQ 35.15625 65.921875 28.609375 65.921875 \r\nQ 23.96875 65.921875 18.8125 64.3125 \r\nQ 13.671875 62.703125 7.8125 59.421875 \r\nL 7.8125 69.390625 \r\nQ 13.765625 71.78125 18.9375 73 \r\nQ 24.125 74.21875 28.421875 74.21875 \r\nQ 39.75 74.21875 46.484375 68.546875 \r\nQ 53.21875 62.890625 53.21875 53.421875 \r\nQ 53.21875 48.921875 51.53125 44.890625 \r\nQ 49.859375 40.875 45.40625 35.40625 \r\nQ 44.1875 33.984375 37.640625 27.21875 \r\nQ 31.109375 20.453125 19.1875 8.296875 \r\nz\r\n\" id=\"DejaVuSans-50\"/>\r\n       <path id=\"DejaVuSans-32\"/>\r\n       <path d=\"M 9.8125 72.90625 \r\nL 55.90625 72.90625 \r\nL 55.90625 64.59375 \r\nL 19.671875 64.59375 \r\nL 19.671875 43.015625 \r\nL 54.390625 43.015625 \r\nL 54.390625 34.71875 \r\nL 19.671875 34.71875 \r\nL 19.671875 8.296875 \r\nL 56.78125 8.296875 \r\nL 56.78125 0 \r\nL 9.8125 0 \r\nz\r\n\" id=\"DejaVuSans-69\"/>\r\n       <path d=\"M 18.3125 70.21875 \r\nL 18.3125 54.6875 \r\nL 36.8125 54.6875 \r\nL 36.8125 47.703125 \r\nL 18.3125 47.703125 \r\nL 18.3125 18.015625 \r\nQ 18.3125 11.328125 20.140625 9.421875 \r\nQ 21.96875 7.515625 27.59375 7.515625 \r\nL 36.8125 7.515625 \r\nL 36.8125 0 \r\nL 27.59375 0 \r\nQ 17.1875 0 13.234375 3.875 \r\nQ 9.28125 7.765625 9.28125 18.015625 \r\nL 9.28125 47.703125 \r\nL 2.6875 47.703125 \r\nL 2.6875 54.6875 \r\nL 9.28125 54.6875 \r\nL 9.28125 70.21875 \r\nz\r\n\" id=\"DejaVuSans-116\"/>\r\n       <path d=\"M 54.890625 33.015625 \r\nL 54.890625 0 \r\nL 45.90625 0 \r\nL 45.90625 32.71875 \r\nQ 45.90625 40.484375 42.875 44.328125 \r\nQ 39.84375 48.1875 33.796875 48.1875 \r\nQ 26.515625 48.1875 22.3125 43.546875 \r\nQ 18.109375 38.921875 18.109375 30.90625 \r\nL 18.109375 0 \r\nL 9.078125 0 \r\nL 9.078125 75.984375 \r\nL 18.109375 75.984375 \r\nL 18.109375 46.1875 \r\nQ 21.34375 51.125 25.703125 53.5625 \r\nQ 30.078125 56 35.796875 56 \r\nQ 45.21875 56 50.046875 50.171875 \r\nQ 54.890625 44.34375 54.890625 33.015625 \r\nz\r\n\" id=\"DejaVuSans-104\"/>\r\n       <path d=\"M 54.890625 33.015625 \r\nL 54.890625 0 \r\nL 45.90625 0 \r\nL 45.90625 32.71875 \r\nQ 45.90625 40.484375 42.875 44.328125 \r\nQ 39.84375 48.1875 33.796875 48.1875 \r\nQ 26.515625 48.1875 22.3125 43.546875 \r\nQ 18.109375 38.921875 18.109375 30.90625 \r\nL 18.109375 0 \r\nL 9.078125 0 \r\nL 9.078125 54.6875 \r\nL 18.109375 54.6875 \r\nL 18.109375 46.1875 \r\nQ 21.34375 51.125 25.703125 53.5625 \r\nQ 30.078125 56 35.796875 56 \r\nQ 45.21875 56 50.046875 50.171875 \r\nQ 54.890625 44.34375 54.890625 33.015625 \r\nz\r\n\" id=\"DejaVuSans-110\"/>\r\n       <path d=\"M 9.421875 54.6875 \r\nL 18.40625 54.6875 \r\nL 18.40625 0 \r\nL 9.421875 0 \r\nz\r\nM 9.421875 75.984375 \r\nL 18.40625 75.984375 \r\nL 18.40625 64.59375 \r\nL 9.421875 64.59375 \r\nz\r\n\" id=\"DejaVuSans-105\"/>\r\n       <path d=\"M 48.78125 52.59375 \r\nL 48.78125 44.1875 \r\nQ 44.96875 46.296875 41.140625 47.34375 \r\nQ 37.3125 48.390625 33.40625 48.390625 \r\nQ 24.65625 48.390625 19.8125 42.84375 \r\nQ 14.984375 37.3125 14.984375 27.296875 \r\nQ 14.984375 17.28125 19.8125 11.734375 \r\nQ 24.65625 6.203125 33.40625 6.203125 \r\nQ 37.3125 6.203125 41.140625 7.25 \r\nQ 44.96875 8.296875 48.78125 10.40625 \r\nL 48.78125 2.09375 \r\nQ 45.015625 0.34375 40.984375 -0.53125 \r\nQ 36.96875 -1.421875 32.421875 -1.421875 \r\nQ 20.0625 -1.421875 12.78125 6.34375 \r\nQ 5.515625 14.109375 5.515625 27.296875 \r\nQ 5.515625 40.671875 12.859375 48.328125 \r\nQ 20.21875 56 33.015625 56 \r\nQ 37.15625 56 41.109375 55.140625 \r\nQ 45.0625 54.296875 48.78125 52.59375 \r\nz\r\n\" id=\"DejaVuSans-99\"/>\r\n       <path d=\"M 32.171875 -5.078125 \r\nQ 28.375 -14.84375 24.75 -17.8125 \r\nQ 21.140625 -20.796875 15.09375 -20.796875 \r\nL 7.90625 -20.796875 \r\nL 7.90625 -13.28125 \r\nL 13.1875 -13.28125 \r\nQ 16.890625 -13.28125 18.9375 -11.515625 \r\nQ 21 -9.765625 23.484375 -3.21875 \r\nL 25.09375 0.875 \r\nL 2.984375 54.6875 \r\nL 12.5 54.6875 \r\nL 29.59375 11.921875 \r\nL 46.6875 54.6875 \r\nL 56.203125 54.6875 \r\nz\r\n\" id=\"DejaVuSans-121\"/>\r\n       <path d=\"M 37.796875 64.3125 \r\nL 12.890625 25.390625 \r\nL 37.796875 25.390625 \r\nz\r\nM 35.203125 72.90625 \r\nL 47.609375 72.90625 \r\nL 47.609375 25.390625 \r\nL 58.015625 25.390625 \r\nL 58.015625 17.1875 \r\nL 47.609375 17.1875 \r\nL 47.609375 0 \r\nL 37.796875 0 \r\nL 37.796875 17.1875 \r\nL 4.890625 17.1875 \r\nL 4.890625 26.703125 \r\nz\r\n\" id=\"DejaVuSans-52\"/>\r\n       <path d=\"M 59.515625 10.40625 \r\nL 59.515625 29.984375 \r\nL 43.40625 29.984375 \r\nL 43.40625 38.09375 \r\nL 69.28125 38.09375 \r\nL 69.28125 6.78125 \r\nQ 63.578125 2.734375 56.6875 0.65625 \r\nQ 49.8125 -1.421875 42 -1.421875 \r\nQ 24.90625 -1.421875 15.25 8.5625 \r\nQ 5.609375 18.5625 5.609375 36.375 \r\nQ 5.609375 54.25 15.25 64.234375 \r\nQ 24.90625 74.21875 42 74.21875 \r\nQ 49.125 74.21875 55.546875 72.453125 \r\nQ 61.96875 70.703125 67.390625 67.28125 \r\nL 67.390625 56.78125 \r\nQ 61.921875 61.421875 55.765625 63.765625 \r\nQ 49.609375 66.109375 42.828125 66.109375 \r\nQ 29.4375 66.109375 22.71875 58.640625 \r\nQ 16.015625 51.171875 16.015625 36.375 \r\nQ 16.015625 21.625 22.71875 14.15625 \r\nQ 29.4375 6.6875 42.828125 6.6875 \r\nQ 48.046875 6.6875 52.140625 7.59375 \r\nQ 56.25 8.5 59.515625 10.40625 \r\nz\r\n\" id=\"DejaVuSans-71\"/>\r\n       <path d=\"M 45.40625 46.390625 \r\nL 45.40625 75.984375 \r\nL 54.390625 75.984375 \r\nL 54.390625 0 \r\nL 45.40625 0 \r\nL 45.40625 8.203125 \r\nQ 42.578125 3.328125 38.25 0.953125 \r\nQ 33.9375 -1.421875 27.875 -1.421875 \r\nQ 17.96875 -1.421875 11.734375 6.484375 \r\nQ 5.515625 14.40625 5.515625 27.296875 \r\nQ 5.515625 40.1875 11.734375 48.09375 \r\nQ 17.96875 56 27.875 56 \r\nQ 33.9375 56 38.25 53.625 \r\nQ 42.578125 51.265625 45.40625 46.390625 \r\nz\r\nM 14.796875 27.296875 \r\nQ 14.796875 17.390625 18.875 11.75 \r\nQ 22.953125 6.109375 30.078125 6.109375 \r\nQ 37.203125 6.109375 41.296875 11.75 \r\nQ 45.40625 17.390625 45.40625 27.296875 \r\nQ 45.40625 37.203125 41.296875 42.84375 \r\nQ 37.203125 48.484375 30.078125 48.484375 \r\nQ 22.953125 48.484375 18.875 42.84375 \r\nQ 14.796875 37.203125 14.796875 27.296875 \r\nz\r\n\" id=\"DejaVuSans-100\"/>\r\n       <path d=\"M 41.109375 46.296875 \r\nQ 39.59375 47.171875 37.8125 47.578125 \r\nQ 36.03125 48 33.890625 48 \r\nQ 26.265625 48 22.1875 43.046875 \r\nQ 18.109375 38.09375 18.109375 28.8125 \r\nL 18.109375 0 \r\nL 9.078125 0 \r\nL 9.078125 54.6875 \r\nL 18.109375 54.6875 \r\nL 18.109375 46.1875 \r\nQ 20.953125 51.171875 25.484375 53.578125 \r\nQ 30.03125 56 36.53125 56 \r\nQ 37.453125 56 38.578125 55.875 \r\nQ 39.703125 55.765625 41.0625 55.515625 \r\nz\r\n\" id=\"DejaVuSans-114\"/>\r\n       <path d=\"M 31.78125 66.40625 \r\nQ 24.171875 66.40625 20.328125 58.90625 \r\nQ 16.5 51.421875 16.5 36.375 \r\nQ 16.5 21.390625 20.328125 13.890625 \r\nQ 24.171875 6.390625 31.78125 6.390625 \r\nQ 39.453125 6.390625 43.28125 13.890625 \r\nQ 47.125 21.390625 47.125 36.375 \r\nQ 47.125 51.421875 43.28125 58.90625 \r\nQ 39.453125 66.40625 31.78125 66.40625 \r\nz\r\nM 31.78125 74.21875 \r\nQ 44.046875 74.21875 50.515625 64.515625 \r\nQ 56.984375 54.828125 56.984375 36.375 \r\nQ 56.984375 17.96875 50.515625 8.265625 \r\nQ 44.046875 -1.421875 31.78125 -1.421875 \r\nQ 19.53125 -1.421875 13.0625 8.265625 \r\nQ 6.59375 17.96875 6.59375 36.375 \r\nQ 6.59375 54.828125 13.0625 64.515625 \r\nQ 19.53125 74.21875 31.78125 74.21875 \r\nz\r\n\" id=\"DejaVuSans-48\"/>\r\n      </defs>\r\n      <use xlink:href=\"#DejaVuSans-65\"/>\r\n      <use x=\"68.408203\" xlink:href=\"#DejaVuSans-103\"/>\r\n      <use x=\"131.884766\" xlink:href=\"#DejaVuSans-101\"/>\r\n      <use x=\"193.408203\" xlink:href=\"#DejaVuSans-58\"/>\r\n      <use x=\"227.099609\" xlink:href=\"#DejaVuSans-49\"/>\r\n      <use x=\"290.722656\" xlink:href=\"#DejaVuSans-50\"/>\r\n      <use x=\"354.345703\" xlink:href=\"#DejaVuSans-32\"/>\r\n      <use x=\"386.132812\" xlink:href=\"#DejaVuSans-32\"/>\r\n      <use x=\"417.919922\" xlink:href=\"#DejaVuSans-69\"/>\r\n      <use x=\"481.103516\" xlink:href=\"#DejaVuSans-116\"/>\r\n      <use x=\"520.3125\" xlink:href=\"#DejaVuSans-104\"/>\r\n      <use x=\"583.691406\" xlink:href=\"#DejaVuSans-110\"/>\r\n      <use x=\"647.070312\" xlink:href=\"#DejaVuSans-105\"/>\r\n      <use x=\"674.853516\" xlink:href=\"#DejaVuSans-99\"/>\r\n      <use x=\"729.833984\" xlink:href=\"#DejaVuSans-105\"/>\r\n      <use x=\"757.617188\" xlink:href=\"#DejaVuSans-116\"/>\r\n      <use x=\"796.826172\" xlink:href=\"#DejaVuSans-121\"/>\r\n      <use x=\"848.755859\" xlink:href=\"#DejaVuSans-58\"/>\r\n      <use x=\"882.447266\" xlink:href=\"#DejaVuSans-52\"/>\r\n      <use x=\"946.070312\" xlink:href=\"#DejaVuSans-32\"/>\r\n      <use x=\"977.857422\" xlink:href=\"#DejaVuSans-32\"/>\r\n      <use x=\"1009.644531\" xlink:href=\"#DejaVuSans-71\"/>\r\n      <use x=\"1087.134766\" xlink:href=\"#DejaVuSans-101\"/>\r\n      <use x=\"1148.658203\" xlink:href=\"#DejaVuSans-110\"/>\r\n      <use x=\"1212.037109\" xlink:href=\"#DejaVuSans-100\"/>\r\n      <use x=\"1275.513672\" xlink:href=\"#DejaVuSans-101\"/>\r\n      <use x=\"1337.037109\" xlink:href=\"#DejaVuSans-114\"/>\r\n      <use x=\"1376.400391\" xlink:href=\"#DejaVuSans-58\"/>\r\n      <use x=\"1410.091797\" xlink:href=\"#DejaVuSans-48\"/>\r\n     </g>\r\n    </g>\r\n   </g>\r\n   <g id=\"matplotlib.axis_2\"/>\r\n   <g id=\"patch_3\">\r\n    <path d=\"M 10.7 157.158621 \r\nL 10.7 7.2 \r\n\" style=\"fill:none;stroke:#000000;stroke-linecap:square;stroke-linejoin:miter;stroke-width:0.8;\"/>\r\n   </g>\r\n   <g id=\"patch_4\">\r\n    <path d=\"M 160.658621 157.158621 \r\nL 160.658621 7.2 \r\n\" style=\"fill:none;stroke:#000000;stroke-linecap:square;stroke-linejoin:miter;stroke-width:0.8;\"/>\r\n   </g>\r\n   <g id=\"patch_5\">\r\n    <path d=\"M 10.7 157.158621 \r\nL 160.658621 157.158621 \r\n\" style=\"fill:none;stroke:#000000;stroke-linecap:square;stroke-linejoin:miter;stroke-width:0.8;\"/>\r\n   </g>\r\n   <g id=\"patch_6\">\r\n    <path d=\"M 10.7 7.2 \r\nL 160.658621 7.2 \r\n\" style=\"fill:none;stroke:#000000;stroke-linecap:square;stroke-linejoin:miter;stroke-width:0.8;\"/>\r\n   </g>\r\n  </g>\r\n  <g id=\"axes_2\">\r\n   <g id=\"patch_7\">\r\n    <path d=\"M 195.417241 157.158621 \r\nL 345.375862 157.158621 \r\nL 345.375862 7.2 \r\nL 195.417241 7.2 \r\nz\r\n\" style=\"fill:#ffffff;\"/>\r\n   </g>\r\n   <g clip-path=\"url(#p3929c83041)\">\r\n    <image height=\"150\" id=\"image0f58c2dfce\" transform=\"scale(1 -1)translate(0 -150)\" width=\"150\" x=\"195.417241\" xlink:href=\"data:image/png;base64,\r\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\" y=\"-7.158621\"/>\r\n   </g>\r\n   <g id=\"matplotlib.axis_3\">\r\n    <g id=\"text_2\">\r\n     <!-- Age:12  Ethnicity:4  Gender:0 -->\r\n     <g transform=\"translate(196.711395 168.757058)scale(0.1 -0.1)\">\r\n      <use xlink:href=\"#DejaVuSans-65\"/>\r\n      <use x=\"68.408203\" xlink:href=\"#DejaVuSans-103\"/>\r\n      <use x=\"131.884766\" xlink:href=\"#DejaVuSans-101\"/>\r\n      <use x=\"193.408203\" xlink:href=\"#DejaVuSans-58\"/>\r\n      <use x=\"227.099609\" xlink:href=\"#DejaVuSans-49\"/>\r\n      <use x=\"290.722656\" xlink:href=\"#DejaVuSans-50\"/>\r\n      <use x=\"354.345703\" xlink:href=\"#DejaVuSans-32\"/>\r\n      <use x=\"386.132812\" xlink:href=\"#DejaVuSans-32\"/>\r\n      <use x=\"417.919922\" xlink:href=\"#DejaVuSans-69\"/>\r\n      <use x=\"481.103516\" xlink:href=\"#DejaVuSans-116\"/>\r\n      <use x=\"520.3125\" xlink:href=\"#DejaVuSans-104\"/>\r\n      <use x=\"583.691406\" xlink:href=\"#DejaVuSans-110\"/>\r\n      <use x=\"647.070312\" xlink:href=\"#DejaVuSans-105\"/>\r\n      <use x=\"674.853516\" xlink:href=\"#DejaVuSans-99\"/>\r\n      <use x=\"729.833984\" xlink:href=\"#DejaVuSans-105\"/>\r\n      <use x=\"757.617188\" xlink:href=\"#DejaVuSans-116\"/>\r\n      <use x=\"796.826172\" xlink:href=\"#DejaVuSans-121\"/>\r\n      <use x=\"848.755859\" xlink:href=\"#DejaVuSans-58\"/>\r\n      <use x=\"882.447266\" xlink:href=\"#DejaVuSans-52\"/>\r\n      <use x=\"946.070312\" xlink:href=\"#DejaVuSans-32\"/>\r\n      <use x=\"977.857422\" xlink:href=\"#DejaVuSans-32\"/>\r\n      <use x=\"1009.644531\" xlink:href=\"#DejaVuSans-71\"/>\r\n      <use x=\"1087.134766\" xlink:href=\"#DejaVuSans-101\"/>\r\n      <use x=\"1148.658203\" xlink:href=\"#DejaVuSans-110\"/>\r\n      <use x=\"1212.037109\" xlink:href=\"#DejaVuSans-100\"/>\r\n      <use x=\"1275.513672\" xlink:href=\"#DejaVuSans-101\"/>\r\n      <use x=\"1337.037109\" xlink:href=\"#DejaVuSans-114\"/>\r\n      <use x=\"1376.400391\" xlink:href=\"#DejaVuSans-58\"/>\r\n      <use x=\"1410.091797\" xlink:href=\"#DejaVuSans-48\"/>\r\n     </g>\r\n    </g>\r\n   </g>\r\n   <g id=\"matplotlib.axis_4\"/>\r\n   <g id=\"patch_8\">\r\n    <path d=\"M 195.417241 157.158621 \r\nL 195.417241 7.2 \r\n\" style=\"fill:none;stroke:#000000;stroke-linecap:square;stroke-linejoin:miter;stroke-width:0.8;\"/>\r\n   </g>\r\n   <g id=\"patch_9\">\r\n    <path d=\"M 345.375862 157.158621 \r\nL 345.375862 7.2 \r\n\" style=\"fill:none;stroke:#000000;stroke-linecap:square;stroke-linejoin:miter;stroke-width:0.8;\"/>\r\n   </g>\r\n   <g id=\"patch_10\">\r\n    <path d=\"M 195.417241 157.158621 \r\nL 345.375862 157.158621 \r\n\" style=\"fill:none;stroke:#000000;stroke-linecap:square;stroke-linejoin:miter;stroke-width:0.8;\"/>\r\n   </g>\r\n   <g id=\"patch_11\">\r\n    <path d=\"M 195.417241 7.2 \r\nL 345.375862 7.2 \r\n\" style=\"fill:none;stroke:#000000;stroke-linecap:square;stroke-linejoin:miter;stroke-width:0.8;\"/>\r\n   </g>\r\n  </g>\r\n  <g id=\"axes_3\">\r\n   <g id=\"patch_12\">\r\n    <path d=\"M 380.134483 157.158621 \r\nL 530.093103 157.158621 \r\nL 530.093103 7.2 \r\nL 380.134483 7.2 \r\nz\r\n\" style=\"fill:#ffffff;\"/>\r\n   </g>\r\n   <g clip-path=\"url(#p75ae1258a8)\">\r\n    <image height=\"150\" id=\"image736049364b\" transform=\"scale(1 -1)translate(0 -150)\" width=\"150\" x=\"380.134483\" xlink:href=\"data:image/png;base64,\r\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\" y=\"-7.158621\"/>\r\n   </g>\r\n   <g id=\"matplotlib.axis_5\">\r\n    <g id=\"text_3\">\r\n     <!-- Age:12  Ethnicity:4  Gender:0 -->\r\n     <g transform=\"translate(381.428637 168.757058)scale(0.1 -0.1)\">\r\n      <use xlink:href=\"#DejaVuSans-65\"/>\r\n      <use x=\"68.408203\" xlink:href=\"#DejaVuSans-103\"/>\r\n      <use x=\"131.884766\" xlink:href=\"#DejaVuSans-101\"/>\r\n      <use x=\"193.408203\" xlink:href=\"#DejaVuSans-58\"/>\r\n      <use x=\"227.099609\" xlink:href=\"#DejaVuSans-49\"/>\r\n      <use x=\"290.722656\" xlink:href=\"#DejaVuSans-50\"/>\r\n      <use x=\"354.345703\" xlink:href=\"#DejaVuSans-32\"/>\r\n      <use x=\"386.132812\" xlink:href=\"#DejaVuSans-32\"/>\r\n      <use x=\"417.919922\" xlink:href=\"#DejaVuSans-69\"/>\r\n      <use x=\"481.103516\" xlink:href=\"#DejaVuSans-116\"/>\r\n      <use x=\"520.3125\" xlink:href=\"#DejaVuSans-104\"/>\r\n      <use x=\"583.691406\" xlink:href=\"#DejaVuSans-110\"/>\r\n      <use x=\"647.070312\" xlink:href=\"#DejaVuSans-105\"/>\r\n      <use x=\"674.853516\" xlink:href=\"#DejaVuSans-99\"/>\r\n      <use x=\"729.833984\" xlink:href=\"#DejaVuSans-105\"/>\r\n      <use x=\"757.617188\" xlink:href=\"#DejaVuSans-116\"/>\r\n      <use x=\"796.826172\" xlink:href=\"#DejaVuSans-121\"/>\r\n      <use x=\"848.755859\" xlink:href=\"#DejaVuSans-58\"/>\r\n      <use x=\"882.447266\" xlink:href=\"#DejaVuSans-52\"/>\r\n      <use x=\"946.070312\" xlink:href=\"#DejaVuSans-32\"/>\r\n      <use x=\"977.857422\" xlink:href=\"#DejaVuSans-32\"/>\r\n      <use x=\"1009.644531\" xlink:href=\"#DejaVuSans-71\"/>\r\n      <use x=\"1087.134766\" xlink:href=\"#DejaVuSans-101\"/>\r\n      <use x=\"1148.658203\" xlink:href=\"#DejaVuSans-110\"/>\r\n      <use x=\"1212.037109\" xlink:href=\"#DejaVuSans-100\"/>\r\n      <use x=\"1275.513672\" xlink:href=\"#DejaVuSans-101\"/>\r\n      <use x=\"1337.037109\" xlink:href=\"#DejaVuSans-114\"/>\r\n      <use x=\"1376.400391\" xlink:href=\"#DejaVuSans-58\"/>\r\n      <use x=\"1410.091797\" xlink:href=\"#DejaVuSans-48\"/>\r\n     </g>\r\n    </g>\r\n   </g>\r\n   <g id=\"matplotlib.axis_6\"/>\r\n   <g id=\"patch_13\">\r\n    <path d=\"M 380.134483 157.158621 \r\nL 380.134483 7.2 \r\n\" style=\"fill:none;stroke:#000000;stroke-linecap:square;stroke-linejoin:miter;stroke-width:0.8;\"/>\r\n   </g>\r\n   <g id=\"patch_14\">\r\n    <path d=\"M 530.093103 157.158621 \r\nL 530.093103 7.2 \r\n\" style=\"fill:none;stroke:#000000;stroke-linecap:square;stroke-linejoin:miter;stroke-width:0.8;\"/>\r\n   </g>\r\n   <g id=\"patch_15\">\r\n    <path d=\"M 380.134483 157.158621 \r\nL 530.093103 157.158621 \r\n\" style=\"fill:none;stroke:#000000;stroke-linecap:square;stroke-linejoin:miter;stroke-width:0.8;\"/>\r\n   </g>\r\n   <g id=\"patch_16\">\r\n    <path d=\"M 380.134483 7.2 \r\nL 530.093103 7.2 \r\n\" style=\"fill:none;stroke:#000000;stroke-linecap:square;stroke-linejoin:miter;stroke-width:0.8;\"/>\r\n   </g>\r\n  </g>\r\n  <g id=\"axes_4\">\r\n   <g id=\"patch_17\">\r\n    <path d=\"M 564.851724 157.158621 \r\nL 714.810345 157.158621 \r\nL 714.810345 7.2 \r\nL 564.851724 7.2 \r\nz\r\n\" style=\"fill:#ffffff;\"/>\r\n   </g>\r\n   <g clip-path=\"url(#pec40a0be4e)\">\r\n    <image height=\"150\" id=\"image2f766e6f00\" transform=\"scale(1 -1)translate(0 -150)\" width=\"150\" x=\"564.851724\" xlink:href=\"data:image/png;base64,\r\niVBORw0KGgoAAAANSUhEUgAAAJYAAACWCAYAAAA8AXHiAAAdMUlEQVR4nO2dSawlV33GT90a7nzve/2Gfq/b7W63u9ttm8ZWgJhgSAReRGITAWJFFglZhWSdRaSsyCJSFllGyYIFEooSRUpYkABCxCEGEjA2g42Hdrfx0IP7TffNd6ghi8T1/c7pW7YRqazOt/q/e6vqVNU973znPwe/8dm/LMz/4mi58bZoxstBKafd8hCTNSUbY0wR6e8gC/AFDsLH1rkN/BHqBF7TGGNMlEvGOUGYQ8Z9NCRHUabPcR/83BhjWnFayr3mpJSXWoelvNbal9zcLeX1eFTKsyIs5Q+3r1tjXEniUp4UGq/TSEr5KJ+WcjOIzDzkppj7uTHGHOS693Gh9/OP+w+X8pdffayUt7Z6pRzdbJZy1sLvETrjFXqR4URysiO5YTw8aoCfWB61IAonWuYaYIcAcmMKDnFoLc8rjuOUxTEFVvc8wXIbzD/+ri8DfRkluslWWxRCWmtFknNcpxHYy3sc6lrdeGrmYZLr5kl5+3mrlBfCo1K+Nluxzr+SjEqZ9LebH+vzQJ+/OBOt/cvB+0r52d17S/nVvRPWGBs7/VLON0VtnRu631kfzz7Q+8xjfM7fIzQ2Ch2X63bNeAVzyXh41AA/sTxqQdSYQrPKtOaFWoVNHuMMh6ZIfwFpEdoCKS+HxlbEFdqN83ncEzUlTWhTTdAfKI+Y5frfKUCFs8z9n4LGlory2vGslI9SrfspVNpGW/fbaeiexgVfnDHHBSgWj/jCVNf98tbjpfz17z1ays0dPAdoKpFyaowxBgq8mQ4lT5bwG0Drjg513bSrHzA8wni2Am1yKqsYL+/ofL9iedQCP7E8akE0PqF1bdrXGptJobA1RIdxuCySCkl/GTQHaoWW4a2pQZKO6McYYzotGA2h8UUNDZiBHw7GuvnJVAM2QMOxYyBtJxqTGiI1yUmmax1nork3x4s6Bi9kNdmzxvjixodL+R/+69f1HCNtQRp49AjaWIF7T9v6fHrC3pvEe1orogNsR4bQ2GjU3KXGjXP39XkR26aAKTTJAr9zMPMGUo+a4SeWRy3wE8ujFkTNPe0nxotQMd/jlOO+inspWm6zHvYz2Fc1OjAddGXfCByr+DTVZoN7KZoPUh4DZ3hI5zSuyz2VMcYMm+O5x3FftdiUVb0f6X5PJHJUx3BfHHGjaowZhrKw904elPJ0S3aB6JhmGpyMVxJOYTqwhzBph6YEmILS+d6T6ZB7NwzC8Y7tPRaDDWiK4M/mVyyPWuAnlkctiPbOaKmPj7jEchnVCWPbr2pTJlbMnHFbTVhkY62dpD86haczOw4pz2Exh/kgh1Wd9NVAnBbjrmiecC313Vj30grnW/FXEY/Vg2uiH47xueQ4cEzWwO9f/M9S/s6Ji6X88++fL+Xm5nxaTDu4kLM05C2NmR6BsrAlyBFrRc+JRXn4+bKOvTWhSYS/OU1JfsXyqAV+YnnUgohLWaqwIkvD6+xoKTxesy9ArZC0mLcq6K83n/5SOIVJfcYYk+G7bExTPyzpba3PSTLfOh+FbqCXMExEYatNUV4Ir3snlAdgNd6be8xSJG3PxRQxXN2G3sMTyy+W8uC3pDl+9/sPaYzxfGc/ncXGGJNVaOmkPEQsW05ohp1zK5M7EdKtDZ3DXUseeie0R83wE8ujFkRLP9PSu3NZ3s0YK3o0rk65obEsGyAjpi06arZtY+TbGE/kyC3y+YZPY4zJJnDSglbhMzURMnlo/Fxs6fmo+bk43RqV8nIsKmQIMmOtlkK9oMzQ+ar7SBytsBNo/KNCls1RIDXvUveOnuOjeo5vPqvQ5GCse4r33d8DW4pkPp2RFicr2Dbs6bqWEbRna8njVTq0oZl7J7RH3fATy6MWRPGW/FyNmaiQBrUgg//pwJ6LM/iaio6W/jiZbxycjEV/uUN55XUcrZCxuHmKpRcxSjlihjKcH9IoCsOnm6WzMVXi5mgmampDE1yM5CvcSbulTEPoEFk6K5Eo1RhbE2wFojlqlbzWWlOa5yceeaGUv/2stMXZgkOF8AlSM+fWpNiQukjKS7GVCQ8RDJbZYzRAeTH8kbk3kHrUDT+xPGpBVLz6RvlH80ElP2YT+pko2xdIe8jsQBgM/XU0cFoaH2T6+khxxhgTIGyZxr0c2uIs1Dq8Dyo8nmjZZ2hyYQ9hugh/ThCafE9/VMpvGIUg701lTR7AuHqmvVPK46adpUNqjOGApa9xNxMNj5Eedbl3q5R3HtaW5cc/k2/RGGPyBPQHjc2k2ILYt6XjGZKErZBFi8Y20ILRTXvba4UeNcNPLI9aEAUJU2gktje0xu2d1TGznlPGKKazEBoGnEikL8u+yohDt3QRkE6YrjI/EpK0mB+jxgJpleWNmtUhLQcYY/e4NfcYS6tEYugx3ufmrG+IHM7UU7Eoc+buL8rjdR9vjLVNuTK8Wco7lzrWOTeePlXKjCBlpCjLRIXHMKjic6uuhnN7vG5zZOYe51csj1rgJ5ZHLYiKVNpJsic53pOWNFlEpbeeTSFBa77GRj8eKYtV9azKe/ABpjNX9WQZv4pSO9AEqUU2KpIp3ISNyTiZ/x1CcEJoujS8Jg1GqUpeR9kiF6OsM/dzaoJMft1HTFM71DbliZMvWed/6dSS7uVlncMSVTleXMyEVXyeMYSqbb8r+iejY0T+Dr1W6FEz/MTyqAV+YnnUgqjIUIxjQw7pyaqcrONlqJ6JHd7LPVOOvVFQFQaMPQ8d1b22HLT7ha3iz1g8ZIr/BezRLOv8DOG2R/Pjhe6q5DzQvmVhQY7ktb6s5bSwLyNJldiFI/9GY9H67t7mlsaAs/oQWafc/9A8wX0V0XAqKD9xWXuuJ2+9X1/wd2rrt0m7qI+FbJyqasjG2DW59mD4D3JfKtKjZviJ5VELrPyLxh7ijT4mS2/ah67q1pInNdGJiVoKVr0GJJC2UeqRzt7XcptCphMmqfKGIW7KXMCMFjpcGW/UPKGQZWOMGXRFc+eG26VMp/JSLPo729wsZVrOX5ssl/Jb04E1xgiZpr85EGVZlZbz1VK+M1GMGC39/Uj36uL9vTdL+XsXz5Xy9JruhZZ3vp8CmTnxJkphOiy8fx+zeWhjkuhXLI9a4CeWRy2wqDBblNN0vMwvYNV26htZ5R5/yWnKbBou9Q1HY7N64Gxp7W6/BQvyAcvxoNYD/MDJCI/7uu0g3lqRFrwVyHr9Q4T3xkNprsO+qHShLZlljGa57UGYoSr1ASowf2R4rZRvTeTR3hrrntjT573iibMvl/LXXvtAKQfI0mHpzwBlJpmldXTK3v/QQR0wDHzsLe8eNcNPLI9aYMVj7Z+XFsLqbtQKrCpzxglnfYd2Z+W1wvlxULtTGRZHe46D9rYMiAOxhkXDh6fpQJ1/H1ZtibZtwC2o3SD5le3qlhbED2egxY5RQXlvIuPuJLOpcIIYtV8UotvnNtZLOYTRd+9Q1+quSYNmnFbLUdmYPLuGqs3BSVRMvAnnNIzG7dsae/cS3oHzOi0f/QjG6MQbSD1qhp9YHrUgCpritsOT8PWB1phZ4xrLrG6fnKYMCQadZPAnstD/zoHoL9130kiGUl22P4R7YRImtJMIMVQJ/JHUQtkjxxg7vupMT0bRhVga32piJ6C+DdZ0YMLpCaekUb+hax3BP3h9IqPoU1v3l/LmbRk1t4d6P7diaY5u4i0L6A6RYHtmVUbfN26Jelt3kNG0Cu2f8Vstx+/LwsXYdoRHXiv0qBl+YnnUgsgsyS+XSim0QlanC6DFu+JN5hvLbMMpfEtTUeHRkeiAocnNRdsXRgMpE02ZgMoqgCxpVNV67lTP7sd2obtRyu/vvF7KIZ7v5kzvqg/KORfLb8hWcnu5Hf4TBvNDiU7GupeTbdHti8iAqurvw54+xthUHKK83+Mranz+dw1RIQvl0vBpwf3J8fdsAfcVotzU/Ct5ePxq8BPLoxZE03WEdnClhm2PGsJdrVAYNdOYv5QGFRoi6a8FjY2t41xQe4shp6j5zrYo4ymqBrIcklNCiRkxpD9qcnHQh4xWMaA/GihDx2A8QyF0nkMN8c3DhVLuDrQlYCYQNUHWmzfGptsMPxajVxkeg2pMlvHbNYoSViQuyyb5DqsedcNPLI9aEE0Xonc9yFoW33GNfPcBmUDaqKjBzk5cxhjTRxLDwUy0YTUPxzqewkdHKsyQ+PpKzrgg2993b1PGxGZDqvJmKio8k4haOqjUtw9NsAXDqTE2NfUbeqZXxid1/kTPt9xTqMy9MNqy29hybBthG6BCRrYmKJt0/2XVfnglUuH+aAeRuqzd4NTVoF/VKpXETrzGw6MG+InlUQv8xPKoBdG0++5zyzIxOGp6UGEZKOIK0wP2aDQxDFraczSdlm99FP5fTKT+76faj+wiDmp7Rzp0saO9V7yrB5kcQc82xrwwVFbSc52z+mJB9/i+s9qbLEboqgrTw2qkGKiFhpzAxhhzaHQvRwhbvn6o/R69A+f7SHCNda17Eu23uL8zptq6z6TYz6w/U8qbK9o3funZj5RysI0iKan9m1v1zvgzN+aKHh7/d/ATy6MWRLMuLMVYVdktk6urG49FlT+jhZ0VkWligFmhDQv7EBTHFm/GGBPhBrpo8t1EisnVDHTyc4U5L15F3S3EDnVu26aAtCdqYtfZ3Ud1/rVNhRN/wzxcys/9RNRZdHX8H3zoKWsMtqJ7faJrbU/kCb6nNyrlfqz3sI6CCXSAu11c2aSgUdGYYANmk0stVWNeP6mxb28rRqwxdrY/7GyLXQsraPsVy6MW+InlUQuirIUYqvm1/S3ndOBORX7HeCxDCzsoCIX6u7FkOlaHsV1Xgb1mBqhbQMvyQlufH74B5zSapt95DLUJRna6UbKHGKc1eAQQ/jzoaIzzPcVgjR4Q9VKjPcrsMa6msrDfGiu82CqP1JQlnb17WGWZtR7iKrXc2I5utsGjhriNILxebG8P3kbg9DYi+1Y5YvyK5VEL/MTyqAWRZeBiwTtLE0TMTdNZ+/IKGaAmGKOMEWmjE83PdDHGpgRmnhzB8Uwn7dNr92iMXbbEQ4ODvv0c03W0eUNPICapfmBZJYIe6shYevmMNCv33okfHZzTeDCQ9qHpkvZPwAi7AsPrGmht5gTIjfI2vkOMGZreUHNklWarWjRfj5ukwwwesH04Rukj4+FRA/zE8qgFdjBWBRVaq7tLd7iC1XMFGSaNipDlCBduNijbmg4TP6kRLYT6v9htycj45AUkrD6DmCRkHhV7tqZzjAyTxTXRzmpXY1/ovFXKDzdFi3ZxWt3TtamMjMbYz7vW0hikzx5okc/NY1jQ1k1YJdjFtUq+mS2U8ioyhF7f1nPMBvYY7KVTwJbN4/yK5VEL/MTyqAURV1IWoLOosEJDNMaYjOExFS3cmGRqZ8qgghyo0A39oHZDULs5CT/c2lmFm4xuyyiJRJW7DHspqtntoIwSw3kO0GDmRqrkVT7HHrSyI6fmEzVJdlJlyDLrvFNjozF4hvXAzTbK3kN8OI2qVVps2mXrOafZOE+hsRT14P2K5VEL/MTyqAUR7WtFxSpqdXJztEJ25WTUaIgWJPQP9poI62BGCXh47HTDHoMKqYFl+L8gBax3RYu3zy7oXmNRUzKqpowMHVpJNfugwo1Uib7UsmjgPJ+oHoQxdvLrdiYf3RszRa8yyZXPtw+KZYaPC24bpqBP0h+PuX68UsovbmvbQAOpm6WTdub7lzlR/IrlUQv8xPKoBZHVuxsrHiM+GDUaOAxiBdqDJtmN1KqkF0nuQKZW6GoqM9RVGDdEk+w6Sq2J1+0OEU6D9ixBatOtpe0iCXOcsqZDPleuCmNxtVv+bRlVsR8ZRvPruW8hvIVapDsGrxtWOW+Bcy2pyv/63AdLOUL3Lzcyh8ouaZJzwa9YHrXATyyPWuAnlkctqKwIYhXbj6uOcvZf2LBFiLuiyj7JNOQR9jncY20bO5l0L9BeajeT2s14JZoo9mY6/vgIiZdt9Lnp28X9I1iXGYrbQXXlYSRzAR3ENCPMUFiM+x1jjJkFjI/S/qcXzrfuVxX42HdKUBLcrzGZlftWFivhcyy+oOuwW+r+GXtjzYIh/P3Z7d6vWB61wE8sj1pgUWGV5R2r810Jq/aBEDPNWTqeJ1Dfdwo0DcBS33IaazN0l8exvCPpdgWZLqtLssJv7ChR0w2xptWEKnRUUQuBFnJmwzAey3WejzJRPB3UuyhdzN44yzBjkApJX7kTmkwneFJh+qCngBTJLc/qU8pCOlyXdd4YYzKWmhzMjwfzK5ZHLfATy6MWRI2KjAus7la/FEfRsVqJsYRghmbj24hvaja1PLPo/0Ygy3LilDEatESFy23RwD2dUSmTFrcmohyG7rLfTuEEZAWMY0r0HMwkaoKm6PTeh0OZNOOC9RpujBdKmU0AVpsKD86seDXdB0teutZ1Oq6TimTWWYVTf7wEzfhY77x9x35XR/fA2g6PBYMQ/IrlUQv8xPKoBVFjimWuPd+hTKRd5wvGasF5m42pSrKt3Pzm1FSgDk/YdDJKRG0bXcnJmnh8AWWQaFjcR+u6fIK2eW5lQlb8RSu6AUoJUYNi0f8pGwO8gzX55QNl7fz05imdP0bSKN7VhXXFc10cSL4zEfUuJnbVwKV4fkVlGksZp3VjqhDrZIQtz1Dv+cTzdmXmnYf1XV7RzdavWB61wE8sj1oQsbZBhpI/jMeyQpMzp9ApqvWFh5qnrW1Sno6fwQ3ITBADBWb9W7Zhcfc+Xffjn36+lFnw9auvXinl6XMqEVRcFDUEY7Q9czJPaGdsthA/BmMtSwERVfR39fik9fePfnCxlFubGvDCkyiU+7oMkwePni7lhT9/rZS3p0jO/eaj1hjT0/IDPnbpVV0X7d/OImT62qGMny1Q4ewESjNdt0Osw7GomI9uZXMZD48a4CeWRy2Iem+Kp9KWlj87BpmONPsCLF2TjPR5sg+KhObZva1jth/UuSs/Fhf2f6yyQMYYs/ANUdC32r9Wyn/7u39dyn//8kdLuYW6DIdbeqbwgClJ9nNkoIousopOtUaSUVVvhIRTNgu/PVX2zo82z1hjtDY0PovuRjui9GxloZS3H9KW4CtPP1bKyS1oka5SNmGXU325jf5xLI57bVdG294NaY5FyPoMdi351ia2TG2vFXr8P8JPLI9aEEVvqX54exHRljCiUavL3URPZvlk8Mthyra2sOwfS16ZaqnvXR3p3D1b+xr99gMa/5I0qL947ZMYW8ePl3Uf7TdhFIXWMnMq+pEaU4T8bEwVanMdZYmqNEG7HoVtTD46i/JKe3r2IEPC6hTnQIw3Nd50Df7LoZ28+oF1bSMe6KnsUh8/4glot1sjGFvfUoiRQYmoYkX3Z4wxrDIFF61tZDYeHjXATyyPWhAVt+6Uf3T3RTO9GEt9JDrJe9KGjDEmXUQx1YHWxckAtRiWJDdBpWlT83p0Rctt4yH5r4wx5ngZUZm78tG9cCB/Ww8GWUa8ph0G/uMYJ/zHMOQHfsQ7MAY+H8pgyYK7O6n9Tt7Gamff+ju8oDG213XOm9vS2OIWQ12knZ5eHpXypaF+s7OtbUMsxxqTBl1qsawDkW7qZQUTXauI9VsWHbscUzhGvXwUDJ6u6t79iuVRC/zE8qgFfmJ51IIoP5YaGqTiyCBk3UjYFO7ISWqMMXEkLo5xTgfqqllCWcW+OL04Dd5nK7fLTvnCge6xgc6fTThyj08iXBamA1b4pZU4G9hhu3FH+5lWPD+kdw9FSKpKLDJEepzZJglmEi10ZP0+szDS/eK693VVsIPFO5il44ZCM5mVmT0MWWY4crKN3zlFxs6yPAiNY3sMmhhiVp/GF37F8qgFfmJ51IIogFoZgPICUJxpwCE5dZbFiRyUPIdUml9/XSegU3X3Jam93fukymeJbendvyJqKoYafxyIapo76OOC7mizHmKMFuEB6DtJsV3R7RCVktnjh7FZPbSjPYDtgs0Plpp2ratj1KrYn+icPYRPd1FLrBUiMwdrQKOtd3jOKUdJkBYZG8YaFDFvMQMVJqC1A9sJTdzlwXj7nMozPDx+BfiJ5VELIovysBQWGQsx4Ay3ViRgaZhhOP8gfF5MwVk/f6UUT73knPvQhVLc/KC0lWl//r2MV0l/opPWCd1fr20v76f7csYPkPFD+iPNscaCXZJI12VsljHGPDhUMNrNY4VP3z7UccwqujpT2PDrkTTrO305xq+27PDn003FjN2eoIsrOtN2sFeImORDbwtfbWZrwLMeNW09O3sp+RXLoxb4ieVRC6or+sFYSsoKIicOCRojNUyTz9cWrM95blMU4GqexU9eLOWVl6Xp5A+fL+VXPyVncXQBjtiuaG2QQIN1YnpPdUSFfdAGayMwAZRV+GiI5PEtp+YTjaoPdESLO0gOZYPyWVGxnQDcY145UszYhY6c1Rebis1iKHV8gPdAxzPjsbp2BcEJ4t0Yx9ZAArJfsTxqgZ9YHrUgMg1mrrCDgJbtSg3POJpdgAL974EWi9l8n5yLRgv1F6h5PvtSKZ+LHizla18QXd+3fkPnQtVp31U1UNclhTWs3jY6f4CCtjResoHAWiB6NcaumUDcn4iyWCi3Cz/gIepK3U4XSvnmzI5d4/jMKmKlwc2Ztg3xIeO1ETp9XdR5+IiM18bYlR+ZwOwTVj1qh59YHrUgsoxf+bv3XglCdy5CSyyYYVKhFUITNCmOJ/UmdigsKZO0SITPiBYv/5mMhj/4I2X4/M7HfzD/nozdoZWaFksiDZHoyaRPIoY1+a5eOm6W7JwxSKt3UCmQ12Jn2fPQ9tzxrbFxPkN74gP+ZuQy3cdkaFN4+w58x/iKFOlXLI9a4CeWRy2ILM2MNEUqg7ZnaZHGmAB/U0MssvlLciNE3QEaRTMtw7lTK8DSMCt8ldb5t0QPD/yVNKtvbHy4lD/x2R9a57Nw7clQ2pzVJg5UVkV5PMaN7qSB1I7uRIPxiprxliESRth+w35XPJ/FcbdAqxtTaIVH8zXzfKhjXJ8sa+Yyb9dqRTj3qh4evyL8xPKoBREpK0DnqioqszQ/40SNMgQHxlbSLSnrbg3zlwRoOIC2yPso9uXfu/dvVA3wqV11EzXGmMU//E4ps2MqazEM+Dn+J61uqzBwNp2EiwlVKHxXVQ43rDDOkuJIfe45M9wjk1efuaXySvfeFO3TP5wuIam1XR0qRXgDqUft8BPLoxb4ieVRC6KgMZ8/qxzP7t6rGCOZtKMEVGb8FMjkqbDHW3u3RtvpIMoxua/iGAyrpmO8wqK/9k/XrCH+7dbjkr+gzJc/vu/bpVxleiDYuyd06zhWPDz3T1a7OjP/t6F5I3PayvHX4f7rF9PlUu7+M0Kmt1VPK+gpLmx0Xr9B5vwcDDOzQs4sk4iHRw3wE8ujFkSkB1q8ae2mucClzqLCRMHrWmYIUCzp1s4Ksuk2qHA8V8Z/8XyOARMI61QYY0zv3+XEDn66UMpf/MznSvnKp9SN+3Mnv1/K3UDUO4ZJIXf69cTUx0FhWQXlkeby97gGkP5WQjnW/+Tpz5TyxW9ex23g/eA9px3dk5uUmuyiY+4i3qk3N3jUDT+xPGpBVJmASic0re2BYyfO4XiGhmBZ5CsycIoM2hu1UMfRbWJ4N3PQXJXV3zoXx7xDKLSVlQSPwJmvKptm+0mF6P7p458v5eEnpVl9/ux3S/lK8037ViDTKj8F5U2xtSD90fHMz1kC0hg7nutr2x8r5fWv4DeYIOtqgL44Ld0hopet9n//cxK+m4AyUSfDr1getcBPLI9aYIUmWxpfQWfxOyRONhibijx+UJ7lIKaGN6OlDRqeayBlYmsHfekyUjRLLYFiBzo+oGM8cSi9aksQz6fY9afkvN0erZXyFx/5dCmfed9t65zfu/d7pXwemTlsRkCtLgFdjvL5lZndLJ23ZjJ+/sfXHynl+59XtpLpyMHM95AO8N4ZZuz0T2fcFZtLhD5h1aNu+InlUQv+G23gArgJdeYEAAAAAElFTkSuQmCC\" y=\"-7.158621\"/>\r\n   </g>\r\n   <g id=\"matplotlib.axis_7\">\r\n    <g id=\"text_4\">\r\n     <!-- Age:12  Ethnicity:0  Gender:1 -->\r\n     <g transform=\"translate(566.145878 168.757058)scale(0.1 -0.1)\">\r\n      <use xlink:href=\"#DejaVuSans-65\"/>\r\n      <use x=\"68.408203\" xlink:href=\"#DejaVuSans-103\"/>\r\n      <use x=\"131.884766\" xlink:href=\"#DejaVuSans-101\"/>\r\n      <use x=\"193.408203\" xlink:href=\"#DejaVuSans-58\"/>\r\n      <use x=\"227.099609\" xlink:href=\"#DejaVuSans-49\"/>\r\n      <use x=\"290.722656\" xlink:href=\"#DejaVuSans-50\"/>\r\n      <use x=\"354.345703\" xlink:href=\"#DejaVuSans-32\"/>\r\n      <use x=\"386.132812\" xlink:href=\"#DejaVuSans-32\"/>\r\n      <use x=\"417.919922\" xlink:href=\"#DejaVuSans-69\"/>\r\n      <use x=\"481.103516\" xlink:href=\"#DejaVuSans-116\"/>\r\n      <use x=\"520.3125\" xlink:href=\"#DejaVuSans-104\"/>\r\n      <use x=\"583.691406\" xlink:href=\"#DejaVuSans-110\"/>\r\n      <use x=\"647.070312\" xlink:href=\"#DejaVuSans-105\"/>\r\n      <use x=\"674.853516\" xlink:href=\"#DejaVuSans-99\"/>\r\n      <use x=\"729.833984\" xlink:href=\"#DejaVuSans-105\"/>\r\n      <use x=\"757.617188\" xlink:href=\"#DejaVuSans-116\"/>\r\n      <use x=\"796.826172\" xlink:href=\"#DejaVuSans-121\"/>\r\n      <use x=\"848.755859\" xlink:href=\"#DejaVuSans-58\"/>\r\n      <use x=\"882.447266\" xlink:href=\"#DejaVuSans-48\"/>\r\n      <use x=\"946.070312\" xlink:href=\"#DejaVuSans-32\"/>\r\n      <use x=\"977.857422\" xlink:href=\"#DejaVuSans-32\"/>\r\n      <use x=\"1009.644531\" xlink:href=\"#DejaVuSans-71\"/>\r\n      <use x=\"1087.134766\" xlink:href=\"#DejaVuSans-101\"/>\r\n      <use x=\"1148.658203\" xlink:href=\"#DejaVuSans-110\"/>\r\n      <use x=\"1212.037109\" xlink:href=\"#DejaVuSans-100\"/>\r\n      <use x=\"1275.513672\" xlink:href=\"#DejaVuSans-101\"/>\r\n      <use x=\"1337.037109\" xlink:href=\"#DejaVuSans-114\"/>\r\n      <use x=\"1376.400391\" xlink:href=\"#DejaVuSans-58\"/>\r\n      <use x=\"1410.091797\" xlink:href=\"#DejaVuSans-49\"/>\r\n     </g>\r\n    </g>\r\n   </g>\r\n   <g id=\"matplotlib.axis_8\"/>\r\n   <g id=\"patch_18\">\r\n    <path d=\"M 564.851724 157.158621 \r\nL 564.851724 7.2 \r\n\" style=\"fill:none;stroke:#000000;stroke-linecap:square;stroke-linejoin:miter;stroke-width:0.8;\"/>\r\n   </g>\r\n   <g id=\"patch_19\">\r\n    <path d=\"M 714.810345 157.158621 \r\nL 714.810345 7.2 \r\n\" style=\"fill:none;stroke:#000000;stroke-linecap:square;stroke-linejoin:miter;stroke-width:0.8;\"/>\r\n   </g>\r\n   <g id=\"patch_20\">\r\n    <path d=\"M 564.851724 157.158621 \r\nL 714.810345 157.158621 \r\n\" style=\"fill:none;stroke:#000000;stroke-linecap:square;stroke-linejoin:miter;stroke-width:0.8;\"/>\r\n   </g>\r\n   <g id=\"patch_21\">\r\n    <path d=\"M 564.851724 7.2 \r\nL 714.810345 7.2 \r\n\" style=\"fill:none;stroke:#000000;stroke-linecap:square;stroke-linejoin:miter;stroke-width:0.8;\"/>\r\n   </g>\r\n  </g>\r\n  <g id=\"axes_5\">\r\n   <g id=\"patch_22\">\r\n    <path d=\"M 749.568966 157.158621 \r\nL 899.527586 157.158621 \r\nL 899.527586 7.2 \r\nL 749.568966 7.2 \r\nz\r\n\" style=\"fill:#ffffff;\"/>\r\n   </g>\r\n   <g clip-path=\"url(#pef4a04ff5c)\">\r\n    <image height=\"150\" id=\"image0fb0cf7adf\" transform=\"scale(1 -1)translate(0 -150)\" width=\"150\" x=\"749.568966\" xlink:href=\"data:image/png;base64,\r\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\" y=\"-7.158621\"/>\r\n   </g>\r\n   <g id=\"matplotlib.axis_9\">\r\n    <g id=\"text_5\">\r\n     <!-- Age:12  Ethnicity:0  Gender:1 -->\r\n     <g transform=\"translate(750.86312 168.757058)scale(0.1 -0.1)\">\r\n      <use xlink:href=\"#DejaVuSans-65\"/>\r\n      <use x=\"68.408203\" xlink:href=\"#DejaVuSans-103\"/>\r\n      <use x=\"131.884766\" xlink:href=\"#DejaVuSans-101\"/>\r\n      <use x=\"193.408203\" xlink:href=\"#DejaVuSans-58\"/>\r\n      <use x=\"227.099609\" xlink:href=\"#DejaVuSans-49\"/>\r\n      <use x=\"290.722656\" xlink:href=\"#DejaVuSans-50\"/>\r\n      <use x=\"354.345703\" xlink:href=\"#DejaVuSans-32\"/>\r\n      <use x=\"386.132812\" xlink:href=\"#DejaVuSans-32\"/>\r\n      <use x=\"417.919922\" xlink:href=\"#DejaVuSans-69\"/>\r\n      <use x=\"481.103516\" xlink:href=\"#DejaVuSans-116\"/>\r\n      <use x=\"520.3125\" xlink:href=\"#DejaVuSans-104\"/>\r\n      <use x=\"583.691406\" xlink:href=\"#DejaVuSans-110\"/>\r\n      <use x=\"647.070312\" xlink:href=\"#DejaVuSans-105\"/>\r\n      <use x=\"674.853516\" xlink:href=\"#DejaVuSans-99\"/>\r\n      <use x=\"729.833984\" xlink:href=\"#DejaVuSans-105\"/>\r\n      <use x=\"757.617188\" xlink:href=\"#DejaVuSans-116\"/>\r\n      <use x=\"796.826172\" xlink:href=\"#DejaVuSans-121\"/>\r\n      <use x=\"848.755859\" xlink:href=\"#DejaVuSans-58\"/>\r\n      <use x=\"882.447266\" xlink:href=\"#DejaVuSans-48\"/>\r\n      <use x=\"946.070312\" xlink:href=\"#DejaVuSans-32\"/>\r\n      <use x=\"977.857422\" xlink:href=\"#DejaVuSans-32\"/>\r\n      <use x=\"1009.644531\" xlink:href=\"#DejaVuSans-71\"/>\r\n      <use x=\"1087.134766\" xlink:href=\"#DejaVuSans-101\"/>\r\n      <use x=\"1148.658203\" xlink:href=\"#DejaVuSans-110\"/>\r\n      <use x=\"1212.037109\" xlink:href=\"#DejaVuSans-100\"/>\r\n      <use x=\"1275.513672\" xlink:href=\"#DejaVuSans-101\"/>\r\n      <use x=\"1337.037109\" xlink:href=\"#DejaVuSans-114\"/>\r\n      <use x=\"1376.400391\" xlink:href=\"#DejaVuSans-58\"/>\r\n      <use x=\"1410.091797\" xlink:href=\"#DejaVuSans-49\"/>\r\n     </g>\r\n    </g>\r\n   </g>\r\n   <g id=\"matplotlib.axis_10\"/>\r\n   <g id=\"patch_23\">\r\n    <path d=\"M 749.568966 157.158621 \r\nL 749.568966 7.2 \r\n\" style=\"fill:none;stroke:#000000;stroke-linecap:square;stroke-linejoin:miter;stroke-width:0.8;\"/>\r\n   </g>\r\n   <g id=\"patch_24\">\r\n    <path d=\"M 899.527586 157.158621 \r\nL 899.527586 7.2 \r\n\" style=\"fill:none;stroke:#000000;stroke-linecap:square;stroke-linejoin:miter;stroke-width:0.8;\"/>\r\n   </g>\r\n   <g id=\"patch_25\">\r\n    <path d=\"M 749.568966 157.158621 \r\nL 899.527586 157.158621 \r\n\" style=\"fill:none;stroke:#000000;stroke-linecap:square;stroke-linejoin:miter;stroke-width:0.8;\"/>\r\n   </g>\r\n   <g id=\"patch_26\">\r\n    <path d=\"M 749.568966 7.2 \r\nL 899.527586 7.2 \r\n\" style=\"fill:none;stroke:#000000;stroke-linecap:square;stroke-linejoin:miter;stroke-width:0.8;\"/>\r\n   </g>\r\n  </g>\r\n  <g id=\"axes_6\">\r\n   <g id=\"patch_27\">\r\n    <path d=\"M 10.7 337.108966 \r\nL 160.658621 337.108966 \r\nL 160.658621 187.150345 \r\nL 10.7 187.150345 \r\nz\r\n\" style=\"fill:#ffffff;\"/>\r\n   </g>\r\n   <g clip-path=\"url(#p69447ef4d4)\">\r\n    <image height=\"150\" id=\"imaged8d7f051f5\" transform=\"scale(1 -1)translate(0 -150)\" width=\"150\" x=\"10.7\" xlink:href=\"data:image/png;base64,\r\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\" y=\"-187.108966\"/>\r\n   </g>\r\n   <g id=\"matplotlib.axis_11\">\r\n    <g id=\"text_6\">\r\n     <!-- Age:12  Ethnicity:4  Gender:0 -->\r\n     <g transform=\"translate(11.994154 348.707403)scale(0.1 -0.1)\">\r\n      <use xlink:href=\"#DejaVuSans-65\"/>\r\n      <use x=\"68.408203\" xlink:href=\"#DejaVuSans-103\"/>\r\n      <use x=\"131.884766\" xlink:href=\"#DejaVuSans-101\"/>\r\n      <use x=\"193.408203\" xlink:href=\"#DejaVuSans-58\"/>\r\n      <use x=\"227.099609\" xlink:href=\"#DejaVuSans-49\"/>\r\n      <use x=\"290.722656\" xlink:href=\"#DejaVuSans-50\"/>\r\n      <use x=\"354.345703\" xlink:href=\"#DejaVuSans-32\"/>\r\n      <use x=\"386.132812\" xlink:href=\"#DejaVuSans-32\"/>\r\n      <use x=\"417.919922\" xlink:href=\"#DejaVuSans-69\"/>\r\n      <use x=\"481.103516\" xlink:href=\"#DejaVuSans-116\"/>\r\n      <use x=\"520.3125\" xlink:href=\"#DejaVuSans-104\"/>\r\n      <use x=\"583.691406\" xlink:href=\"#DejaVuSans-110\"/>\r\n      <use x=\"647.070312\" xlink:href=\"#DejaVuSans-105\"/>\r\n      <use x=\"674.853516\" xlink:href=\"#DejaVuSans-99\"/>\r\n      <use x=\"729.833984\" xlink:href=\"#DejaVuSans-105\"/>\r\n      <use x=\"757.617188\" xlink:href=\"#DejaVuSans-116\"/>\r\n      <use x=\"796.826172\" xlink:href=\"#DejaVuSans-121\"/>\r\n      <use x=\"848.755859\" xlink:href=\"#DejaVuSans-58\"/>\r\n      <use x=\"882.447266\" xlink:href=\"#DejaVuSans-52\"/>\r\n      <use x=\"946.070312\" xlink:href=\"#DejaVuSans-32\"/>\r\n      <use x=\"977.857422\" xlink:href=\"#DejaVuSans-32\"/>\r\n      <use x=\"1009.644531\" xlink:href=\"#DejaVuSans-71\"/>\r\n      <use x=\"1087.134766\" xlink:href=\"#DejaVuSans-101\"/>\r\n      <use x=\"1148.658203\" xlink:href=\"#DejaVuSans-110\"/>\r\n      <use x=\"1212.037109\" xlink:href=\"#DejaVuSans-100\"/>\r\n      <use x=\"1275.513672\" xlink:href=\"#DejaVuSans-101\"/>\r\n      <use x=\"1337.037109\" xlink:href=\"#DejaVuSans-114\"/>\r\n      <use x=\"1376.400391\" xlink:href=\"#DejaVuSans-58\"/>\r\n      <use x=\"1410.091797\" xlink:href=\"#DejaVuSans-48\"/>\r\n     </g>\r\n    </g>\r\n   </g>\r\n   <g id=\"matplotlib.axis_12\"/>\r\n   <g id=\"patch_28\">\r\n    <path d=\"M 10.7 337.108966 \r\nL 10.7 187.150345 \r\n\" style=\"fill:none;stroke:#000000;stroke-linecap:square;stroke-linejoin:miter;stroke-width:0.8;\"/>\r\n   </g>\r\n   <g id=\"patch_29\">\r\n    <path d=\"M 160.658621 337.108966 \r\nL 160.658621 187.150345 \r\n\" style=\"fill:none;stroke:#000000;stroke-linecap:square;stroke-linejoin:miter;stroke-width:0.8;\"/>\r\n   </g>\r\n   <g id=\"patch_30\">\r\n    <path d=\"M 10.7 337.108966 \r\nL 160.658621 337.108966 \r\n\" style=\"fill:none;stroke:#000000;stroke-linecap:square;stroke-linejoin:miter;stroke-width:0.8;\"/>\r\n   </g>\r\n   <g id=\"patch_31\">\r\n    <path d=\"M 10.7 187.150345 \r\nL 160.658621 187.150345 \r\n\" style=\"fill:none;stroke:#000000;stroke-linecap:square;stroke-linejoin:miter;stroke-width:0.8;\"/>\r\n   </g>\r\n  </g>\r\n  <g id=\"axes_7\">\r\n   <g id=\"patch_32\">\r\n    <path d=\"M 195.417241 337.108966 \r\nL 345.375862 337.108966 \r\nL 345.375862 187.150345 \r\nL 195.417241 187.150345 \r\nz\r\n\" style=\"fill:#ffffff;\"/>\r\n   </g>\r\n   <g clip-path=\"url(#p47426004e4)\">\r\n    <image height=\"150\" id=\"imageb9188549f6\" transform=\"scale(1 -1)translate(0 -150)\" width=\"150\" x=\"195.417241\" xlink:href=\"data:image/png;base64,\r\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\" y=\"-187.108966\"/>\r\n   </g>\r\n   <g id=\"matplotlib.axis_13\">\r\n    <g id=\"text_7\">\r\n     <!-- Age:13  Ethnicity:0  Gender:1 -->\r\n     <g transform=\"translate(196.711395 348.707403)scale(0.1 -0.1)\">\r\n      <defs>\r\n       <path d=\"M 40.578125 39.3125 \r\nQ 47.65625 37.796875 51.625 33 \r\nQ 55.609375 28.21875 55.609375 21.1875 \r\nQ 55.609375 10.40625 48.1875 4.484375 \r\nQ 40.765625 -1.421875 27.09375 -1.421875 \r\nQ 22.515625 -1.421875 17.65625 -0.515625 \r\nQ 12.796875 0.390625 7.625 2.203125 \r\nL 7.625 11.71875 \r\nQ 11.71875 9.328125 16.59375 8.109375 \r\nQ 21.484375 6.890625 26.8125 6.890625 \r\nQ 36.078125 6.890625 40.9375 10.546875 \r\nQ 45.796875 14.203125 45.796875 21.1875 \r\nQ 45.796875 27.640625 41.28125 31.265625 \r\nQ 36.765625 34.90625 28.71875 34.90625 \r\nL 20.21875 34.90625 \r\nL 20.21875 43.015625 \r\nL 29.109375 43.015625 \r\nQ 36.375 43.015625 40.234375 45.921875 \r\nQ 44.09375 48.828125 44.09375 54.296875 \r\nQ 44.09375 59.90625 40.109375 62.90625 \r\nQ 36.140625 65.921875 28.71875 65.921875 \r\nQ 24.65625 65.921875 20.015625 65.03125 \r\nQ 15.375 64.15625 9.8125 62.3125 \r\nL 9.8125 71.09375 \r\nQ 15.4375 72.65625 20.34375 73.4375 \r\nQ 25.25 74.21875 29.59375 74.21875 \r\nQ 40.828125 74.21875 47.359375 69.109375 \r\nQ 53.90625 64.015625 53.90625 55.328125 \r\nQ 53.90625 49.265625 50.4375 45.09375 \r\nQ 46.96875 40.921875 40.578125 39.3125 \r\nz\r\n\" id=\"DejaVuSans-51\"/>\r\n      </defs>\r\n      <use xlink:href=\"#DejaVuSans-65\"/>\r\n      <use x=\"68.408203\" xlink:href=\"#DejaVuSans-103\"/>\r\n      <use x=\"131.884766\" xlink:href=\"#DejaVuSans-101\"/>\r\n      <use x=\"193.408203\" xlink:href=\"#DejaVuSans-58\"/>\r\n      <use x=\"227.099609\" xlink:href=\"#DejaVuSans-49\"/>\r\n      <use x=\"290.722656\" xlink:href=\"#DejaVuSans-51\"/>\r\n      <use x=\"354.345703\" xlink:href=\"#DejaVuSans-32\"/>\r\n      <use x=\"386.132812\" xlink:href=\"#DejaVuSans-32\"/>\r\n      <use x=\"417.919922\" xlink:href=\"#DejaVuSans-69\"/>\r\n      <use x=\"481.103516\" xlink:href=\"#DejaVuSans-116\"/>\r\n      <use x=\"520.3125\" xlink:href=\"#DejaVuSans-104\"/>\r\n      <use x=\"583.691406\" xlink:href=\"#DejaVuSans-110\"/>\r\n      <use x=\"647.070312\" xlink:href=\"#DejaVuSans-105\"/>\r\n      <use x=\"674.853516\" xlink:href=\"#DejaVuSans-99\"/>\r\n      <use x=\"729.833984\" xlink:href=\"#DejaVuSans-105\"/>\r\n      <use x=\"757.617188\" xlink:href=\"#DejaVuSans-116\"/>\r\n      <use x=\"796.826172\" xlink:href=\"#DejaVuSans-121\"/>\r\n      <use x=\"848.755859\" xlink:href=\"#DejaVuSans-58\"/>\r\n      <use x=\"882.447266\" xlink:href=\"#DejaVuSans-48\"/>\r\n      <use x=\"946.070312\" xlink:href=\"#DejaVuSans-32\"/>\r\n      <use x=\"977.857422\" xlink:href=\"#DejaVuSans-32\"/>\r\n      <use x=\"1009.644531\" xlink:href=\"#DejaVuSans-71\"/>\r\n      <use x=\"1087.134766\" xlink:href=\"#DejaVuSans-101\"/>\r\n      <use x=\"1148.658203\" xlink:href=\"#DejaVuSans-110\"/>\r\n      <use x=\"1212.037109\" xlink:href=\"#DejaVuSans-100\"/>\r\n      <use x=\"1275.513672\" xlink:href=\"#DejaVuSans-101\"/>\r\n      <use x=\"1337.037109\" xlink:href=\"#DejaVuSans-114\"/>\r\n      <use x=\"1376.400391\" xlink:href=\"#DejaVuSans-58\"/>\r\n      <use x=\"1410.091797\" xlink:href=\"#DejaVuSans-49\"/>\r\n     </g>\r\n    </g>\r\n   </g>\r\n   <g id=\"matplotlib.axis_14\"/>\r\n   <g id=\"patch_33\">\r\n    <path d=\"M 195.417241 337.108966 \r\nL 195.417241 187.150345 \r\n\" style=\"fill:none;stroke:#000000;stroke-linecap:square;stroke-linejoin:miter;stroke-width:0.8;\"/>\r\n   </g>\r\n   <g id=\"patch_34\">\r\n    <path d=\"M 345.375862 337.108966 \r\nL 345.375862 187.150345 \r\n\" style=\"fill:none;stroke:#000000;stroke-linecap:square;stroke-linejoin:miter;stroke-width:0.8;\"/>\r\n   </g>\r\n   <g id=\"patch_35\">\r\n    <path d=\"M 195.417241 337.108966 \r\nL 345.375862 337.108966 \r\n\" style=\"fill:none;stroke:#000000;stroke-linecap:square;stroke-linejoin:miter;stroke-width:0.8;\"/>\r\n   </g>\r\n   <g id=\"patch_36\">\r\n    <path d=\"M 195.417241 187.150345 \r\nL 345.375862 187.150345 \r\n\" style=\"fill:none;stroke:#000000;stroke-linecap:square;stroke-linejoin:miter;stroke-width:0.8;\"/>\r\n   </g>\r\n  </g>\r\n  <g id=\"axes_8\">\r\n   <g id=\"patch_37\">\r\n    <path d=\"M 380.134483 337.108966 \r\nL 530.093103 337.108966 \r\nL 530.093103 187.150345 \r\nL 380.134483 187.150345 \r\nz\r\n\" style=\"fill:#ffffff;\"/>\r\n   </g>\r\n   <g clip-path=\"url(#pdc760c1e6b)\">\r\n    <image height=\"150\" id=\"image3e343cfef2\" transform=\"scale(1 -1)translate(0 -150)\" width=\"150\" x=\"380.134483\" xlink:href=\"data:image/png;base64,\r\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\" y=\"-187.108966\"/>\r\n   </g>\r\n   <g id=\"matplotlib.axis_15\">\r\n    <g id=\"text_8\">\r\n     <!-- Age:13  Ethnicity:0  Gender:1 -->\r\n     <g transform=\"translate(381.428637 348.707403)scale(0.1 -0.1)\">\r\n      <use xlink:href=\"#DejaVuSans-65\"/>\r\n      <use x=\"68.408203\" xlink:href=\"#DejaVuSans-103\"/>\r\n      <use x=\"131.884766\" xlink:href=\"#DejaVuSans-101\"/>\r\n      <use x=\"193.408203\" xlink:href=\"#DejaVuSans-58\"/>\r\n      <use x=\"227.099609\" xlink:href=\"#DejaVuSans-49\"/>\r\n      <use x=\"290.722656\" xlink:href=\"#DejaVuSans-51\"/>\r\n      <use x=\"354.345703\" xlink:href=\"#DejaVuSans-32\"/>\r\n      <use x=\"386.132812\" xlink:href=\"#DejaVuSans-32\"/>\r\n      <use x=\"417.919922\" xlink:href=\"#DejaVuSans-69\"/>\r\n      <use x=\"481.103516\" xlink:href=\"#DejaVuSans-116\"/>\r\n      <use x=\"520.3125\" xlink:href=\"#DejaVuSans-104\"/>\r\n      <use x=\"583.691406\" xlink:href=\"#DejaVuSans-110\"/>\r\n      <use x=\"647.070312\" xlink:href=\"#DejaVuSans-105\"/>\r\n      <use x=\"674.853516\" xlink:href=\"#DejaVuSans-99\"/>\r\n      <use x=\"729.833984\" xlink:href=\"#DejaVuSans-105\"/>\r\n      <use x=\"757.617188\" xlink:href=\"#DejaVuSans-116\"/>\r\n      <use x=\"796.826172\" xlink:href=\"#DejaVuSans-121\"/>\r\n      <use x=\"848.755859\" xlink:href=\"#DejaVuSans-58\"/>\r\n      <use x=\"882.447266\" xlink:href=\"#DejaVuSans-48\"/>\r\n      <use x=\"946.070312\" xlink:href=\"#DejaVuSans-32\"/>\r\n      <use x=\"977.857422\" xlink:href=\"#DejaVuSans-32\"/>\r\n      <use x=\"1009.644531\" xlink:href=\"#DejaVuSans-71\"/>\r\n      <use x=\"1087.134766\" xlink:href=\"#DejaVuSans-101\"/>\r\n      <use x=\"1148.658203\" xlink:href=\"#DejaVuSans-110\"/>\r\n      <use x=\"1212.037109\" xlink:href=\"#DejaVuSans-100\"/>\r\n      <use x=\"1275.513672\" xlink:href=\"#DejaVuSans-101\"/>\r\n      <use x=\"1337.037109\" xlink:href=\"#DejaVuSans-114\"/>\r\n      <use x=\"1376.400391\" xlink:href=\"#DejaVuSans-58\"/>\r\n      <use x=\"1410.091797\" xlink:href=\"#DejaVuSans-49\"/>\r\n     </g>\r\n    </g>\r\n   </g>\r\n   <g id=\"matplotlib.axis_16\"/>\r\n   <g id=\"patch_38\">\r\n    <path d=\"M 380.134483 337.108966 \r\nL 380.134483 187.150345 \r\n\" style=\"fill:none;stroke:#000000;stroke-linecap:square;stroke-linejoin:miter;stroke-width:0.8;\"/>\r\n   </g>\r\n   <g id=\"patch_39\">\r\n    <path d=\"M 530.093103 337.108966 \r\nL 530.093103 187.150345 \r\n\" style=\"fill:none;stroke:#000000;stroke-linecap:square;stroke-linejoin:miter;stroke-width:0.8;\"/>\r\n   </g>\r\n   <g id=\"patch_40\">\r\n    <path d=\"M 380.134483 337.108966 \r\nL 530.093103 337.108966 \r\n\" style=\"fill:none;stroke:#000000;stroke-linecap:square;stroke-linejoin:miter;stroke-width:0.8;\"/>\r\n   </g>\r\n   <g id=\"patch_41\">\r\n    <path d=\"M 380.134483 187.150345 \r\nL 530.093103 187.150345 \r\n\" style=\"fill:none;stroke:#000000;stroke-linecap:square;stroke-linejoin:miter;stroke-width:0.8;\"/>\r\n   </g>\r\n  </g>\r\n  <g id=\"axes_9\">\r\n   <g id=\"patch_42\">\r\n    <path d=\"M 564.851724 337.108966 \r\nL 714.810345 337.108966 \r\nL 714.810345 187.150345 \r\nL 564.851724 187.150345 \r\nz\r\n\" style=\"fill:#ffffff;\"/>\r\n   </g>\r\n   <g clip-path=\"url(#p4cc00a64cb)\">\r\n    <image height=\"150\" id=\"image3c3786f08e\" transform=\"scale(1 -1)translate(0 -150)\" width=\"150\" x=\"564.851724\" xlink:href=\"data:image/png;base64,\r\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\" y=\"-187.108966\"/>\r\n   </g>\r\n   <g id=\"matplotlib.axis_17\">\r\n    <g id=\"text_9\">\r\n     <!-- Age:13  Ethnicity:0  Gender:1 -->\r\n     <g transform=\"translate(566.145878 348.707403)scale(0.1 -0.1)\">\r\n      <use xlink:href=\"#DejaVuSans-65\"/>\r\n      <use x=\"68.408203\" xlink:href=\"#DejaVuSans-103\"/>\r\n      <use x=\"131.884766\" xlink:href=\"#DejaVuSans-101\"/>\r\n      <use x=\"193.408203\" xlink:href=\"#DejaVuSans-58\"/>\r\n      <use x=\"227.099609\" xlink:href=\"#DejaVuSans-49\"/>\r\n      <use x=\"290.722656\" xlink:href=\"#DejaVuSans-51\"/>\r\n      <use x=\"354.345703\" xlink:href=\"#DejaVuSans-32\"/>\r\n      <use x=\"386.132812\" xlink:href=\"#DejaVuSans-32\"/>\r\n      <use x=\"417.919922\" xlink:href=\"#DejaVuSans-69\"/>\r\n      <use x=\"481.103516\" xlink:href=\"#DejaVuSans-116\"/>\r\n      <use x=\"520.3125\" xlink:href=\"#DejaVuSans-104\"/>\r\n      <use x=\"583.691406\" xlink:href=\"#DejaVuSans-110\"/>\r\n      <use x=\"647.070312\" xlink:href=\"#DejaVuSans-105\"/>\r\n      <use x=\"674.853516\" xlink:href=\"#DejaVuSans-99\"/>\r\n      <use x=\"729.833984\" xlink:href=\"#DejaVuSans-105\"/>\r\n      <use x=\"757.617188\" xlink:href=\"#DejaVuSans-116\"/>\r\n      <use x=\"796.826172\" xlink:href=\"#DejaVuSans-121\"/>\r\n      <use x=\"848.755859\" xlink:href=\"#DejaVuSans-58\"/>\r\n      <use x=\"882.447266\" xlink:href=\"#DejaVuSans-48\"/>\r\n      <use x=\"946.070312\" xlink:href=\"#DejaVuSans-32\"/>\r\n      <use x=\"977.857422\" xlink:href=\"#DejaVuSans-32\"/>\r\n      <use x=\"1009.644531\" xlink:href=\"#DejaVuSans-71\"/>\r\n      <use x=\"1087.134766\" xlink:href=\"#DejaVuSans-101\"/>\r\n      <use x=\"1148.658203\" xlink:href=\"#DejaVuSans-110\"/>\r\n      <use x=\"1212.037109\" xlink:href=\"#DejaVuSans-100\"/>\r\n      <use x=\"1275.513672\" xlink:href=\"#DejaVuSans-101\"/>\r\n      <use x=\"1337.037109\" xlink:href=\"#DejaVuSans-114\"/>\r\n      <use x=\"1376.400391\" xlink:href=\"#DejaVuSans-58\"/>\r\n      <use x=\"1410.091797\" xlink:href=\"#DejaVuSans-49\"/>\r\n     </g>\r\n    </g>\r\n   </g>\r\n   <g id=\"matplotlib.axis_18\"/>\r\n   <g id=\"patch_43\">\r\n    <path d=\"M 564.851724 337.108966 \r\nL 564.851724 187.150345 \r\n\" style=\"fill:none;stroke:#000000;stroke-linecap:square;stroke-linejoin:miter;stroke-width:0.8;\"/>\r\n   </g>\r\n   <g id=\"patch_44\">\r\n    <path d=\"M 714.810345 337.108966 \r\nL 714.810345 187.150345 \r\n\" style=\"fill:none;stroke:#000000;stroke-linecap:square;stroke-linejoin:miter;stroke-width:0.8;\"/>\r\n   </g>\r\n   <g id=\"patch_45\">\r\n    <path d=\"M 564.851724 337.108966 \r\nL 714.810345 337.108966 \r\n\" style=\"fill:none;stroke:#000000;stroke-linecap:square;stroke-linejoin:miter;stroke-width:0.8;\"/>\r\n   </g>\r\n   <g id=\"patch_46\">\r\n    <path d=\"M 564.851724 187.150345 \r\nL 714.810345 187.150345 \r\n\" style=\"fill:none;stroke:#000000;stroke-linecap:square;stroke-linejoin:miter;stroke-width:0.8;\"/>\r\n   </g>\r\n  </g>\r\n  <g id=\"axes_10\">\r\n   <g id=\"patch_47\">\r\n    <path d=\"M 749.568966 337.108966 \r\nL 899.527586 337.108966 \r\nL 899.527586 187.150345 \r\nL 749.568966 187.150345 \r\nz\r\n\" style=\"fill:#ffffff;\"/>\r\n   </g>\r\n   <g clip-path=\"url(#p30e301789a)\">\r\n    <image height=\"150\" id=\"image074540a34e\" transform=\"scale(1 -1)translate(0 -150)\" width=\"150\" x=\"749.568966\" xlink:href=\"data:image/png;base64,\r\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\" y=\"-187.108966\"/>\r\n   </g>\r\n   <g id=\"matplotlib.axis_19\">\r\n    <g id=\"text_10\">\r\n     <!-- Age:13  Ethnicity:0  Gender:1 -->\r\n     <g transform=\"translate(750.86312 348.707403)scale(0.1 -0.1)\">\r\n      <use xlink:href=\"#DejaVuSans-65\"/>\r\n      <use x=\"68.408203\" xlink:href=\"#DejaVuSans-103\"/>\r\n      <use x=\"131.884766\" xlink:href=\"#DejaVuSans-101\"/>\r\n      <use x=\"193.408203\" xlink:href=\"#DejaVuSans-58\"/>\r\n      <use x=\"227.099609\" xlink:href=\"#DejaVuSans-49\"/>\r\n      <use x=\"290.722656\" xlink:href=\"#DejaVuSans-51\"/>\r\n      <use x=\"354.345703\" xlink:href=\"#DejaVuSans-32\"/>\r\n      <use x=\"386.132812\" xlink:href=\"#DejaVuSans-32\"/>\r\n      <use x=\"417.919922\" xlink:href=\"#DejaVuSans-69\"/>\r\n      <use x=\"481.103516\" xlink:href=\"#DejaVuSans-116\"/>\r\n      <use x=\"520.3125\" xlink:href=\"#DejaVuSans-104\"/>\r\n      <use x=\"583.691406\" xlink:href=\"#DejaVuSans-110\"/>\r\n      <use x=\"647.070312\" xlink:href=\"#DejaVuSans-105\"/>\r\n      <use x=\"674.853516\" xlink:href=\"#DejaVuSans-99\"/>\r\n      <use x=\"729.833984\" xlink:href=\"#DejaVuSans-105\"/>\r\n      <use x=\"757.617188\" xlink:href=\"#DejaVuSans-116\"/>\r\n      <use x=\"796.826172\" xlink:href=\"#DejaVuSans-121\"/>\r\n      <use x=\"848.755859\" xlink:href=\"#DejaVuSans-58\"/>\r\n      <use x=\"882.447266\" xlink:href=\"#DejaVuSans-48\"/>\r\n      <use x=\"946.070312\" xlink:href=\"#DejaVuSans-32\"/>\r\n      <use x=\"977.857422\" xlink:href=\"#DejaVuSans-32\"/>\r\n      <use x=\"1009.644531\" xlink:href=\"#DejaVuSans-71\"/>\r\n      <use x=\"1087.134766\" xlink:href=\"#DejaVuSans-101\"/>\r\n      <use x=\"1148.658203\" xlink:href=\"#DejaVuSans-110\"/>\r\n      <use x=\"1212.037109\" xlink:href=\"#DejaVuSans-100\"/>\r\n      <use x=\"1275.513672\" xlink:href=\"#DejaVuSans-101\"/>\r\n      <use x=\"1337.037109\" xlink:href=\"#DejaVuSans-114\"/>\r\n      <use x=\"1376.400391\" xlink:href=\"#DejaVuSans-58\"/>\r\n      <use x=\"1410.091797\" xlink:href=\"#DejaVuSans-49\"/>\r\n     </g>\r\n    </g>\r\n   </g>\r\n   <g id=\"matplotlib.axis_20\"/>\r\n   <g id=\"patch_48\">\r\n    <path d=\"M 749.568966 337.108966 \r\nL 749.568966 187.150345 \r\n\" style=\"fill:none;stroke:#000000;stroke-linecap:square;stroke-linejoin:miter;stroke-width:0.8;\"/>\r\n   </g>\r\n   <g id=\"patch_49\">\r\n    <path d=\"M 899.527586 337.108966 \r\nL 899.527586 187.150345 \r\n\" style=\"fill:none;stroke:#000000;stroke-linecap:square;stroke-linejoin:miter;stroke-width:0.8;\"/>\r\n   </g>\r\n   <g id=\"patch_50\">\r\n    <path d=\"M 749.568966 337.108966 \r\nL 899.527586 337.108966 \r\n\" style=\"fill:none;stroke:#000000;stroke-linecap:square;stroke-linejoin:miter;stroke-width:0.8;\"/>\r\n   </g>\r\n   <g id=\"patch_51\">\r\n    <path d=\"M 749.568966 187.150345 \r\nL 899.527586 187.150345 \r\n\" style=\"fill:none;stroke:#000000;stroke-linecap:square;stroke-linejoin:miter;stroke-width:0.8;\"/>\r\n   </g>\r\n  </g>\r\n  <g id=\"axes_11\">\r\n   <g id=\"patch_52\">\r\n    <path d=\"M 10.7 517.05931 \r\nL 160.658621 517.05931 \r\nL 160.658621 367.10069 \r\nL 10.7 367.10069 \r\nz\r\n\" style=\"fill:#ffffff;\"/>\r\n   </g>\r\n   <g clip-path=\"url(#pcb6056692e)\">\r\n    <image height=\"150\" id=\"image89151d3bee\" transform=\"scale(1 -1)translate(0 -150)\" width=\"150\" x=\"10.7\" xlink:href=\"data:image/png;base64,\r\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\" y=\"-367.05931\"/>\r\n   </g>\r\n   <g id=\"matplotlib.axis_21\">\r\n    <g id=\"text_11\">\r\n     <!-- Age:13  Ethnicity:0  Gender:1 -->\r\n     <g transform=\"translate(11.994154 528.657748)scale(0.1 -0.1)\">\r\n      <use xlink:href=\"#DejaVuSans-65\"/>\r\n      <use x=\"68.408203\" xlink:href=\"#DejaVuSans-103\"/>\r\n      <use x=\"131.884766\" xlink:href=\"#DejaVuSans-101\"/>\r\n      <use x=\"193.408203\" xlink:href=\"#DejaVuSans-58\"/>\r\n      <use x=\"227.099609\" xlink:href=\"#DejaVuSans-49\"/>\r\n      <use x=\"290.722656\" xlink:href=\"#DejaVuSans-51\"/>\r\n      <use x=\"354.345703\" xlink:href=\"#DejaVuSans-32\"/>\r\n      <use x=\"386.132812\" xlink:href=\"#DejaVuSans-32\"/>\r\n      <use x=\"417.919922\" xlink:href=\"#DejaVuSans-69\"/>\r\n      <use x=\"481.103516\" xlink:href=\"#DejaVuSans-116\"/>\r\n      <use x=\"520.3125\" xlink:href=\"#DejaVuSans-104\"/>\r\n      <use x=\"583.691406\" xlink:href=\"#DejaVuSans-110\"/>\r\n      <use x=\"647.070312\" xlink:href=\"#DejaVuSans-105\"/>\r\n      <use x=\"674.853516\" xlink:href=\"#DejaVuSans-99\"/>\r\n      <use x=\"729.833984\" xlink:href=\"#DejaVuSans-105\"/>\r\n      <use x=\"757.617188\" xlink:href=\"#DejaVuSans-116\"/>\r\n      <use x=\"796.826172\" xlink:href=\"#DejaVuSans-121\"/>\r\n      <use x=\"848.755859\" xlink:href=\"#DejaVuSans-58\"/>\r\n      <use x=\"882.447266\" xlink:href=\"#DejaVuSans-48\"/>\r\n      <use x=\"946.070312\" xlink:href=\"#DejaVuSans-32\"/>\r\n      <use x=\"977.857422\" xlink:href=\"#DejaVuSans-32\"/>\r\n      <use x=\"1009.644531\" xlink:href=\"#DejaVuSans-71\"/>\r\n      <use x=\"1087.134766\" xlink:href=\"#DejaVuSans-101\"/>\r\n      <use x=\"1148.658203\" xlink:href=\"#DejaVuSans-110\"/>\r\n      <use x=\"1212.037109\" xlink:href=\"#DejaVuSans-100\"/>\r\n      <use x=\"1275.513672\" xlink:href=\"#DejaVuSans-101\"/>\r\n      <use x=\"1337.037109\" xlink:href=\"#DejaVuSans-114\"/>\r\n      <use x=\"1376.400391\" xlink:href=\"#DejaVuSans-58\"/>\r\n      <use x=\"1410.091797\" xlink:href=\"#DejaVuSans-49\"/>\r\n     </g>\r\n    </g>\r\n   </g>\r\n   <g id=\"matplotlib.axis_22\"/>\r\n   <g id=\"patch_53\">\r\n    <path d=\"M 10.7 517.05931 \r\nL 10.7 367.10069 \r\n\" style=\"fill:none;stroke:#000000;stroke-linecap:square;stroke-linejoin:miter;stroke-width:0.8;\"/>\r\n   </g>\r\n   <g id=\"patch_54\">\r\n    <path d=\"M 160.658621 517.05931 \r\nL 160.658621 367.10069 \r\n\" style=\"fill:none;stroke:#000000;stroke-linecap:square;stroke-linejoin:miter;stroke-width:0.8;\"/>\r\n   </g>\r\n   <g id=\"patch_55\">\r\n    <path d=\"M 10.7 517.05931 \r\nL 160.658621 517.05931 \r\n\" style=\"fill:none;stroke:#000000;stroke-linecap:square;stroke-linejoin:miter;stroke-width:0.8;\"/>\r\n   </g>\r\n   <g id=\"patch_56\">\r\n    <path d=\"M 10.7 367.10069 \r\nL 160.658621 367.10069 \r\n\" style=\"fill:none;stroke:#000000;stroke-linecap:square;stroke-linejoin:miter;stroke-width:0.8;\"/>\r\n   </g>\r\n  </g>\r\n  <g id=\"axes_12\">\r\n   <g id=\"patch_57\">\r\n    <path d=\"M 195.417241 517.05931 \r\nL 345.375862 517.05931 \r\nL 345.375862 367.10069 \r\nL 195.417241 367.10069 \r\nz\r\n\" style=\"fill:#ffffff;\"/>\r\n   </g>\r\n   <g clip-path=\"url(#p90136ae929)\">\r\n    <image height=\"150\" id=\"image613d802400\" transform=\"scale(1 -1)translate(0 -150)\" width=\"150\" x=\"195.417241\" xlink:href=\"data:image/png;base64,\r\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\" y=\"-367.05931\"/>\r\n   </g>\r\n   <g id=\"matplotlib.axis_23\">\r\n    <g id=\"text_12\">\r\n     <!-- Age:13  Ethnicity:0  Gender:1 -->\r\n     <g transform=\"translate(196.711395 528.657748)scale(0.1 -0.1)\">\r\n      <use xlink:href=\"#DejaVuSans-65\"/>\r\n      <use x=\"68.408203\" xlink:href=\"#DejaVuSans-103\"/>\r\n      <use x=\"131.884766\" xlink:href=\"#DejaVuSans-101\"/>\r\n      <use x=\"193.408203\" xlink:href=\"#DejaVuSans-58\"/>\r\n      <use x=\"227.099609\" xlink:href=\"#DejaVuSans-49\"/>\r\n      <use x=\"290.722656\" xlink:href=\"#DejaVuSans-51\"/>\r\n      <use x=\"354.345703\" xlink:href=\"#DejaVuSans-32\"/>\r\n      <use x=\"386.132812\" xlink:href=\"#DejaVuSans-32\"/>\r\n      <use x=\"417.919922\" xlink:href=\"#DejaVuSans-69\"/>\r\n      <use x=\"481.103516\" xlink:href=\"#DejaVuSans-116\"/>\r\n      <use x=\"520.3125\" xlink:href=\"#DejaVuSans-104\"/>\r\n      <use x=\"583.691406\" xlink:href=\"#DejaVuSans-110\"/>\r\n      <use x=\"647.070312\" xlink:href=\"#DejaVuSans-105\"/>\r\n      <use x=\"674.853516\" xlink:href=\"#DejaVuSans-99\"/>\r\n      <use x=\"729.833984\" xlink:href=\"#DejaVuSans-105\"/>\r\n      <use x=\"757.617188\" xlink:href=\"#DejaVuSans-116\"/>\r\n      <use x=\"796.826172\" xlink:href=\"#DejaVuSans-121\"/>\r\n      <use x=\"848.755859\" xlink:href=\"#DejaVuSans-58\"/>\r\n      <use x=\"882.447266\" xlink:href=\"#DejaVuSans-48\"/>\r\n      <use x=\"946.070312\" xlink:href=\"#DejaVuSans-32\"/>\r\n      <use x=\"977.857422\" xlink:href=\"#DejaVuSans-32\"/>\r\n      <use x=\"1009.644531\" xlink:href=\"#DejaVuSans-71\"/>\r\n      <use x=\"1087.134766\" xlink:href=\"#DejaVuSans-101\"/>\r\n      <use x=\"1148.658203\" xlink:href=\"#DejaVuSans-110\"/>\r\n      <use x=\"1212.037109\" xlink:href=\"#DejaVuSans-100\"/>\r\n      <use x=\"1275.513672\" xlink:href=\"#DejaVuSans-101\"/>\r\n      <use x=\"1337.037109\" xlink:href=\"#DejaVuSans-114\"/>\r\n      <use x=\"1376.400391\" xlink:href=\"#DejaVuSans-58\"/>\r\n      <use x=\"1410.091797\" xlink:href=\"#DejaVuSans-49\"/>\r\n     </g>\r\n    </g>\r\n   </g>\r\n   <g id=\"matplotlib.axis_24\"/>\r\n   <g id=\"patch_58\">\r\n    <path d=\"M 195.417241 517.05931 \r\nL 195.417241 367.10069 \r\n\" style=\"fill:none;stroke:#000000;stroke-linecap:square;stroke-linejoin:miter;stroke-width:0.8;\"/>\r\n   </g>\r\n   <g id=\"patch_59\">\r\n    <path d=\"M 345.375862 517.05931 \r\nL 345.375862 367.10069 \r\n\" style=\"fill:none;stroke:#000000;stroke-linecap:square;stroke-linejoin:miter;stroke-width:0.8;\"/>\r\n   </g>\r\n   <g id=\"patch_60\">\r\n    <path d=\"M 195.417241 517.05931 \r\nL 345.375862 517.05931 \r\n\" style=\"fill:none;stroke:#000000;stroke-linecap:square;stroke-linejoin:miter;stroke-width:0.8;\"/>\r\n   </g>\r\n   <g id=\"patch_61\">\r\n    <path d=\"M 195.417241 367.10069 \r\nL 345.375862 367.10069 \r\n\" style=\"fill:none;stroke:#000000;stroke-linecap:square;stroke-linejoin:miter;stroke-width:0.8;\"/>\r\n   </g>\r\n  </g>\r\n  <g id=\"axes_13\">\r\n   <g id=\"patch_62\">\r\n    <path d=\"M 380.134483 517.05931 \r\nL 530.093103 517.05931 \r\nL 530.093103 367.10069 \r\nL 380.134483 367.10069 \r\nz\r\n\" style=\"fill:#ffffff;\"/>\r\n   </g>\r\n   <g clip-path=\"url(#p89fad92581)\">\r\n    <image height=\"150\" id=\"image95e1e465a6\" transform=\"scale(1 -1)translate(0 -150)\" width=\"150\" x=\"380.134483\" xlink:href=\"data:image/png;base64,\r\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\" y=\"-367.05931\"/>\r\n   </g>\r\n   <g id=\"matplotlib.axis_25\">\r\n    <g id=\"text_13\">\r\n     <!-- Age:13  Ethnicity:0  Gender:1 -->\r\n     <g transform=\"translate(381.428637 528.657748)scale(0.1 -0.1)\">\r\n      <use xlink:href=\"#DejaVuSans-65\"/>\r\n      <use x=\"68.408203\" xlink:href=\"#DejaVuSans-103\"/>\r\n      <use x=\"131.884766\" xlink:href=\"#DejaVuSans-101\"/>\r\n      <use x=\"193.408203\" xlink:href=\"#DejaVuSans-58\"/>\r\n      <use x=\"227.099609\" xlink:href=\"#DejaVuSans-49\"/>\r\n      <use x=\"290.722656\" xlink:href=\"#DejaVuSans-51\"/>\r\n      <use x=\"354.345703\" xlink:href=\"#DejaVuSans-32\"/>\r\n      <use x=\"386.132812\" xlink:href=\"#DejaVuSans-32\"/>\r\n      <use x=\"417.919922\" xlink:href=\"#DejaVuSans-69\"/>\r\n      <use x=\"481.103516\" xlink:href=\"#DejaVuSans-116\"/>\r\n      <use x=\"520.3125\" xlink:href=\"#DejaVuSans-104\"/>\r\n      <use x=\"583.691406\" xlink:href=\"#DejaVuSans-110\"/>\r\n      <use x=\"647.070312\" xlink:href=\"#DejaVuSans-105\"/>\r\n      <use x=\"674.853516\" xlink:href=\"#DejaVuSans-99\"/>\r\n      <use x=\"729.833984\" xlink:href=\"#DejaVuSans-105\"/>\r\n      <use x=\"757.617188\" xlink:href=\"#DejaVuSans-116\"/>\r\n      <use x=\"796.826172\" xlink:href=\"#DejaVuSans-121\"/>\r\n      <use x=\"848.755859\" xlink:href=\"#DejaVuSans-58\"/>\r\n      <use x=\"882.447266\" xlink:href=\"#DejaVuSans-48\"/>\r\n      <use x=\"946.070312\" xlink:href=\"#DejaVuSans-32\"/>\r\n      <use x=\"977.857422\" xlink:href=\"#DejaVuSans-32\"/>\r\n      <use x=\"1009.644531\" xlink:href=\"#DejaVuSans-71\"/>\r\n      <use x=\"1087.134766\" xlink:href=\"#DejaVuSans-101\"/>\r\n      <use x=\"1148.658203\" xlink:href=\"#DejaVuSans-110\"/>\r\n      <use x=\"1212.037109\" xlink:href=\"#DejaVuSans-100\"/>\r\n      <use x=\"1275.513672\" xlink:href=\"#DejaVuSans-101\"/>\r\n      <use x=\"1337.037109\" xlink:href=\"#DejaVuSans-114\"/>\r\n      <use x=\"1376.400391\" xlink:href=\"#DejaVuSans-58\"/>\r\n      <use x=\"1410.091797\" xlink:href=\"#DejaVuSans-49\"/>\r\n     </g>\r\n    </g>\r\n   </g>\r\n   <g id=\"matplotlib.axis_26\"/>\r\n   <g id=\"patch_63\">\r\n    <path d=\"M 380.134483 517.05931 \r\nL 380.134483 367.10069 \r\n\" style=\"fill:none;stroke:#000000;stroke-linecap:square;stroke-linejoin:miter;stroke-width:0.8;\"/>\r\n   </g>\r\n   <g id=\"patch_64\">\r\n    <path d=\"M 530.093103 517.05931 \r\nL 530.093103 367.10069 \r\n\" style=\"fill:none;stroke:#000000;stroke-linecap:square;stroke-linejoin:miter;stroke-width:0.8;\"/>\r\n   </g>\r\n   <g id=\"patch_65\">\r\n    <path d=\"M 380.134483 517.05931 \r\nL 530.093103 517.05931 \r\n\" style=\"fill:none;stroke:#000000;stroke-linecap:square;stroke-linejoin:miter;stroke-width:0.8;\"/>\r\n   </g>\r\n   <g id=\"patch_66\">\r\n    <path d=\"M 380.134483 367.10069 \r\nL 530.093103 367.10069 \r\n\" style=\"fill:none;stroke:#000000;stroke-linecap:square;stroke-linejoin:miter;stroke-width:0.8;\"/>\r\n   </g>\r\n  </g>\r\n  <g id=\"axes_14\">\r\n   <g id=\"patch_67\">\r\n    <path d=\"M 564.851724 517.05931 \r\nL 714.810345 517.05931 \r\nL 714.810345 367.10069 \r\nL 564.851724 367.10069 \r\nz\r\n\" style=\"fill:#ffffff;\"/>\r\n   </g>\r\n   <g clip-path=\"url(#p5d7a29f8e9)\">\r\n    <image height=\"150\" id=\"image5bca814f4f\" transform=\"scale(1 -1)translate(0 -150)\" width=\"150\" x=\"564.851724\" xlink:href=\"data:image/png;base64,\r\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\" y=\"-367.05931\"/>\r\n   </g>\r\n   <g id=\"matplotlib.axis_27\">\r\n    <g id=\"text_14\">\r\n     <!-- Age:13  Ethnicity:0  Gender:1 -->\r\n     <g transform=\"translate(566.145878 528.657748)scale(0.1 -0.1)\">\r\n      <use xlink:href=\"#DejaVuSans-65\"/>\r\n      <use x=\"68.408203\" xlink:href=\"#DejaVuSans-103\"/>\r\n      <use x=\"131.884766\" xlink:href=\"#DejaVuSans-101\"/>\r\n      <use x=\"193.408203\" xlink:href=\"#DejaVuSans-58\"/>\r\n      <use x=\"227.099609\" xlink:href=\"#DejaVuSans-49\"/>\r\n      <use x=\"290.722656\" xlink:href=\"#DejaVuSans-51\"/>\r\n      <use x=\"354.345703\" xlink:href=\"#DejaVuSans-32\"/>\r\n      <use x=\"386.132812\" xlink:href=\"#DejaVuSans-32\"/>\r\n      <use x=\"417.919922\" xlink:href=\"#DejaVuSans-69\"/>\r\n      <use x=\"481.103516\" xlink:href=\"#DejaVuSans-116\"/>\r\n      <use x=\"520.3125\" xlink:href=\"#DejaVuSans-104\"/>\r\n      <use x=\"583.691406\" xlink:href=\"#DejaVuSans-110\"/>\r\n      <use x=\"647.070312\" xlink:href=\"#DejaVuSans-105\"/>\r\n      <use x=\"674.853516\" xlink:href=\"#DejaVuSans-99\"/>\r\n      <use x=\"729.833984\" xlink:href=\"#DejaVuSans-105\"/>\r\n      <use x=\"757.617188\" xlink:href=\"#DejaVuSans-116\"/>\r\n      <use x=\"796.826172\" xlink:href=\"#DejaVuSans-121\"/>\r\n      <use x=\"848.755859\" xlink:href=\"#DejaVuSans-58\"/>\r\n      <use x=\"882.447266\" xlink:href=\"#DejaVuSans-48\"/>\r\n      <use x=\"946.070312\" xlink:href=\"#DejaVuSans-32\"/>\r\n      <use x=\"977.857422\" xlink:href=\"#DejaVuSans-32\"/>\r\n      <use x=\"1009.644531\" xlink:href=\"#DejaVuSans-71\"/>\r\n      <use x=\"1087.134766\" xlink:href=\"#DejaVuSans-101\"/>\r\n      <use x=\"1148.658203\" xlink:href=\"#DejaVuSans-110\"/>\r\n      <use x=\"1212.037109\" xlink:href=\"#DejaVuSans-100\"/>\r\n      <use x=\"1275.513672\" xlink:href=\"#DejaVuSans-101\"/>\r\n      <use x=\"1337.037109\" xlink:href=\"#DejaVuSans-114\"/>\r\n      <use x=\"1376.400391\" xlink:href=\"#DejaVuSans-58\"/>\r\n      <use x=\"1410.091797\" xlink:href=\"#DejaVuSans-49\"/>\r\n     </g>\r\n    </g>\r\n   </g>\r\n   <g id=\"matplotlib.axis_28\"/>\r\n   <g id=\"patch_68\">\r\n    <path d=\"M 564.851724 517.05931 \r\nL 564.851724 367.10069 \r\n\" style=\"fill:none;stroke:#000000;stroke-linecap:square;stroke-linejoin:miter;stroke-width:0.8;\"/>\r\n   </g>\r\n   <g id=\"patch_69\">\r\n    <path d=\"M 714.810345 517.05931 \r\nL 714.810345 367.10069 \r\n\" style=\"fill:none;stroke:#000000;stroke-linecap:square;stroke-linejoin:miter;stroke-width:0.8;\"/>\r\n   </g>\r\n   <g id=\"patch_70\">\r\n    <path d=\"M 564.851724 517.05931 \r\nL 714.810345 517.05931 \r\n\" style=\"fill:none;stroke:#000000;stroke-linecap:square;stroke-linejoin:miter;stroke-width:0.8;\"/>\r\n   </g>\r\n   <g id=\"patch_71\">\r\n    <path d=\"M 564.851724 367.10069 \r\nL 714.810345 367.10069 \r\n\" style=\"fill:none;stroke:#000000;stroke-linecap:square;stroke-linejoin:miter;stroke-width:0.8;\"/>\r\n   </g>\r\n  </g>\r\n  <g id=\"axes_15\">\r\n   <g id=\"patch_72\">\r\n    <path d=\"M 749.568966 517.05931 \r\nL 899.527586 517.05931 \r\nL 899.527586 367.10069 \r\nL 749.568966 367.10069 \r\nz\r\n\" style=\"fill:#ffffff;\"/>\r\n   </g>\r\n   <g clip-path=\"url(#pc70512e6fb)\">\r\n    <image height=\"150\" id=\"imagea0aa991a12\" transform=\"scale(1 -1)translate(0 -150)\" width=\"150\" x=\"749.568966\" xlink:href=\"data:image/png;base64,\r\niVBORw0KGgoAAAANSUhEUgAAAJYAAACWCAYAAAA8AXHiAAAeFklEQVR4nO2d248k113HT3VV9b1neq47Ozt79XrXTuzYQY6QguUEQRAoSAEhAQriDwAJJCQeeAAhEDyQB4R4DhIPCME/AOJiXhCXEDuxnfi+9q7Xe5udnktP37u6uniwXd/PqVRtIky9ne/Tme5TdU5Vnznf87t71/7wzxPzMeJm2jSVmZe244Y+335JbWOMqSz09zLw0FafecfL7TNfVZ+kovYyNDY8jJl4Jg9enPuxPddI7Wrf/q61rxuEQ7Xrd4e6/vAEN8OEgWSxUHtnwx6/h0Gresjxta203Xu6mra3Xpml7WWo8SrRMm0Pzqu/McY0jjT38bavfhfU5+o376TtaE9z7D3d0Ocres+1I/s3b9/VM37wi/rcb+nz/Lfj4PAp4RaWQykISA8J6I/042nnNeNtey2u3NL258W6JsbW7WtHt2iO9yV1JoG99VpYcl4/nBYT3JeMuqxlbguKDofY0kcT9emf4mbq7zXqarea6nP7gTXG4vG9tB18eJC26w9Gabt6SS/o5KpobhXv+fSSPm/27DNA4uMIE/I4o5c9vbqdtmsfHKXtypOiQmtdiFE//lLNsDNP236wzOvi4PD/B7ewHEpBQHqwuAKghLio53b56HLsyhbNUcpL8vtYUh0+/4G5LDQXSpKGLM6xKW2CFkMJex/dC9t9XNcfISgviTVJL9DNkjHpcpC2/e1Nawz/ZJy2J589l7Ybb++n7ZVbrbS9/wVRXvu+5rH27jRtHz9u/yCtB5ojJd1FW8909ITOAbtvaO6+WM3M8D6ygrhHTQC+5GJyO5ZDKXALy6EUBDGkIw80Q2paQge30E5tjLGlrtqxRInpGrboR1BbHvypvfdy/MTXdsst2ovzKdJ6DlDyRDrJj/7e1vUnj+ul1K/vpu3tlzppu/L+PV0MpSgR9w6tv71j8Uv9WBJm/0tX9HlP77C5r2fdf07Xbr0CCXZkH1+G59SvfReK3gP1i6CwTpb6capDtcdndB9KmsYYM1/Vjx6f6GXHG04qdCgZbmE5lAK3sBxKQRBKOjbzrng4mEBrWy/WdldmPPPouyLjNLXzBveiqPsDml5ogTm+pVbANdNdqAVWdONGS22vQLVijDEVfBdBX/He8zik3b2WNq//5Yea+4kMzVm7gKWuSDT5zj9+P22Pf/KzaduXVsFUIt0tampO4Th7gMX5Ce+kgrPmaA/P3l1Jm7UjvejaOs5OVftJrN8wLFBR5X7q4PAp4RaWQykIuN1S3UBwG87SlD/P1yX483wjdgJaLDJ0VkCLxhjjUXOPfwVaAaaXZelud6VN3l2RWO9XNJGgYs+bGuQo1mRaoe47jTWRCOL4238mDfu139Hkl6DFjwdJm9TWe7tnNN63bmq8n72atmsnuk3v87rPyg37B2k9hD/Wpr6rDaAVx++52Gyr3UD/U/WfrmUeg0ebCWh5Q2O7HcuhFLiF5VAKAlIWJQoabCtULIO+jDHGn2r7i9q6iFLhop6vFQ+m+Vr0pGJTsg/Jc7au76a7mtjKmgy8Ox2JulsNWZtJd5WMVLjAxCqQdBq+Hjio6F6DSDwcgXLe/FP5AD/5e6I1Y2z6s9CTT5SB4XrtTT1HZaJ53PwluROPz9nPsaxpLjxq0NWu3gPtd0TvtWPRfuLr+RZnsRiMMctN3Kyrs5TnjNAOZcMtLIdSEJDmqKSkvxKNt0t7V7SkPFJYUdRMFdJJ1FL/6hBuzRm34dGu+o0vaMLhqrbu9ZaokPQXViipFCtFOeQMD8l2zV/ktttVzWNzR1Lojd+VEtUYYx7741dzx47h8uzBFbrSkqvw0VefTNtrb0uiPXwqI8lD2PVx1ODvXIGreMxjiq99pnFf7tKnFxFOZYzlU7e6qve+2hAtuh3LoRS4heVQCgJSFu2GNHSR/hoHNp3QPuhBAbisFtj0EDlSP9IX847WOKnPGGOmm+rnNbWnNxribio8i+hv+QPWO6E/lxQ0ikSMoa97TWO9CI5HhWqA/tVriOoxxrz3+8+k7avfeENfjEUnBseJJNKzrv/Tu2l7cf182h5cRFSQsaOPhpCg23f0HnjsoLLT74PKxmqHI9kTjTHm+DNqxycav1nT7+F2LIdS4BaWQykI6HZBqYASWyABISevgppUipop3FQtu6Hak80AbeR0WMko/dak6Wu1JdLUQkiIoD/S2gJGSPL+PCPenkwlgcUFitRlYtNO2h+uNeOZ/KiX2YDay6K8m78t95jzL+pz/0Dnkfid99K2N9c7qEzV3njd1lgfflY/0PZ39H7ufllzXH0beRlO+dvgzDKbo49tV413NGYy132Ph3o/bsdyKAVuYTmUAosPGKURNUUhfqTtsta3acqfaLuddyWS+DN4S4L+GGA5R6qc2Tpsi+t21Itfw71ATQkoaxxVc9uzOOuO+hGmc5vTB6P8SNwwzNf0xjGNm/nSJnMZGGOMV4HN8zFJXffHopDzf/VB2q489YSuncKO96ZskEFHfYwxphIhPdIWInZu/3Dv3uSW0hslV2TznK7a+0+FkVL4bRYR7JTGwaEEuIXlUAoCOubXjxH3D0/EGZSXQdZ5HzRnErXDY231R0/L1jTrMqMf6K8NJWjdpp9WUzRAJVwNykgqMqkUHYMaSJ2Lpf0/Rcoj3fp+vodswDwQGHulPsv9PDvm3V43bQ+vIEPeb8gmeOEvXtHcfdGM15HXZ/UAIrsxpnVPx4DRrsbbfE3zuve8jiztu3q+Jei2clMBIosvr1tjxBPNpYo0RvHCUaFDyXALy6EUuIXlUAqCAG6/jQfI37QjEbgGJx9Lu26M8UcIAl0Rv/evy3A5W2Pwq65lNuakynNNJjMzzjztqsbrhNPcPv25tOiLOP9/J+ua3ODZDRr9eqB2keF5VtCmz5YxxmzUkRJyW+ev24HCYCYtnQkPvi6j9dbfypdreXSStv2qnTU5ruo8tNBrMBWof2z3cH3ur+o389rI/pI9ZsKiMB9ofL/honQcSoZbWA6lIIiaiMwJtY3PVxCIONJe2PjQ9jHyTrW9j5/Vls7InBi79RKUFzd1X78jw2a1ZhtWKaZPoD4gFb51oKDPKMrXtjfryPCbCVgl/ZFuTybik6c276ftw5mo4mCsdn+k/g8edK0x1jbkMt2owpDc0Tucw+Jx8BN6h+uvP562K995K20nAzrRGbPxrYdpe7yDd4JonIa6mOm6Pg/nONYspJLoP2GrTbwI6qeB2t5l54/lUDLcwnIoBUHU1nY7uKRtnMGkzAHQei+TxnEbWnUYK2l4ZtQNte3huqisWtV220G0hzG2v9O9/W7aPritrX5VrkuGzxRJSW0mqBWUzVMB4ciMEaG08bq00S89q2BSGuN5nPBh225n/m37Z/VlfFl5HdaaisxZb0gyp6Xgxq9K2nviLUnsS7o1G2O8uypa4M/0fuj7xszK/Sv6bTuwnMyvndVNMyeLJKSvnR5y4TTvDmXDLSyHUmD5Y4UTRLoMtF0GI0iObVshN9oTfTLHAumImQITlB6r1dTebEsyaoV2HiMqM/c6J2l7sCdta//H1B70JaXFzIQPaaaxbudRoC/RAuPdfEbP6wWiaMv0Szs8FLKtrj3Gk+vK0XCmLmluBLH5eArFNJSz4Y4ob/+X5YO1/TevWWMsJ5rj2juSPI+ui4ZXbuv9Hl9H/ZwN0e3BM/o8CW0pvTKErx4yP85GyN1hHBxKgFtYDqUgsGrb5OfBN1UrvY29Fo8f17bYfIAscNuQCjsI4oT/DpWEySNSDLUDjU+l6E4DES1Iit/vahtfDUVHjMy5NbB9jPb7Kg6wWIAyVzTeakv3OgTdtuEv9sSGtI/PrMjV1xhjpghxOl6I8lp4vgDRvaEPKR0K3Tsv6J2f+Xs72qhidCSoHUDC/Iykd5b8Y7DS4pzeCTMselP7N2eBh8lOvr+a27EcSoFbWA6lIKgfwzWV+RaYVqiZjVIVmMuBUTcL2AErLQScNrTtr9VFLXQpybqb0NW4jXKtpAemG2IfIkZ2vkudI+u7M03R6nZN7YczUCQUtS/sSCM7QJZdBsX26bdijKkhl9BqoGcfwi5HWmS7H6IQOOZx/9cU+GqMMWe++XLa9t66lbbD5z6Xtsdn9HtWYWpcwGVnjnQNtUNbQ8ojU7QOl25QptuxHEqBW1gOpSCIGixRhjzoA23Do4syuJ08Zm+La+9oX+ztiI6WKG5dryMJLaJYOlVJXKQ/JpQ1xqYX0p9v8tuTpa3EzbsPpcXs37zXnUFX84KikNQbFKUvzIBplCLUaInx/+1DIp4xbRKkRR4hei/YpWK9v2bVdqQuYt52lDPxJ1RqQ0ncwrXHmZInENrp7rTsidLdjuVQCtzCcigFAUthEOPzUgCOtrX+zv6n7aZxekkSEb1DvQY8Mhv5QZxW3vVHJJ4NfwSqGcI3h3RSRFPZNEa2NKdnJ/3Re/X1E7mVUFo815I7TKNhU/p4kU/RfA/VSr6WmjTarYoKH9vuWf2i55RQ1/9vZQ2kHdhAILZcjFpUnMK9aZRxleKrw7vuvO+kQoeS4RaWQylwC8uhFAR0IR5vI63iWJ9vvgpjZtVei5NN/T07qzNFvQltO6JetuqIVIFagVrmR52pKOYvrSQfEJXR/3SpM+B7fdWgyRq6z8PPi6I91SBMR3kwkgrm+FQG5XtHMvYu9+yzCc9GBFNT8nzI8xZVD+tVWSmWmdxc//Xreg9PfFvt+r7er7eh8+gIdXIYyJogt1e2aAQNCstj3Wu66WrpOJQMt7AcSkEw2qGbKVNCMpsyC13b++L4LMTSjrbbM6uybq7DwEz6yxqbP0GcWe/Z7f4TzLJ7dA7GC6kIvrB1O22/3Dtv9bv3DVUzvfNTGu/stYO03YbLNKNpYuQyOPmgm7bnu7aV4sFEBu0q1C4tFDHy8U6aKDVLN24+93bdDlj9/DWlmpz4/G313uM6SuIhiokpsOsPYRnI1DaabUB1gVNLtArHA+PgUALcwnIoBUHzYUGxcERwJgFyJ2za9LNYUb8uats0QRtrkIZIf5R6SHeP0ooTpNUl7kX/qFUYutdC0dfP7aKWjTHm4R+IpvZmFj+k2KwNcz/fayHPwdph2t5t2MXG3+4rgLTqay7UqlNCJOVx7s0KChZkDO58172fUtGbzneVd6J+qPcTIuJmjupx7Q9R6GEro3mHq7mHgNXEd1KhQ8lwC8uhFATMgrxo5q8zbwFfp8y26HdFedttUcVK1c6/kIciaS8LUpvlqwUdZ1xgyKXC8d3hdv59TLGkZSlhEbrSDURNdIVmFNHDqejVGDsAlf5fdFnOKm4/QYSxKS1mEUCJ++HP63d78j/yfw9G4yxrLCyAe2YuDQ/05QKSoKk4KnQoGW5hOZSCgMWmaTcMh3DDhW1peNGWIldbkLrqogcq/bg9k6YmcX70D+1+xthuvEV+WxyD9NfBPk572+2Rsg9mwUqqlOw4d9oNadvcnym8ZZ55Dgbe+gWU96OAkmDWrroRShn99OMKmF0sIIFD4c3LaSus4KQQZYTkYAyFOWogOSp0KB1uYTmUgiBqaG1VEaXjRXAhZumxFVuaoiRIUBFKia2I/qgUJWVlweuzkt0nIP0x4uZM7TSv+0djYvwFOIEBq4Rf1323EfVJSq5nbKF0DbIkV8wxspImoHpplF/dNStF8l5X2nJbfreubIRJARUyEHWBCruLzNAJ3JaZAz5su+S2DiXDLSyHUhCwhAmLgscNxPEjS2tYt/MiFCn9SH9UIDKaZhAhwgf2snmmKippkls/pTfaBElrpAZKZd3QjjY6ihSZw8Lj9PoklTEo9uFcdMm5sr8xtrTbRz9SN5WwcbZY+ceoFdhYjTEGLGd9F12SndKLkWERrzocwJMV2RlZpsYYO2C1MtPa2FiVROp2LIdS4BaWQykIliFsbIN8KWu2pvW32rEDAs5CgcitnlIhaYN9SGXTAmnRGGMmi/zvWIFrFIFiq2qvwnbHeWRdcUjjVMgWeq9i7qegdEqUUUZBWisIRqXkyWMApUoeAfywOCCXz9iATZFKbh5/oMe2laV4bFZpM8aYxr6ecb6hiy6vKBLW7VgOpcAtLIdS4BaWQykIqkNEVrAKJ7Ijz7q6oFsrFqGLUKR5LzpDZJNn8CzFMwirp84WOvPMrXOcxisKGDXGmBWcxagmKHo+qkd4VrT8tzz7/5ZnscOJ1NmTOawJLDeHSCBq6lsBXZltKwWtEYx2Or6mfhtv4CxNd6p8L3Xjz+xz5nwFZzTkxzrfPNa98m/l4PDp4BaWQymwXZORNTcYaYtboBxbI8hXSRhjqxgojpM2iCI33OznrK0TJxKbSSET1Mw5HSFKpy3645zoQmyM7V9F2ikKqiWlD+YajzSctSD0+nJsSqBVr9URxJtoPObdYtmjEbIsZ1UYjFZiPxZ0CF7GNZ6egxr5BUrlJRkfuADUeHlHAb3X6ipp53Ysh1LgFpZDKQjmK9quq3BXitraIpkCMqtNpsG3iDZ+pIlAJKmbTAQNKGw41fY+m0IjD/pcgkJOkGIoQgXQbEQSjb9bCEz1C56J0tcxPj8aabzTo5axQKkL0mOM2j08BrBNCZFSaJYK6arM3yPa1Hwp/ft0PAhphMZNM9sPNfFf3Hw/bXd8HTvcjuVQCtzCcigFQbUPKaRFmkMGXQQyRnGxQrQo7wANs4zeobR457SrMZYZxeJEUtdkggiVUFv6tI+syU24/SIznecVP0czKA4C/QSk5AGM3nyOESRSU6BwNMYYE0Pqwnsb9OULdnogKfKoK1rdWz9R/7ntLDWp63hgSb7MqzCElF3TGCj0aqoopu5lniM+p/terqmM3qVQrtBux3IoBW5hOZSCIEaUTu1YksN0Q1tqAv+fR0l+/UjbeFGyfCoN3+kplwILCwS+vfdSOlqH+2t/iELZNV0fn2jsrctKK3S2JbH3eJYf9WKMHWlDfycmys2mWkqBuXoju0/9AL5asLfVb+DYgGld+JIyEPqQmm/sK+KGmf6y/fjeqkg2XOlD6p0xcBeSaoNKbVtBemFHflcrvmjxe1NlSXQ7lkMpcAvLoRQEs46oKRzQNxW9EJNPysqC9Henr/RwlMCGPRTp3hStnZ6K1upv2pVJ6SY77mguX/3Kt9P2q0fn0vat2VbaPjiW2+8UtsUwsJ9jXNXc6aZclFfeqnkDxquAioIT+/92ekZjbr6s73pfgMJypM/vvHghbT//C99N2/cbyg8xet3OQfHBsJu2+y/Iduf7+SLqApTH9xwiz39cs6mQ1Wg/U91P21MnFTqUDbewHEpBUODRYupHtNcVR63QbnUEr8jjQyneGjekTNy+DUXd12WQmn9f1DnZsWmq1sP42JZfOdxL2/eORA9BT5S3kABlpiHcgjLUYJWVi2wqTu8FxW2Rq8xqW1JS77wtGTdv6O+1N0Qn/lzHg+k6vG3h6vLvtx9L2/V/Fb1feNv26L33RcwLXrUxvG2TuRSkDFgtSrCYZLafv7v8b2n7GIred2GLdTuWQylwC8uhFASM0Z91tXU2UC2KmU6zwaP8m64vm1va6nuR1q+XqP+5P9GWvrYvCebox5VnwBhjarBnjs5ou31wupu22/f1HCdPgm6hOKWtkBXJjLGDLhj8SoUjn5X2vRmk3mmEd7hie6lOntC93l/RUWHnf5AS6SUpLytT5Gj4Bxw5ntQ9+5fseiTTbaZX0jOOpqJhr65rrHhXJrpFe/f6Q0O8MtPauBuvp+2TWJTudiyHUuAWlkMpcAvLoRQEDIiJa6gqP8/XsGf9mIo08cybtbmrxCGTTZ1T3r0isT7s7aTt9i37XqNzCEaF5j1a0Xlifhkl2FA9nhpnBoOOI/usyHMSMxpT58yyctmMyOnnc1QsLchvZYwx8S7OKV/DFx6uhxu234cFoAlVScd24+52Zc1oVzVGrwI3aWTHZu4rpoqMOpr71/ZetcZ4J5LzQISA2ZuweLgdy6EUuIXlUAoCalvrh8ilUECF2RBT+lc1Q23LKzWkboQGOGzjvpJUzcOzCOZ8yqaQGBrdlSB/XnP0mUPkHw9RWJtVsuf2/1TY1XytlIegRdJfUqCmrlaRF2xsqwISBNVWUM6tMIn/juZU31SUDik9izZya9CV2rPyO8LvCieC9kP1OXheY2Rr9wxivUfmh7iHJB9ux3IoBW5hOZSCwMpXj9j9ZRVfINKF+RKMyaQYAuVFVVKktlL6Me2PpXlfrWvbz0qe3Ya44hABoUNQTXJbUg/9hyzNMj5vnrULH3QaGr8NjfUE0uN0ke+OTClyoyXKmmUyTI9b0n6PmhLHvA9R8RR1akxfzzrH3EfboqlqJ2NBwDGAdD1FdJOZy7WYTgit+6C/C/Ktem0oY78xxuygEAMDmF87lCXE7VgOpcAtLIdSEESomUIvpCSE1AJpZjovzm7c68mn6hDGX0pD3gR+QU0YiBHR4k9siat2kl/7Be5VZrYuuma9n92zyqxAI3k22qhI0UsqrKEPfbOCglR42dJx66DJZg1Bo13RMrMUHvd0VPAGMG7fgkE5U2x83sp3KQ4vStI1VT1T1IYyGNIin+/WYMMa4/3BpsnD0VDU7XYsh1LgFpZDKQgah9rGlzXka4CEGB7p82nb3nqDquihtaGtnq6wBra7GHV5oikkmBoyC9p6RbOAj1GIe+1uyAZJaqMPVb2g9FwWTGNEvytSJKXVovqotDnGy+L/W9KkjzHoJ7YF+nowEC1WLj0il0akv3dWRbFjHmFoK0RKooNn1aeCfBkHyERojDEVRG0tYQ+dj7Q23I7lUArcwnIoBQFtUzGosHFH22j3HdSpmdlpc+Zd0c5oRVv61rmTtM3tvVO1lYafgHnP6Z5ijDHDqJr7XVElVlLQoiJqoM3Sz0hyRQXNrXo9M82jDnvdaI4aPaC17BhxgX2RkjbvG3kauwNl66PKlFOBPS9QXo8+d1bzHWlO44s6TlTn+e/WGGNiROZEE7imPwSVPmKODg7/Z7iF5VAKAn9KhRq2uDWpS9fekG2ofpxJ2AqcXtJW2IvkE+Nf6eV1t2hxFW422QS6YYECkhS0CFAFFnS0XOTTzzwTbUS7GjMKMpkuqW0MWuTnHsqcMJmuMcbMonx6oZQ1HaL8CZSoRXknsgHElMbZj24z/ctQ+p7o2uVF5PafF2duXFLhDcV2BQK427EcSoFbWA6lwPtp/1fSPdLzscWFUF7G2FJ9e4v0dhFcWhM9JKCmO19Rqh067y9gp4q6GKNp2/G4jS+hVA07olLfz1fakWYozbB/9pok4efIwV5AyQHcihi8MTzJ5IDA+Ew26x+i7AjmsViDlPYQASWoalpds4NiOXcmY7BSML0uCby5D4q8qksXG8WZGz1431bGoN4h3nvh1Q4OnwJuYTmUArewHEpBkD0zfYIkQsROS2cFr5FJ4wjfHm8MvscZbe9f5BPljdTHi3FmmbPqp32WSRbwlaoUBIGuykhrHkq94XU6OZ2NSQYD+wNWQ/V/+P+b19I5ZXFWZ8jTyzDY7tn32ftnvIfbSoLitaXCWR7CbRi/TWW9m7b3f0auwuHIzv5cP0JRhXUYzfHaum/JeB839PuNd3SvuAW/udA+j3orsIyMdWheBkjGYhwcSoBbWA6lwPtK9euPsmkaY4ypdOVybJKMyI0t2nhwIZ7CaAo1xLKD6BSUN/NAveaQhdqM8eCDTFr0OrAC8PplvlrA+rxi/08lyPmUzLDVxwWBuxjPw3GA8j77GGNMsgDdg3p5HEkijV1p6fk8ZHV+FFV7HVAx3tXwGUXQBBO4jYMiD5+WleH0c3ofLD5gjDHRDMb8B7BM4CTkdiyHUuAWlkMpsK2ikLi49SYjRHh4tlSW3Pww/3pKm5RuDpBPoKtMx8nADiC1xgCtmrNKlWOmyP4LKc+SBCGdGlBcMlaRAGOMMQHmVRddL66KQvzXbqg/njWBRJsUUOdHN4bGuqExeL0X4r0vSLeIzKkhUJe/jTEW/TE7cuOB3Mb9I73reF3UGYw1Rndd911kXKxbDf0ew3ukQqd5dygZbmE5lILg/m8+l/4RDiXRHKK+S/d7cGs9bwuREfII0Mh69YoUgDc+kKGaUTaLI9HB+ne1xke7Nt3WoTNsHKBWzVTt5h1k7H3/ni4AxZE2LEnOGLM8kdKQWYXDOypLR1nTMthDybic2EZhwt9U4Oc7v3VRYwz0vOdfRNbk12+m7bf+6Fra3nsRkqdvv6tgpN+tcQdFCu7rJY6eVd2hk8doANd96CK91bTpllFM0XW9h/EtHW3cjuVQCtzCcigF/wvp3aA2anhX+QAAAABJRU5ErkJggg==\" y=\"-367.05931\"/>\r\n   </g>\r\n   <g id=\"matplotlib.axis_29\">\r\n    <g id=\"text_15\">\r\n     <!-- Age:13  Ethnicity:0  Gender:1 -->\r\n     <g transform=\"translate(750.86312 528.657748)scale(0.1 -0.1)\">\r\n      <use xlink:href=\"#DejaVuSans-65\"/>\r\n      <use x=\"68.408203\" xlink:href=\"#DejaVuSans-103\"/>\r\n      <use x=\"131.884766\" xlink:href=\"#DejaVuSans-101\"/>\r\n      <use x=\"193.408203\" xlink:href=\"#DejaVuSans-58\"/>\r\n      <use x=\"227.099609\" xlink:href=\"#DejaVuSans-49\"/>\r\n      <use x=\"290.722656\" xlink:href=\"#DejaVuSans-51\"/>\r\n      <use x=\"354.345703\" xlink:href=\"#DejaVuSans-32\"/>\r\n      <use x=\"386.132812\" xlink:href=\"#DejaVuSans-32\"/>\r\n      <use x=\"417.919922\" xlink:href=\"#DejaVuSans-69\"/>\r\n      <use x=\"481.103516\" xlink:href=\"#DejaVuSans-116\"/>\r\n      <use x=\"520.3125\" xlink:href=\"#DejaVuSans-104\"/>\r\n      <use x=\"583.691406\" xlink:href=\"#DejaVuSans-110\"/>\r\n      <use x=\"647.070312\" xlink:href=\"#DejaVuSans-105\"/>\r\n      <use x=\"674.853516\" xlink:href=\"#DejaVuSans-99\"/>\r\n      <use x=\"729.833984\" xlink:href=\"#DejaVuSans-105\"/>\r\n      <use x=\"757.617188\" xlink:href=\"#DejaVuSans-116\"/>\r\n      <use x=\"796.826172\" xlink:href=\"#DejaVuSans-121\"/>\r\n      <use x=\"848.755859\" xlink:href=\"#DejaVuSans-58\"/>\r\n      <use x=\"882.447266\" xlink:href=\"#DejaVuSans-48\"/>\r\n      <use x=\"946.070312\" xlink:href=\"#DejaVuSans-32\"/>\r\n      <use x=\"977.857422\" xlink:href=\"#DejaVuSans-32\"/>\r\n      <use x=\"1009.644531\" xlink:href=\"#DejaVuSans-71\"/>\r\n      <use x=\"1087.134766\" xlink:href=\"#DejaVuSans-101\"/>\r\n      <use x=\"1148.658203\" xlink:href=\"#DejaVuSans-110\"/>\r\n      <use x=\"1212.037109\" xlink:href=\"#DejaVuSans-100\"/>\r\n      <use x=\"1275.513672\" xlink:href=\"#DejaVuSans-101\"/>\r\n      <use x=\"1337.037109\" xlink:href=\"#DejaVuSans-114\"/>\r\n      <use x=\"1376.400391\" xlink:href=\"#DejaVuSans-58\"/>\r\n      <use x=\"1410.091797\" xlink:href=\"#DejaVuSans-49\"/>\r\n     </g>\r\n    </g>\r\n   </g>\r\n   <g id=\"matplotlib.axis_30\"/>\r\n   <g id=\"patch_73\">\r\n    <path d=\"M 749.568966 517.05931 \r\nL 749.568966 367.10069 \r\n\" style=\"fill:none;stroke:#000000;stroke-linecap:square;stroke-linejoin:miter;stroke-width:0.8;\"/>\r\n   </g>\r\n   <g id=\"patch_74\">\r\n    <path d=\"M 899.527586 517.05931 \r\nL 899.527586 367.10069 \r\n\" style=\"fill:none;stroke:#000000;stroke-linecap:square;stroke-linejoin:miter;stroke-width:0.8;\"/>\r\n   </g>\r\n   <g id=\"patch_75\">\r\n    <path d=\"M 749.568966 517.05931 \r\nL 899.527586 517.05931 \r\n\" style=\"fill:none;stroke:#000000;stroke-linecap:square;stroke-linejoin:miter;stroke-width:0.8;\"/>\r\n   </g>\r\n   <g id=\"patch_76\">\r\n    <path d=\"M 749.568966 367.10069 \r\nL 899.527586 367.10069 \r\n\" style=\"fill:none;stroke:#000000;stroke-linecap:square;stroke-linejoin:miter;stroke-width:0.8;\"/>\r\n   </g>\r\n  </g>\r\n  <g id=\"axes_16\">\r\n   <g id=\"patch_77\">\r\n    <path d=\"M 10.7 697.009655 \r\nL 160.658621 697.009655 \r\nL 160.658621 547.051034 \r\nL 10.7 547.051034 \r\nz\r\n\" style=\"fill:#ffffff;\"/>\r\n   </g>\r\n   <g clip-path=\"url(#pbb22466956)\">\r\n    <image height=\"150\" id=\"image54f1291ef0\" transform=\"scale(1 -1)translate(0 -150)\" width=\"150\" x=\"10.7\" xlink:href=\"data:image/png;base64,\r\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\" y=\"-547.009655\"/>\r\n   </g>\r\n   <g id=\"matplotlib.axis_31\">\r\n    <g id=\"text_16\">\r\n     <!-- Age:13  Ethnicity:0  Gender:1 -->\r\n     <g transform=\"translate(11.994154 708.608093)scale(0.1 -0.1)\">\r\n      <use xlink:href=\"#DejaVuSans-65\"/>\r\n      <use x=\"68.408203\" xlink:href=\"#DejaVuSans-103\"/>\r\n      <use x=\"131.884766\" xlink:href=\"#DejaVuSans-101\"/>\r\n      <use x=\"193.408203\" xlink:href=\"#DejaVuSans-58\"/>\r\n      <use x=\"227.099609\" xlink:href=\"#DejaVuSans-49\"/>\r\n      <use x=\"290.722656\" xlink:href=\"#DejaVuSans-51\"/>\r\n      <use x=\"354.345703\" xlink:href=\"#DejaVuSans-32\"/>\r\n      <use x=\"386.132812\" xlink:href=\"#DejaVuSans-32\"/>\r\n      <use x=\"417.919922\" xlink:href=\"#DejaVuSans-69\"/>\r\n      <use x=\"481.103516\" xlink:href=\"#DejaVuSans-116\"/>\r\n      <use x=\"520.3125\" xlink:href=\"#DejaVuSans-104\"/>\r\n      <use x=\"583.691406\" xlink:href=\"#DejaVuSans-110\"/>\r\n      <use x=\"647.070312\" xlink:href=\"#DejaVuSans-105\"/>\r\n      <use x=\"674.853516\" xlink:href=\"#DejaVuSans-99\"/>\r\n      <use x=\"729.833984\" xlink:href=\"#DejaVuSans-105\"/>\r\n      <use x=\"757.617188\" xlink:href=\"#DejaVuSans-116\"/>\r\n      <use x=\"796.826172\" xlink:href=\"#DejaVuSans-121\"/>\r\n      <use x=\"848.755859\" xlink:href=\"#DejaVuSans-58\"/>\r\n      <use x=\"882.447266\" xlink:href=\"#DejaVuSans-48\"/>\r\n      <use x=\"946.070312\" xlink:href=\"#DejaVuSans-32\"/>\r\n      <use x=\"977.857422\" xlink:href=\"#DejaVuSans-32\"/>\r\n      <use x=\"1009.644531\" xlink:href=\"#DejaVuSans-71\"/>\r\n      <use x=\"1087.134766\" xlink:href=\"#DejaVuSans-101\"/>\r\n      <use x=\"1148.658203\" xlink:href=\"#DejaVuSans-110\"/>\r\n      <use x=\"1212.037109\" xlink:href=\"#DejaVuSans-100\"/>\r\n      <use x=\"1275.513672\" xlink:href=\"#DejaVuSans-101\"/>\r\n      <use x=\"1337.037109\" xlink:href=\"#DejaVuSans-114\"/>\r\n      <use x=\"1376.400391\" xlink:href=\"#DejaVuSans-58\"/>\r\n      <use x=\"1410.091797\" xlink:href=\"#DejaVuSans-49\"/>\r\n     </g>\r\n    </g>\r\n   </g>\r\n   <g id=\"matplotlib.axis_32\"/>\r\n   <g id=\"patch_78\">\r\n    <path d=\"M 10.7 697.009655 \r\nL 10.7 547.051034 \r\n\" style=\"fill:none;stroke:#000000;stroke-linecap:square;stroke-linejoin:miter;stroke-width:0.8;\"/>\r\n   </g>\r\n   <g id=\"patch_79\">\r\n    <path d=\"M 160.658621 697.009655 \r\nL 160.658621 547.051034 \r\n\" style=\"fill:none;stroke:#000000;stroke-linecap:square;stroke-linejoin:miter;stroke-width:0.8;\"/>\r\n   </g>\r\n   <g id=\"patch_80\">\r\n    <path d=\"M 10.7 697.009655 \r\nL 160.658621 697.009655 \r\n\" style=\"fill:none;stroke:#000000;stroke-linecap:square;stroke-linejoin:miter;stroke-width:0.8;\"/>\r\n   </g>\r\n   <g id=\"patch_81\">\r\n    <path d=\"M 10.7 547.051034 \r\nL 160.658621 547.051034 \r\n\" style=\"fill:none;stroke:#000000;stroke-linecap:square;stroke-linejoin:miter;stroke-width:0.8;\"/>\r\n   </g>\r\n  </g>\r\n  <g id=\"axes_17\">\r\n   <g id=\"patch_82\">\r\n    <path d=\"M 195.417241 697.009655 \r\nL 345.375862 697.009655 \r\nL 345.375862 547.051034 \r\nL 195.417241 547.051034 \r\nz\r\n\" style=\"fill:#ffffff;\"/>\r\n   </g>\r\n   <g clip-path=\"url(#p75e8cf3664)\">\r\n    <image height=\"150\" id=\"imaged22bc734c6\" transform=\"scale(1 -1)translate(0 -150)\" width=\"150\" x=\"195.417241\" xlink:href=\"data:image/png;base64,\r\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\" y=\"-547.009655\"/>\r\n   </g>\r\n   <g id=\"matplotlib.axis_33\">\r\n    <g id=\"text_17\">\r\n     <!-- Age:13  Ethnicity:0  Gender:1 -->\r\n     <g transform=\"translate(196.711395 708.608093)scale(0.1 -0.1)\">\r\n      <use xlink:href=\"#DejaVuSans-65\"/>\r\n      <use x=\"68.408203\" xlink:href=\"#DejaVuSans-103\"/>\r\n      <use x=\"131.884766\" xlink:href=\"#DejaVuSans-101\"/>\r\n      <use x=\"193.408203\" xlink:href=\"#DejaVuSans-58\"/>\r\n      <use x=\"227.099609\" xlink:href=\"#DejaVuSans-49\"/>\r\n      <use x=\"290.722656\" xlink:href=\"#DejaVuSans-51\"/>\r\n      <use x=\"354.345703\" xlink:href=\"#DejaVuSans-32\"/>\r\n      <use x=\"386.132812\" xlink:href=\"#DejaVuSans-32\"/>\r\n      <use x=\"417.919922\" xlink:href=\"#DejaVuSans-69\"/>\r\n      <use x=\"481.103516\" xlink:href=\"#DejaVuSans-116\"/>\r\n      <use x=\"520.3125\" xlink:href=\"#DejaVuSans-104\"/>\r\n      <use x=\"583.691406\" xlink:href=\"#DejaVuSans-110\"/>\r\n      <use x=\"647.070312\" xlink:href=\"#DejaVuSans-105\"/>\r\n      <use x=\"674.853516\" xlink:href=\"#DejaVuSans-99\"/>\r\n      <use x=\"729.833984\" xlink:href=\"#DejaVuSans-105\"/>\r\n      <use x=\"757.617188\" xlink:href=\"#DejaVuSans-116\"/>\r\n      <use x=\"796.826172\" xlink:href=\"#DejaVuSans-121\"/>\r\n      <use x=\"848.755859\" xlink:href=\"#DejaVuSans-58\"/>\r\n      <use x=\"882.447266\" xlink:href=\"#DejaVuSans-48\"/>\r\n      <use x=\"946.070312\" xlink:href=\"#DejaVuSans-32\"/>\r\n      <use x=\"977.857422\" xlink:href=\"#DejaVuSans-32\"/>\r\n      <use x=\"1009.644531\" xlink:href=\"#DejaVuSans-71\"/>\r\n      <use x=\"1087.134766\" xlink:href=\"#DejaVuSans-101\"/>\r\n      <use x=\"1148.658203\" xlink:href=\"#DejaVuSans-110\"/>\r\n      <use x=\"1212.037109\" xlink:href=\"#DejaVuSans-100\"/>\r\n      <use x=\"1275.513672\" xlink:href=\"#DejaVuSans-101\"/>\r\n      <use x=\"1337.037109\" xlink:href=\"#DejaVuSans-114\"/>\r\n      <use x=\"1376.400391\" xlink:href=\"#DejaVuSans-58\"/>\r\n      <use x=\"1410.091797\" xlink:href=\"#DejaVuSans-49\"/>\r\n     </g>\r\n    </g>\r\n   </g>\r\n   <g id=\"matplotlib.axis_34\"/>\r\n   <g id=\"patch_83\">\r\n    <path d=\"M 195.417241 697.009655 \r\nL 195.417241 547.051034 \r\n\" style=\"fill:none;stroke:#000000;stroke-linecap:square;stroke-linejoin:miter;stroke-width:0.8;\"/>\r\n   </g>\r\n   <g id=\"patch_84\">\r\n    <path d=\"M 345.375862 697.009655 \r\nL 345.375862 547.051034 \r\n\" style=\"fill:none;stroke:#000000;stroke-linecap:square;stroke-linejoin:miter;stroke-width:0.8;\"/>\r\n   </g>\r\n   <g id=\"patch_85\">\r\n    <path d=\"M 195.417241 697.009655 \r\nL 345.375862 697.009655 \r\n\" style=\"fill:none;stroke:#000000;stroke-linecap:square;stroke-linejoin:miter;stroke-width:0.8;\"/>\r\n   </g>\r\n   <g id=\"patch_86\">\r\n    <path d=\"M 195.417241 547.051034 \r\nL 345.375862 547.051034 \r\n\" style=\"fill:none;stroke:#000000;stroke-linecap:square;stroke-linejoin:miter;stroke-width:0.8;\"/>\r\n   </g>\r\n  </g>\r\n  <g id=\"axes_18\">\r\n   <g id=\"patch_87\">\r\n    <path d=\"M 380.134483 697.009655 \r\nL 530.093103 697.009655 \r\nL 530.093103 547.051034 \r\nL 380.134483 547.051034 \r\nz\r\n\" style=\"fill:#ffffff;\"/>\r\n   </g>\r\n   <g clip-path=\"url(#p67a72da72f)\">\r\n    <image height=\"150\" id=\"image7f8f5e1247\" transform=\"scale(1 -1)translate(0 -150)\" width=\"150\" x=\"380.134483\" xlink:href=\"data:image/png;base64,\r\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\" y=\"-547.009655\"/>\r\n   </g>\r\n   <g id=\"matplotlib.axis_35\">\r\n    <g id=\"text_18\">\r\n     <!-- Age:13  Ethnicity:0  Gender:1 -->\r\n     <g transform=\"translate(381.428637 708.608093)scale(0.1 -0.1)\">\r\n      <use xlink:href=\"#DejaVuSans-65\"/>\r\n      <use x=\"68.408203\" xlink:href=\"#DejaVuSans-103\"/>\r\n      <use x=\"131.884766\" xlink:href=\"#DejaVuSans-101\"/>\r\n      <use x=\"193.408203\" xlink:href=\"#DejaVuSans-58\"/>\r\n      <use x=\"227.099609\" xlink:href=\"#DejaVuSans-49\"/>\r\n      <use x=\"290.722656\" xlink:href=\"#DejaVuSans-51\"/>\r\n      <use x=\"354.345703\" xlink:href=\"#DejaVuSans-32\"/>\r\n      <use x=\"386.132812\" xlink:href=\"#DejaVuSans-32\"/>\r\n      <use x=\"417.919922\" xlink:href=\"#DejaVuSans-69\"/>\r\n      <use x=\"481.103516\" xlink:href=\"#DejaVuSans-116\"/>\r\n      <use x=\"520.3125\" xlink:href=\"#DejaVuSans-104\"/>\r\n      <use x=\"583.691406\" xlink:href=\"#DejaVuSans-110\"/>\r\n      <use x=\"647.070312\" xlink:href=\"#DejaVuSans-105\"/>\r\n      <use x=\"674.853516\" xlink:href=\"#DejaVuSans-99\"/>\r\n      <use x=\"729.833984\" xlink:href=\"#DejaVuSans-105\"/>\r\n      <use x=\"757.617188\" xlink:href=\"#DejaVuSans-116\"/>\r\n      <use x=\"796.826172\" xlink:href=\"#DejaVuSans-121\"/>\r\n      <use x=\"848.755859\" xlink:href=\"#DejaVuSans-58\"/>\r\n      <use x=\"882.447266\" xlink:href=\"#DejaVuSans-48\"/>\r\n      <use x=\"946.070312\" xlink:href=\"#DejaVuSans-32\"/>\r\n      <use x=\"977.857422\" xlink:href=\"#DejaVuSans-32\"/>\r\n      <use x=\"1009.644531\" xlink:href=\"#DejaVuSans-71\"/>\r\n      <use x=\"1087.134766\" xlink:href=\"#DejaVuSans-101\"/>\r\n      <use x=\"1148.658203\" xlink:href=\"#DejaVuSans-110\"/>\r\n      <use x=\"1212.037109\" xlink:href=\"#DejaVuSans-100\"/>\r\n      <use x=\"1275.513672\" xlink:href=\"#DejaVuSans-101\"/>\r\n      <use x=\"1337.037109\" xlink:href=\"#DejaVuSans-114\"/>\r\n      <use x=\"1376.400391\" xlink:href=\"#DejaVuSans-58\"/>\r\n      <use x=\"1410.091797\" xlink:href=\"#DejaVuSans-49\"/>\r\n     </g>\r\n    </g>\r\n   </g>\r\n   <g id=\"matplotlib.axis_36\"/>\r\n   <g id=\"patch_88\">\r\n    <path d=\"M 380.134483 697.009655 \r\nL 380.134483 547.051034 \r\n\" style=\"fill:none;stroke:#000000;stroke-linecap:square;stroke-linejoin:miter;stroke-width:0.8;\"/>\r\n   </g>\r\n   <g id=\"patch_89\">\r\n    <path d=\"M 530.093103 697.009655 \r\nL 530.093103 547.051034 \r\n\" style=\"fill:none;stroke:#000000;stroke-linecap:square;stroke-linejoin:miter;stroke-width:0.8;\"/>\r\n   </g>\r\n   <g id=\"patch_90\">\r\n    <path d=\"M 380.134483 697.009655 \r\nL 530.093103 697.009655 \r\n\" style=\"fill:none;stroke:#000000;stroke-linecap:square;stroke-linejoin:miter;stroke-width:0.8;\"/>\r\n   </g>\r\n   <g id=\"patch_91\">\r\n    <path d=\"M 380.134483 547.051034 \r\nL 530.093103 547.051034 \r\n\" style=\"fill:none;stroke:#000000;stroke-linecap:square;stroke-linejoin:miter;stroke-width:0.8;\"/>\r\n   </g>\r\n  </g>\r\n  <g id=\"axes_19\">\r\n   <g id=\"patch_92\">\r\n    <path d=\"M 564.851724 697.009655 \r\nL 714.810345 697.009655 \r\nL 714.810345 547.051034 \r\nL 564.851724 547.051034 \r\nz\r\n\" style=\"fill:#ffffff;\"/>\r\n   </g>\r\n   <g clip-path=\"url(#pb23672f129)\">\r\n    <image height=\"150\" id=\"image03f864a982\" transform=\"scale(1 -1)translate(0 -150)\" width=\"150\" x=\"564.851724\" xlink:href=\"data:image/png;base64,\r\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\" y=\"-547.009655\"/>\r\n   </g>\r\n   <g id=\"matplotlib.axis_37\">\r\n    <g id=\"text_19\">\r\n     <!-- Age:13  Ethnicity:0  Gender:1 -->\r\n     <g transform=\"translate(566.145878 708.608093)scale(0.1 -0.1)\">\r\n      <use xlink:href=\"#DejaVuSans-65\"/>\r\n      <use x=\"68.408203\" xlink:href=\"#DejaVuSans-103\"/>\r\n      <use x=\"131.884766\" xlink:href=\"#DejaVuSans-101\"/>\r\n      <use x=\"193.408203\" xlink:href=\"#DejaVuSans-58\"/>\r\n      <use x=\"227.099609\" xlink:href=\"#DejaVuSans-49\"/>\r\n      <use x=\"290.722656\" xlink:href=\"#DejaVuSans-51\"/>\r\n      <use x=\"354.345703\" xlink:href=\"#DejaVuSans-32\"/>\r\n      <use x=\"386.132812\" xlink:href=\"#DejaVuSans-32\"/>\r\n      <use x=\"417.919922\" xlink:href=\"#DejaVuSans-69\"/>\r\n      <use x=\"481.103516\" xlink:href=\"#DejaVuSans-116\"/>\r\n      <use x=\"520.3125\" xlink:href=\"#DejaVuSans-104\"/>\r\n      <use x=\"583.691406\" xlink:href=\"#DejaVuSans-110\"/>\r\n      <use x=\"647.070312\" xlink:href=\"#DejaVuSans-105\"/>\r\n      <use x=\"674.853516\" xlink:href=\"#DejaVuSans-99\"/>\r\n      <use x=\"729.833984\" xlink:href=\"#DejaVuSans-105\"/>\r\n      <use x=\"757.617188\" xlink:href=\"#DejaVuSans-116\"/>\r\n      <use x=\"796.826172\" xlink:href=\"#DejaVuSans-121\"/>\r\n      <use x=\"848.755859\" xlink:href=\"#DejaVuSans-58\"/>\r\n      <use x=\"882.447266\" xlink:href=\"#DejaVuSans-48\"/>\r\n      <use x=\"946.070312\" xlink:href=\"#DejaVuSans-32\"/>\r\n      <use x=\"977.857422\" xlink:href=\"#DejaVuSans-32\"/>\r\n      <use x=\"1009.644531\" xlink:href=\"#DejaVuSans-71\"/>\r\n      <use x=\"1087.134766\" xlink:href=\"#DejaVuSans-101\"/>\r\n      <use x=\"1148.658203\" xlink:href=\"#DejaVuSans-110\"/>\r\n      <use x=\"1212.037109\" xlink:href=\"#DejaVuSans-100\"/>\r\n      <use x=\"1275.513672\" xlink:href=\"#DejaVuSans-101\"/>\r\n      <use x=\"1337.037109\" xlink:href=\"#DejaVuSans-114\"/>\r\n      <use x=\"1376.400391\" xlink:href=\"#DejaVuSans-58\"/>\r\n      <use x=\"1410.091797\" xlink:href=\"#DejaVuSans-49\"/>\r\n     </g>\r\n    </g>\r\n   </g>\r\n   <g id=\"matplotlib.axis_38\"/>\r\n   <g id=\"patch_93\">\r\n    <path d=\"M 564.851724 697.009655 \r\nL 564.851724 547.051034 \r\n\" style=\"fill:none;stroke:#000000;stroke-linecap:square;stroke-linejoin:miter;stroke-width:0.8;\"/>\r\n   </g>\r\n   <g id=\"patch_94\">\r\n    <path d=\"M 714.810345 697.009655 \r\nL 714.810345 547.051034 \r\n\" style=\"fill:none;stroke:#000000;stroke-linecap:square;stroke-linejoin:miter;stroke-width:0.8;\"/>\r\n   </g>\r\n   <g id=\"patch_95\">\r\n    <path d=\"M 564.851724 697.009655 \r\nL 714.810345 697.009655 \r\n\" style=\"fill:none;stroke:#000000;stroke-linecap:square;stroke-linejoin:miter;stroke-width:0.8;\"/>\r\n   </g>\r\n   <g id=\"patch_96\">\r\n    <path d=\"M 564.851724 547.051034 \r\nL 714.810345 547.051034 \r\n\" style=\"fill:none;stroke:#000000;stroke-linecap:square;stroke-linejoin:miter;stroke-width:0.8;\"/>\r\n   </g>\r\n  </g>\r\n  <g id=\"axes_20\">\r\n   <g id=\"patch_97\">\r\n    <path d=\"M 749.568966 697.009655 \r\nL 899.527586 697.009655 \r\nL 899.527586 547.051034 \r\nL 749.568966 547.051034 \r\nz\r\n\" style=\"fill:#ffffff;\"/>\r\n   </g>\r\n   <g clip-path=\"url(#p7cd11d8ac8)\">\r\n    <image height=\"150\" id=\"imaged4ab3fb2da\" transform=\"scale(1 -1)translate(0 -150)\" width=\"150\" x=\"749.568966\" xlink:href=\"data:image/png;base64,\r\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\" y=\"-547.009655\"/>\r\n   </g>\r\n   <g id=\"matplotlib.axis_39\">\r\n    <g id=\"text_20\">\r\n     <!-- Age:13  Ethnicity:0  Gender:1 -->\r\n     <g transform=\"translate(750.86312 708.608093)scale(0.1 -0.1)\">\r\n      <use xlink:href=\"#DejaVuSans-65\"/>\r\n      <use x=\"68.408203\" xlink:href=\"#DejaVuSans-103\"/>\r\n      <use x=\"131.884766\" xlink:href=\"#DejaVuSans-101\"/>\r\n      <use x=\"193.408203\" xlink:href=\"#DejaVuSans-58\"/>\r\n      <use x=\"227.099609\" xlink:href=\"#DejaVuSans-49\"/>\r\n      <use x=\"290.722656\" xlink:href=\"#DejaVuSans-51\"/>\r\n      <use x=\"354.345703\" xlink:href=\"#DejaVuSans-32\"/>\r\n      <use x=\"386.132812\" xlink:href=\"#DejaVuSans-32\"/>\r\n      <use x=\"417.919922\" xlink:href=\"#DejaVuSans-69\"/>\r\n      <use x=\"481.103516\" xlink:href=\"#DejaVuSans-116\"/>\r\n      <use x=\"520.3125\" xlink:href=\"#DejaVuSans-104\"/>\r\n      <use x=\"583.691406\" xlink:href=\"#DejaVuSans-110\"/>\r\n      <use x=\"647.070312\" xlink:href=\"#DejaVuSans-105\"/>\r\n      <use x=\"674.853516\" xlink:href=\"#DejaVuSans-99\"/>\r\n      <use x=\"729.833984\" xlink:href=\"#DejaVuSans-105\"/>\r\n      <use x=\"757.617188\" xlink:href=\"#DejaVuSans-116\"/>\r\n      <use x=\"796.826172\" xlink:href=\"#DejaVuSans-121\"/>\r\n      <use x=\"848.755859\" xlink:href=\"#DejaVuSans-58\"/>\r\n      <use x=\"882.447266\" xlink:href=\"#DejaVuSans-48\"/>\r\n      <use x=\"946.070312\" xlink:href=\"#DejaVuSans-32\"/>\r\n      <use x=\"977.857422\" xlink:href=\"#DejaVuSans-32\"/>\r\n      <use x=\"1009.644531\" xlink:href=\"#DejaVuSans-71\"/>\r\n      <use x=\"1087.134766\" xlink:href=\"#DejaVuSans-101\"/>\r\n      <use x=\"1148.658203\" xlink:href=\"#DejaVuSans-110\"/>\r\n      <use x=\"1212.037109\" xlink:href=\"#DejaVuSans-100\"/>\r\n      <use x=\"1275.513672\" xlink:href=\"#DejaVuSans-101\"/>\r\n      <use x=\"1337.037109\" xlink:href=\"#DejaVuSans-114\"/>\r\n      <use x=\"1376.400391\" xlink:href=\"#DejaVuSans-58\"/>\r\n      <use x=\"1410.091797\" xlink:href=\"#DejaVuSans-49\"/>\r\n     </g>\r\n    </g>\r\n   </g>\r\n   <g id=\"matplotlib.axis_40\"/>\r\n   <g id=\"patch_98\">\r\n    <path d=\"M 749.568966 697.009655 \r\nL 749.568966 547.051034 \r\n\" style=\"fill:none;stroke:#000000;stroke-linecap:square;stroke-linejoin:miter;stroke-width:0.8;\"/>\r\n   </g>\r\n   <g id=\"patch_99\">\r\n    <path d=\"M 899.527586 697.009655 \r\nL 899.527586 547.051034 \r\n\" style=\"fill:none;stroke:#000000;stroke-linecap:square;stroke-linejoin:miter;stroke-width:0.8;\"/>\r\n   </g>\r\n   <g id=\"patch_100\">\r\n    <path d=\"M 749.568966 697.009655 \r\nL 899.527586 697.009655 \r\n\" style=\"fill:none;stroke:#000000;stroke-linecap:square;stroke-linejoin:miter;stroke-width:0.8;\"/>\r\n   </g>\r\n   <g id=\"patch_101\">\r\n    <path d=\"M 749.568966 547.051034 \r\nL 899.527586 547.051034 \r\n\" style=\"fill:none;stroke:#000000;stroke-linecap:square;stroke-linejoin:miter;stroke-width:0.8;\"/>\r\n   </g>\r\n  </g>\r\n </g>\r\n <defs>\r\n  <clipPath id=\"p434e355f05\">\r\n   <rect height=\"149.958621\" width=\"149.958621\" x=\"10.7\" y=\"7.2\"/>\r\n  </clipPath>\r\n  <clipPath id=\"p3929c83041\">\r\n   <rect height=\"149.958621\" width=\"149.958621\" x=\"195.417241\" y=\"7.2\"/>\r\n  </clipPath>\r\n  <clipPath id=\"p75ae1258a8\">\r\n   <rect height=\"149.958621\" width=\"149.958621\" x=\"380.134483\" y=\"7.2\"/>\r\n  </clipPath>\r\n  <clipPath id=\"pec40a0be4e\">\r\n   <rect height=\"149.958621\" width=\"149.958621\" x=\"564.851724\" y=\"7.2\"/>\r\n  </clipPath>\r\n  <clipPath id=\"pef4a04ff5c\">\r\n   <rect height=\"149.958621\" width=\"149.958621\" x=\"749.568966\" y=\"7.2\"/>\r\n  </clipPath>\r\n  <clipPath id=\"p69447ef4d4\">\r\n   <rect height=\"149.958621\" width=\"149.958621\" x=\"10.7\" y=\"187.150345\"/>\r\n  </clipPath>\r\n  <clipPath id=\"p47426004e4\">\r\n   <rect height=\"149.958621\" width=\"149.958621\" x=\"195.417241\" y=\"187.150345\"/>\r\n  </clipPath>\r\n  <clipPath id=\"pdc760c1e6b\">\r\n   <rect height=\"149.958621\" width=\"149.958621\" x=\"380.134483\" y=\"187.150345\"/>\r\n  </clipPath>\r\n  <clipPath id=\"p4cc00a64cb\">\r\n   <rect height=\"149.958621\" width=\"149.958621\" x=\"564.851724\" y=\"187.150345\"/>\r\n  </clipPath>\r\n  <clipPath id=\"p30e301789a\">\r\n   <rect height=\"149.958621\" width=\"149.958621\" x=\"749.568966\" y=\"187.150345\"/>\r\n  </clipPath>\r\n  <clipPath id=\"pcb6056692e\">\r\n   <rect height=\"149.958621\" width=\"149.958621\" x=\"10.7\" y=\"367.10069\"/>\r\n  </clipPath>\r\n  <clipPath id=\"p90136ae929\">\r\n   <rect height=\"149.958621\" width=\"149.958621\" x=\"195.417241\" y=\"367.10069\"/>\r\n  </clipPath>\r\n  <clipPath id=\"p89fad92581\">\r\n   <rect height=\"149.958621\" width=\"149.958621\" x=\"380.134483\" y=\"367.10069\"/>\r\n  </clipPath>\r\n  <clipPath id=\"p5d7a29f8e9\">\r\n   <rect height=\"149.958621\" width=\"149.958621\" x=\"564.851724\" y=\"367.10069\"/>\r\n  </clipPath>\r\n  <clipPath id=\"pc70512e6fb\">\r\n   <rect height=\"149.958621\" width=\"149.958621\" x=\"749.568966\" y=\"367.10069\"/>\r\n  </clipPath>\r\n  <clipPath id=\"pbb22466956\">\r\n   <rect height=\"149.958621\" width=\"149.958621\" x=\"10.7\" y=\"547.051034\"/>\r\n  </clipPath>\r\n  <clipPath id=\"p75e8cf3664\">\r\n   <rect height=\"149.958621\" width=\"149.958621\" x=\"195.417241\" y=\"547.051034\"/>\r\n  </clipPath>\r\n  <clipPath id=\"p67a72da72f\">\r\n   <rect height=\"149.958621\" width=\"149.958621\" x=\"380.134483\" y=\"547.051034\"/>\r\n  </clipPath>\r\n  <clipPath id=\"pb23672f129\">\r\n   <rect height=\"149.958621\" width=\"149.958621\" x=\"564.851724\" y=\"547.051034\"/>\r\n  </clipPath>\r\n  <clipPath id=\"p7cd11d8ac8\">\r\n   <rect height=\"149.958621\" width=\"149.958621\" x=\"749.568966\" y=\"547.051034\"/>\r\n  </clipPath>\r\n </defs>\r\n</svg>\r\n",
      "image/png": "[encoded data removed]"
     },
     "metadata": {}
    }
   ],
   "source": [
    "plt.figure(figsize=(16,16))\n",
    "for i in range(1500,1520):\n",
    "    plt.subplot(5,5,(i%25)+1)\n",
    "    plt.xticks([])\n",
    "    plt.yticks([])\n",
    "    plt.grid(False)\n",
    "    plt.imshow(data['pixels'].iloc[i].reshape(48,48))\n",
    "    plt.xlabel(\n",
    "        \"Age:\"+str(data['age'].iloc[i])+\n",
    "        \"  Ethnicity:\"+str(data['ethnicity'].iloc[i])+\n",
    "        \"  Gender:\"+ str(data['gender'].iloc[i])\n",
    "    )\n",
    "plt.show()"
   ]
  },
  {
   "cell_type": "markdown",
   "metadata": {
    "papermill": {
     "duration": 0.03823,
     "end_time": "2020-09-24T10:29:07.873709",
     "exception": false,
     "start_time": "2020-09-24T10:29:07.835479",
     "status": "completed"
    },
    "tags": []
   },
   "source": [
    " <a id=\"04\"></a>\n",
    "\n",
    "<h1 class=\"list-group-item active\" style='background:purple; border:0'>\n",
    "    <center>Model for Gender Prediction</center>\n",
    "</h1>"
   ]
  },
  {
   "cell_type": "markdown",
   "metadata": {
    "papermill": {
     "duration": 0.037719,
     "end_time": "2020-09-24T10:29:07.947886",
     "exception": false,
     "start_time": "2020-09-24T10:29:07.910167",
     "status": "completed"
    },
    "tags": []
   },
   "source": [
    "### Split data into train/test <a id=\"4.1\"></a>"
   ]
  },
  {
   "cell_type": "code",
   "execution_count": 26,
   "metadata": {
    "execution": {
     "iopub.execute_input": "2020-09-24T10:29:08.032712Z",
     "iopub.status.busy": "2020-09-24T10:29:08.031141Z",
     "iopub.status.idle": "2020-09-24T10:29:08.087662Z",
     "shell.execute_reply": "2020-09-24T10:29:08.087115Z"
    },
    "papermill": {
     "duration": 0.10287,
     "end_time": "2020-09-24T10:29:08.087795",
     "exception": false,
     "start_time": "2020-09-24T10:29:07.984925",
     "status": "completed"
    },
    "tags": []
   },
   "outputs": [],
   "source": [
    "y = data['gender']\n",
    "\n",
    "X_train, X_test, y_train, y_test = train_test_split(\n",
    "    X, y, test_size=0.22, random_state=37\n",
    ")"
   ]
  },
  {
   "cell_type": "markdown",
   "metadata": {
    "papermill": {
     "duration": 0.037718,
     "end_time": "2020-09-24T10:29:08.163085",
     "exception": false,
     "start_time": "2020-09-24T10:29:08.125367",
     "status": "completed"
    },
    "tags": []
   },
   "source": [
    "### Build and train model <a id=\"4.2\"></a>"
   ]
  },
  {
   "cell_type": "code",
   "execution_count": 27,
   "metadata": {
    "execution": {
     "iopub.execute_input": "2020-09-24T10:29:08.251533Z",
     "iopub.status.busy": "2020-09-24T10:29:08.250867Z",
     "iopub.status.idle": "2020-09-24T10:29:11.614019Z",
     "shell.execute_reply": "2020-09-24T10:29:11.616126Z"
    },
    "papermill": {
     "duration": 3.415835,
     "end_time": "2020-09-24T10:29:11.616392",
     "exception": false,
     "start_time": "2020-09-24T10:29:08.200557",
     "status": "completed"
    },
    "tags": []
   },
   "outputs": [
    {
     "output_type": "stream",
     "name": "stdout",
     "text": [
      "Model: \"sequential_1\"\n_________________________________________________________________\nLayer (type)                 Output Shape              Param #   \n=================================================================\nconv2d_2 (Conv2D)            (None, 46, 46, 32)        320       \n_________________________________________________________________\nbatch_normalization_1 (Batch (None, 46, 46, 32)        128       \n_________________________________________________________________\nmax_pooling2d_2 (MaxPooling2 (None, 23, 23, 32)        0         \n_________________________________________________________________\nconv2d_3 (Conv2D)            (None, 21, 21, 64)        18496     \n_________________________________________________________________\nmax_pooling2d_3 (MaxPooling2 (None, 10, 10, 64)        0         \n_________________________________________________________________\nflatten_1 (Flatten)          (None, 6400)              0         \n_________________________________________________________________\ndense_2 (Dense)              (None, 64)                409664    \n_________________________________________________________________\ndropout_1 (Dropout)          (None, 64)                0         \n_________________________________________________________________\ndense_3 (Dense)              (None, 1)                 65        \n=================================================================\nTotal params: 428,673\nTrainable params: 428,609\nNon-trainable params: 64\n_________________________________________________________________\n"
     ]
    }
   ],
   "source": [
    "model = tf.keras.Sequential([\n",
    "    L.InputLayer(input_shape=(48,48,1)),\n",
    "    L.Conv2D(32, (3, 3), activation='relu', input_shape=(32, 32, 3)),\n",
    "    L.BatchNormalization(),\n",
    "    L.MaxPooling2D((2, 2)),\n",
    "    L.Conv2D(64, (3, 3), activation='relu'),\n",
    "    L.MaxPooling2D((2, 2)),\n",
    "    L.Flatten(),\n",
    "    L.Dense(64, activation='relu'),\n",
    "    L.Dropout(rate=0.5),\n",
    "    L.Dense(1, activation='sigmoid')\n",
    "])\n",
    "\n",
    "model.compile(optimizer='sgd',\n",
    "              loss=tf.keras.losses.BinaryCrossentropy(),\n",
    "              metrics=['accuracy'])\n",
    "\n",
    "\n",
    "## Stop training when validation loss reach 0.2700\n",
    "class myCallback(tf.keras.callbacks.Callback):\n",
    "    def on_epoch_end(self, epoch, logs={}):\n",
    "        if(logs.get('val_loss')<0.2700):\n",
    "            print(\"\\nReached 0.2700 val_loss so cancelling training!\")\n",
    "            self.model.stop_training = True\n",
    "        \n",
    "callback = myCallback()\n",
    "\n",
    "model.summary()"
   ]
  },
  {
   "cell_type": "code",
   "execution_count": 28,
   "metadata": {
    "execution": {
     "iopub.execute_input": "2020-09-24T10:29:11.757626Z",
     "iopub.status.busy": "2020-09-24T10:29:11.756734Z",
     "iopub.status.idle": "2020-09-24T10:29:33.574242Z",
     "shell.execute_reply": "2020-09-24T10:29:33.573593Z"
    },
    "papermill": {
     "duration": 21.888629,
     "end_time": "2020-09-24T10:29:33.574372",
     "exception": false,
     "start_time": "2020-09-24T10:29:11.685743",
     "status": "completed"
    },
    "tags": []
   },
   "outputs": [
    {
     "output_type": "stream",
     "name": "stdout",
     "text": [
      "Epoch 1/20\n",
      "260/260 [==============================] - 35s 135ms/step - loss: 0.5884 - accuracy: 0.6797 - val_loss: 0.5954 - val_accuracy: 0.8183\n",
      "Epoch 2/20\n",
      "260/260 [==============================] - 37s 141ms/step - loss: 0.4073 - accuracy: 0.8142 - val_loss: 0.4024 - val_accuracy: 0.8394\n",
      "Epoch 3/20\n",
      "260/260 [==============================] - 36s 140ms/step - loss: 0.3537 - accuracy: 0.8411 - val_loss: 0.3442 - val_accuracy: 0.8480\n",
      "Epoch 4/20\n",
      "260/260 [==============================] - 36s 140ms/step - loss: 0.3414 - accuracy: 0.8476 - val_loss: 0.3233 - val_accuracy: 0.8621\n",
      "Epoch 5/20\n",
      "260/260 [==============================] - 37s 142ms/step - loss: 0.3152 - accuracy: 0.8598 - val_loss: 0.3110 - val_accuracy: 0.8643\n",
      "Epoch 6/20\n",
      "260/260 [==============================] - 37s 143ms/step - loss: 0.3116 - accuracy: 0.8609 - val_loss: 0.3018 - val_accuracy: 0.8675\n",
      "Epoch 7/20\n",
      "260/260 [==============================] - 37s 142ms/step - loss: 0.2898 - accuracy: 0.8731 - val_loss: 0.3070 - val_accuracy: 0.8664\n",
      "Epoch 8/20\n",
      "260/260 [==============================] - 38s 147ms/step - loss: 0.2886 - accuracy: 0.8735 - val_loss: 0.2952 - val_accuracy: 0.8761\n",
      "Epoch 9/20\n",
      "260/260 [==============================] - 37s 143ms/step - loss: 0.2632 - accuracy: 0.8872 - val_loss: 0.2873 - val_accuracy: 0.8778\n",
      "Epoch 10/20\n",
      "260/260 [==============================] - 37s 143ms/step - loss: 0.2654 - accuracy: 0.8851 - val_loss: 0.2791 - val_accuracy: 0.8778\n",
      "Epoch 11/20\n",
      "260/260 [==============================] - 37s 143ms/step - loss: 0.2603 - accuracy: 0.8910 - val_loss: 0.3131 - val_accuracy: 0.8621\n",
      "Epoch 12/20\n",
      "260/260 [==============================] - 37s 142ms/step - loss: 0.2505 - accuracy: 0.8930 - val_loss: 0.2810 - val_accuracy: 0.8799\n",
      "Epoch 13/20\n",
      "260/260 [==============================] - 38s 144ms/step - loss: 0.2459 - accuracy: 0.8976 - val_loss: 0.2898 - val_accuracy: 0.8718\n",
      "Epoch 14/20\n",
      "260/260 [==============================] - 37s 144ms/step - loss: 0.2340 - accuracy: 0.9044 - val_loss: 0.2687 - val_accuracy: 0.8864\n",
      "\n",
      "Reached 0.2700 val_loss so cancelling training!\n"
     ]
    }
   ],
   "source": [
    "history = model.fit(\n",
    "    X_train, y_train, epochs=20, validation_split=0.1, batch_size=64, callbacks=[callback]\n",
    ")"
   ]
  },
  {
   "cell_type": "markdown",
   "metadata": {
    "papermill": {
     "duration": 0.221475,
     "end_time": "2020-09-24T10:29:34.027398",
     "exception": false,
     "start_time": "2020-09-24T10:29:33.805923",
     "status": "completed"
    },
    "tags": []
   },
   "source": [
    "### Evaluate training history <a id=\"4.3\"></a>"
   ]
  },
  {
   "cell_type": "code",
   "execution_count": 29,
   "metadata": {
    "_kg_hide-input": true,
    "execution": {
     "iopub.execute_input": "2020-09-24T10:29:34.418390Z",
     "iopub.status.busy": "2020-09-24T10:29:34.417554Z",
     "iopub.status.idle": "2020-09-24T10:29:35.430126Z",
     "shell.execute_reply": "2020-09-24T10:29:35.429191Z"
    },
    "papermill": {
     "duration": 1.169965,
     "end_time": "2020-09-24T10:29:35.430245",
     "exception": false,
     "start_time": "2020-09-24T10:29:34.260280",
     "status": "completed"
    },
    "tags": []
   },
   "outputs": [
    {
     "output_type": "display_data",
     "data": {
      "application/vnd.plotly.v1+json": {
       "config": {
        "plotlyServerURL": "https://plot.ly"
       },
       "data": [
        {
         "hovertemplate": "variable=loss<br>epoch=%{x}<br>loss=%{y}<extra></extra>",
         "legendgroup": "loss",
         "line": {
          "color": "#636efa",
          "dash": "solid"
         },
         "mode": "lines",
         "name": "loss",
         "orientation": "v",
         "showlegend": true,
         "type": "scatter",
         "x": [
          0,
          1,
          2,
          3,
          4,
          5,
          6,
          7,
          8,
          9,
          10,
          11,
          12,
          13
         ],
         "xaxis": "x",
         "y": [
          0.522874653339386,
          0.3907689154148102,
          0.35083916783332825,
          0.3320033848285675,
          0.31144893169403076,
          0.3053814470767975,
          0.29104459285736084,
          0.2833889126777649,
          0.2714780867099762,
          0.2659469544887543,
          0.25831517577171326,
          0.250045508146286,
          0.24217696487903595,
          0.2412550300359726
         ],
         "yaxis": "y"
        },
        {
         "hovertemplate": "variable=val_loss<br>epoch=%{x}<br>loss=%{y}<extra></extra>",
         "legendgroup": "val_loss",
         "line": {
          "color": "#EF553B",
          "dash": "solid"
         },
         "mode": "lines",
         "name": "val_loss",
         "orientation": "v",
         "showlegend": true,
         "type": "scatter",
         "x": [
          0,
          1,
          2,
          3,
          4,
          5,
          6,
          7,
          8,
          9,
          10,
          11,
          12,
          13
         ],
         "xaxis": "x",
         "y": [
          0.595445990562439,
          0.4024087190628052,
          0.3441869616508484,
          0.32325291633605957,
          0.31101205945014954,
          0.3017987906932831,
          0.30697527527809143,
          0.2951844334602356,
          0.28730496764183044,
          0.2791109085083008,
          0.3131133019924164,
          0.2810138165950775,
          0.28981781005859375,
          0.2686564326286316
         ],
         "yaxis": "y"
        }
       ],
       "layout": {
        "legend": {
         "title": {
          "text": "variable"
         },
         "tracegroupgap": 0
        },
        "template": {
         "data": {
          "bar": [
           {
            "error_x": {
             "color": "#2a3f5f"
            },
            "error_y": {
             "color": "#2a3f5f"
            },
            "marker": {
             "line": {
              "color": "#E5ECF6",
              "width": 0.5
             }
            },
            "type": "bar"
           }
          ],
          "barpolar": [
           {
            "marker": {
             "line": {
              "color": "#E5ECF6",
              "width": 0.5
             }
            },
            "type": "barpolar"
           }
          ],
          "carpet": [
           {
            "aaxis": {
             "endlinecolor": "#2a3f5f",
             "gridcolor": "white",
             "linecolor": "white",
             "minorgridcolor": "white",
             "startlinecolor": "#2a3f5f"
            },
            "baxis": {
             "endlinecolor": "#2a3f5f",
             "gridcolor": "white",
             "linecolor": "white",
             "minorgridcolor": "white",
             "startlinecolor": "#2a3f5f"
            },
            "type": "carpet"
           }
          ],
          "choropleth": [
           {
            "colorbar": {
             "outlinewidth": 0,
             "ticks": ""
            },
            "type": "choropleth"
           }
          ],
          "contour": [
           {
            "colorbar": {
             "outlinewidth": 0,
             "ticks": ""
            },
            "colorscale": [
             [
              0,
              "#0d0887"
             ],
             [
              0.1111111111111111,
              "#46039f"
             ],
             [
              0.2222222222222222,
              "#7201a8"
             ],
             [
              0.3333333333333333,
              "#9c179e"
             ],
             [
              0.4444444444444444,
              "#bd3786"
             ],
             [
              0.5555555555555556,
              "#d8576b"
             ],
             [
              0.6666666666666666,
              "#ed7953"
             ],
             [
              0.7777777777777778,
              "#fb9f3a"
             ],
             [
              0.8888888888888888,
              "#fdca26"
             ],
             [
              1,
              "#f0f921"
             ]
            ],
            "type": "contour"
           }
          ],
          "contourcarpet": [
           {
            "colorbar": {
             "outlinewidth": 0,
             "ticks": ""
            },
            "type": "contourcarpet"
           }
          ],
          "heatmap": [
           {
            "colorbar": {
             "outlinewidth": 0,
             "ticks": ""
            },
            "colorscale": [
             [
              0,
              "#0d0887"
             ],
             [
              0.1111111111111111,
              "#46039f"
             ],
             [
              0.2222222222222222,
              "#7201a8"
             ],
             [
              0.3333333333333333,
              "#9c179e"
             ],
             [
              0.4444444444444444,
              "#bd3786"
             ],
             [
              0.5555555555555556,
              "#d8576b"
             ],
             [
              0.6666666666666666,
              "#ed7953"
             ],
             [
              0.7777777777777778,
              "#fb9f3a"
             ],
             [
              0.8888888888888888,
              "#fdca26"
             ],
             [
              1,
              "#f0f921"
             ]
            ],
            "type": "heatmap"
           }
          ],
          "heatmapgl": [
           {
            "colorbar": {
             "outlinewidth": 0,
             "ticks": ""
            },
            "colorscale": [
             [
              0,
              "#0d0887"
             ],
             [
              0.1111111111111111,
              "#46039f"
             ],
             [
              0.2222222222222222,
              "#7201a8"
             ],
             [
              0.3333333333333333,
              "#9c179e"
             ],
             [
              0.4444444444444444,
              "#bd3786"
             ],
             [
              0.5555555555555556,
              "#d8576b"
             ],
             [
              0.6666666666666666,
              "#ed7953"
             ],
             [
              0.7777777777777778,
              "#fb9f3a"
             ],
             [
              0.8888888888888888,
              "#fdca26"
             ],
             [
              1,
              "#f0f921"
             ]
            ],
            "type": "heatmapgl"
           }
          ],
          "histogram": [
           {
            "marker": {
             "colorbar": {
              "outlinewidth": 0,
              "ticks": ""
             }
            },
            "type": "histogram"
           }
          ],
          "histogram2d": [
           {
            "colorbar": {
             "outlinewidth": 0,
             "ticks": ""
            },
            "colorscale": [
             [
              0,
              "#0d0887"
             ],
             [
              0.1111111111111111,
              "#46039f"
             ],
             [
              0.2222222222222222,
              "#7201a8"
             ],
             [
              0.3333333333333333,
              "#9c179e"
             ],
             [
              0.4444444444444444,
              "#bd3786"
             ],
             [
              0.5555555555555556,
              "#d8576b"
             ],
             [
              0.6666666666666666,
              "#ed7953"
             ],
             [
              0.7777777777777778,
              "#fb9f3a"
             ],
             [
              0.8888888888888888,
              "#fdca26"
             ],
             [
              1,
              "#f0f921"
             ]
            ],
            "type": "histogram2d"
           }
          ],
          "histogram2dcontour": [
           {
            "colorbar": {
             "outlinewidth": 0,
             "ticks": ""
            },
            "colorscale": [
             [
              0,
              "#0d0887"
             ],
             [
              0.1111111111111111,
              "#46039f"
             ],
             [
              0.2222222222222222,
              "#7201a8"
             ],
             [
              0.3333333333333333,
              "#9c179e"
             ],
             [
              0.4444444444444444,
              "#bd3786"
             ],
             [
              0.5555555555555556,
              "#d8576b"
             ],
             [
              0.6666666666666666,
              "#ed7953"
             ],
             [
              0.7777777777777778,
              "#fb9f3a"
             ],
             [
              0.8888888888888888,
              "#fdca26"
             ],
             [
              1,
              "#f0f921"
             ]
            ],
            "type": "histogram2dcontour"
           }
          ],
          "mesh3d": [
           {
            "colorbar": {
             "outlinewidth": 0,
             "ticks": ""
            },
            "type": "mesh3d"
           }
          ],
          "parcoords": [
           {
            "line": {
             "colorbar": {
              "outlinewidth": 0,
              "ticks": ""
             }
            },
            "type": "parcoords"
           }
          ],
          "pie": [
           {
            "automargin": true,
            "type": "pie"
           }
          ],
          "scatter": [
           {
            "marker": {
             "colorbar": {
              "outlinewidth": 0,
              "ticks": ""
             }
            },
            "type": "scatter"
           }
          ],
          "scatter3d": [
           {
            "line": {
             "colorbar": {
              "outlinewidth": 0,
              "ticks": ""
             }
            },
            "marker": {
             "colorbar": {
              "outlinewidth": 0,
              "ticks": ""
             }
            },
            "type": "scatter3d"
           }
          ],
          "scattercarpet": [
           {
            "marker": {
             "colorbar": {
              "outlinewidth": 0,
              "ticks": ""
             }
            },
            "type": "scattercarpet"
           }
          ],
          "scattergeo": [
           {
            "marker": {
             "colorbar": {
              "outlinewidth": 0,
              "ticks": ""
             }
            },
            "type": "scattergeo"
           }
          ],
          "scattergl": [
           {
            "marker": {
             "colorbar": {
              "outlinewidth": 0,
              "ticks": ""
             }
            },
            "type": "scattergl"
           }
          ],
          "scattermapbox": [
           {
            "marker": {
             "colorbar": {
              "outlinewidth": 0,
              "ticks": ""
             }
            },
            "type": "scattermapbox"
           }
          ],
          "scatterpolar": [
           {
            "marker": {
             "colorbar": {
              "outlinewidth": 0,
              "ticks": ""
             }
            },
            "type": "scatterpolar"
           }
          ],
          "scatterpolargl": [
           {
            "marker": {
             "colorbar": {
              "outlinewidth": 0,
              "ticks": ""
             }
            },
            "type": "scatterpolargl"
           }
          ],
          "scatterternary": [
           {
            "marker": {
             "colorbar": {
              "outlinewidth": 0,
              "ticks": ""
             }
            },
            "type": "scatterternary"
           }
          ],
          "surface": [
           {
            "colorbar": {
             "outlinewidth": 0,
             "ticks": ""
            },
            "colorscale": [
             [
              0,
              "#0d0887"
             ],
             [
              0.1111111111111111,
              "#46039f"
             ],
             [
              0.2222222222222222,
              "#7201a8"
             ],
             [
              0.3333333333333333,
              "#9c179e"
             ],
             [
              0.4444444444444444,
              "#bd3786"
             ],
             [
              0.5555555555555556,
              "#d8576b"
             ],
             [
              0.6666666666666666,
              "#ed7953"
             ],
             [
              0.7777777777777778,
              "#fb9f3a"
             ],
             [
              0.8888888888888888,
              "#fdca26"
             ],
             [
              1,
              "#f0f921"
             ]
            ],
            "type": "surface"
           }
          ],
          "table": [
           {
            "cells": {
             "fill": {
              "color": "#EBF0F8"
             },
             "line": {
              "color": "white"
             }
            },
            "header": {
             "fill": {
              "color": "#C8D4E3"
             },
             "line": {
              "color": "white"
             }
            },
            "type": "table"
           }
          ]
         },
         "layout": {
          "annotationdefaults": {
           "arrowcolor": "#2a3f5f",
           "arrowhead": 0,
           "arrowwidth": 1
          },
          "autotypenumbers": "strict",
          "coloraxis": {
           "colorbar": {
            "outlinewidth": 0,
            "ticks": ""
           }
          },
          "colorscale": {
           "diverging": [
            [
             0,
             "#8e0152"
            ],
            [
             0.1,
             "#c51b7d"
            ],
            [
             0.2,
             "#de77ae"
            ],
            [
             0.3,
             "#f1b6da"
            ],
            [
             0.4,
             "#fde0ef"
            ],
            [
             0.5,
             "#f7f7f7"
            ],
            [
             0.6,
             "#e6f5d0"
            ],
            [
             0.7,
             "#b8e186"
            ],
            [
             0.8,
             "#7fbc41"
            ],
            [
             0.9,
             "#4d9221"
            ],
            [
             1,
             "#276419"
            ]
           ],
           "sequential": [
            [
             0,
             "#0d0887"
            ],
            [
             0.1111111111111111,
             "#46039f"
            ],
            [
             0.2222222222222222,
             "#7201a8"
            ],
            [
             0.3333333333333333,
             "#9c179e"
            ],
            [
             0.4444444444444444,
             "#bd3786"
            ],
            [
             0.5555555555555556,
             "#d8576b"
            ],
            [
             0.6666666666666666,
             "#ed7953"
            ],
            [
             0.7777777777777778,
             "#fb9f3a"
            ],
            [
             0.8888888888888888,
             "#fdca26"
            ],
            [
             1,
             "#f0f921"
            ]
           ],
           "sequentialminus": [
            [
             0,
             "#0d0887"
            ],
            [
             0.1111111111111111,
             "#46039f"
            ],
            [
             0.2222222222222222,
             "#7201a8"
            ],
            [
             0.3333333333333333,
             "#9c179e"
            ],
            [
             0.4444444444444444,
             "#bd3786"
            ],
            [
             0.5555555555555556,
             "#d8576b"
            ],
            [
             0.6666666666666666,
             "#ed7953"
            ],
            [
             0.7777777777777778,
             "#fb9f3a"
            ],
            [
             0.8888888888888888,
             "#fdca26"
            ],
            [
             1,
             "#f0f921"
            ]
           ]
          },
          "colorway": [
           "#636efa",
           "#EF553B",
           "#00cc96",
           "#ab63fa",
           "#FFA15A",
           "#19d3f3",
           "#FF6692",
           "#B6E880",
           "#FF97FF",
           "#FECB52"
          ],
          "font": {
           "color": "#2a3f5f"
          },
          "geo": {
           "bgcolor": "white",
           "lakecolor": "white",
           "landcolor": "#E5ECF6",
           "showlakes": true,
           "showland": true,
           "subunitcolor": "white"
          },
          "hoverlabel": {
           "align": "left"
          },
          "hovermode": "closest",
          "mapbox": {
           "style": "light"
          },
          "paper_bgcolor": "white",
          "plot_bgcolor": "#E5ECF6",
          "polar": {
           "angularaxis": {
            "gridcolor": "white",
            "linecolor": "white",
            "ticks": ""
           },
           "bgcolor": "#E5ECF6",
           "radialaxis": {
            "gridcolor": "white",
            "linecolor": "white",
            "ticks": ""
           }
          },
          "scene": {
           "xaxis": {
            "backgroundcolor": "#E5ECF6",
            "gridcolor": "white",
            "gridwidth": 2,
            "linecolor": "white",
            "showbackground": true,
            "ticks": "",
            "zerolinecolor": "white"
           },
           "yaxis": {
            "backgroundcolor": "#E5ECF6",
            "gridcolor": "white",
            "gridwidth": 2,
            "linecolor": "white",
            "showbackground": true,
            "ticks": "",
            "zerolinecolor": "white"
           },
           "zaxis": {
            "backgroundcolor": "#E5ECF6",
            "gridcolor": "white",
            "gridwidth": 2,
            "linecolor": "white",
            "showbackground": true,
            "ticks": "",
            "zerolinecolor": "white"
           }
          },
          "shapedefaults": {
           "line": {
            "color": "#2a3f5f"
           }
          },
          "ternary": {
           "aaxis": {
            "gridcolor": "white",
            "linecolor": "white",
            "ticks": ""
           },
           "baxis": {
            "gridcolor": "white",
            "linecolor": "white",
            "ticks": ""
           },
           "bgcolor": "#E5ECF6",
           "caxis": {
            "gridcolor": "white",
            "linecolor": "white",
            "ticks": ""
           }
          },
          "title": {
           "x": 0.05
          },
          "xaxis": {
           "automargin": true,
           "gridcolor": "white",
           "linecolor": "white",
           "ticks": "",
           "title": {
            "standoff": 15
           },
           "zerolinecolor": "white",
           "zerolinewidth": 2
          },
          "yaxis": {
           "automargin": true,
           "gridcolor": "white",
           "linecolor": "white",
           "ticks": "",
           "title": {
            "standoff": 15
           },
           "zerolinecolor": "white",
           "zerolinewidth": 2
          }
         }
        },
        "title": {
         "text": "Training History"
        },
        "xaxis": {
         "anchor": "y",
         "domain": [
          0,
          1
         ],
         "title": {
          "text": "epoch"
         }
        },
        "yaxis": {
         "anchor": "x",
         "domain": [
          0,
          1
         ],
         "title": {
          "text": "loss"
         }
        }
       }
      }
     },
     "metadata": {}
    }
   ],
   "source": [
    "fig = px.line(\n",
    "    history.history, y=['loss', 'val_loss'],\n",
    "    labels={'index': 'epoch', 'value': 'loss'}, \n",
    "    title='Training History')\n",
    "fig.show()"
   ]
  },
  {
   "cell_type": "code",
   "execution_count": 30,
   "metadata": {
    "execution": {
     "iopub.execute_input": "2020-09-24T10:29:35.754146Z",
     "iopub.status.busy": "2020-09-24T10:29:35.753095Z",
     "iopub.status.idle": "2020-09-24T10:29:36.231168Z",
     "shell.execute_reply": "2020-09-24T10:29:36.231728Z"
    },
    "papermill": {
     "duration": 0.649536,
     "end_time": "2020-09-24T10:29:36.231877",
     "exception": false,
     "start_time": "2020-09-24T10:29:35.582341",
     "status": "completed"
    },
    "tags": []
   },
   "outputs": [
    {
     "output_type": "stream",
     "name": "stdout",
     "text": [
      "Test loss: 0.2593406140804291\nTest Accuracy: 0.8842024803161621\n"
     ]
    }
   ],
   "source": [
    "loss, acc = model.evaluate(X_test,y_test,verbose=0)\n",
    "print('Test loss: {}'.format(loss))\n",
    "print('Test Accuracy: {}'.format(acc))"
   ]
  },
  {
   "cell_type": "markdown",
   "metadata": {
    "papermill": {
     "duration": 0.155532,
     "end_time": "2020-09-24T10:29:36.539177",
     "exception": false,
     "start_time": "2020-09-24T10:29:36.383645",
     "status": "completed"
    },
    "tags": []
   },
   "source": [
    "<a id=\"05\"></a>\n",
    "\n",
    "<h1 class=\"list-group-item active\" style='background:purple; border:0'>\n",
    "    <center>Model for Ethnicity Prediction</center>\n",
    "</h1>"
   ]
  },
  {
   "cell_type": "markdown",
   "metadata": {
    "papermill": {
     "duration": 0.154565,
     "end_time": "2020-09-24T10:29:36.849114",
     "exception": false,
     "start_time": "2020-09-24T10:29:36.694549",
     "status": "completed"
    },
    "tags": []
   },
   "source": [
    "### Split data into train/test <a id=\"5.1\"></a>"
   ]
  },
  {
   "cell_type": "code",
   "execution_count": 31,
   "metadata": {
    "execution": {
     "iopub.execute_input": "2020-09-24T10:29:37.171006Z",
     "iopub.status.busy": "2020-09-24T10:29:37.169148Z",
     "iopub.status.idle": "2020-09-24T10:29:37.241454Z",
     "shell.execute_reply": "2020-09-24T10:29:37.240880Z"
    },
    "papermill": {
     "duration": 0.235749,
     "end_time": "2020-09-24T10:29:37.241573",
     "exception": false,
     "start_time": "2020-09-24T10:29:37.005824",
     "status": "completed"
    },
    "tags": []
   },
   "outputs": [],
   "source": [
    "y = data['ethnicity']\n",
    "\n",
    "X_train, X_test, y_train, y_test = train_test_split(\n",
    "    X, y, test_size=0.22, random_state=37\n",
    ")"
   ]
  },
  {
   "cell_type": "markdown",
   "metadata": {
    "papermill": {
     "duration": 0.15468,
     "end_time": "2020-09-24T10:29:37.550467",
     "exception": false,
     "start_time": "2020-09-24T10:29:37.395787",
     "status": "completed"
    },
    "tags": []
   },
   "source": [
    "### Build and train model <a id=\"5.2\"></a>"
   ]
  },
  {
   "cell_type": "code",
   "execution_count": 32,
   "metadata": {
    "execution": {
     "iopub.execute_input": "2020-09-24T10:29:37.870466Z",
     "iopub.status.busy": "2020-09-24T10:29:37.869527Z",
     "iopub.status.idle": "2020-09-24T10:29:37.944182Z",
     "shell.execute_reply": "2020-09-24T10:29:37.944798Z"
    },
    "papermill": {
     "duration": 0.240664,
     "end_time": "2020-09-24T10:29:37.944954",
     "exception": false,
     "start_time": "2020-09-24T10:29:37.704290",
     "status": "completed"
    },
    "tags": []
   },
   "outputs": [
    {
     "output_type": "stream",
     "name": "stdout",
     "text": [
      "Model: \"sequential_2\"\n_________________________________________________________________\nLayer (type)                 Output Shape              Param #   \n=================================================================\nconv2d_4 (Conv2D)            (None, 46, 46, 32)        320       \n_________________________________________________________________\nmax_pooling2d_4 (MaxPooling2 (None, 23, 23, 32)        0         \n_________________________________________________________________\nconv2d_5 (Conv2D)            (None, 21, 21, 64)        18496     \n_________________________________________________________________\nmax_pooling2d_5 (MaxPooling2 (None, 10, 10, 64)        0         \n_________________________________________________________________\nflatten_2 (Flatten)          (None, 6400)              0         \n_________________________________________________________________\ndense_4 (Dense)              (None, 64)                409664    \n_________________________________________________________________\ndropout_2 (Dropout)          (None, 64)                0         \n_________________________________________________________________\ndense_5 (Dense)              (None, 5)                 325       \n=================================================================\nTotal params: 428,805\nTrainable params: 428,805\nNon-trainable params: 0\n_________________________________________________________________\n"
     ]
    }
   ],
   "source": [
    "model = tf.keras.Sequential([\n",
    "    L.InputLayer(input_shape=(48,48,1)),\n",
    "    L.Conv2D(32, (3, 3), activation='relu', input_shape=(32, 32, 3)),\n",
    "    L.MaxPooling2D((2, 2)),\n",
    "    L.Conv2D(64, (3, 3), activation='relu'),\n",
    "    L.MaxPooling2D((2, 2)),\n",
    "    L.Flatten(),\n",
    "    L.Dense(64, activation='relu'),\n",
    "    L.Dropout(rate=0.5),\n",
    "    L.Dense(5)\n",
    "])\n",
    "\n",
    "model.compile(optimizer='rmsprop',\n",
    "              loss=tf.keras.losses.SparseCategoricalCrossentropy(from_logits=True),\n",
    "              metrics=['accuracy'])\n",
    "\n",
    "\n",
    "## Stop training when validation accuracy reach 79%\n",
    "class myCallback(tf.keras.callbacks.Callback):\n",
    "    def on_epoch_end(self, epoch, logs={}):\n",
    "        if(logs.get('val_accuracy')>0.790):\n",
    "            print(\"\\nReached 79% val_accuracy so cancelling training!\")\n",
    "            self.model.stop_training = True\n",
    "        \n",
    "callback = myCallback()\n",
    "\n",
    "\n",
    "model.summary()"
   ]
  },
  {
   "cell_type": "code",
   "execution_count": 33,
   "metadata": {
    "execution": {
     "iopub.execute_input": "2020-09-24T10:29:38.262852Z",
     "iopub.status.busy": "2020-09-24T10:29:38.261785Z",
     "iopub.status.idle": "2020-09-24T10:29:50.512039Z",
     "shell.execute_reply": "2020-09-24T10:29:50.513043Z"
    },
    "papermill": {
     "duration": 12.412555,
     "end_time": "2020-09-24T10:29:50.513214",
     "exception": false,
     "start_time": "2020-09-24T10:29:38.100659",
     "status": "completed"
    },
    "tags": []
   },
   "outputs": [
    {
     "output_type": "stream",
     "name": "stdout",
     "text": [
      "Epoch 1/16\n",
      "260/260 [==============================] - 25s 94ms/step - loss: 1.4183 - accuracy: 0.4439 - val_loss: 1.0852 - val_accuracy: 0.5727\n",
      "Epoch 2/16\n",
      "260/260 [==============================] - 24s 94ms/step - loss: 1.0608 - accuracy: 0.6163 - val_loss: 0.8285 - val_accuracy: 0.7177\n",
      "Epoch 3/16\n",
      "260/260 [==============================] - 24s 93ms/step - loss: 0.9359 - accuracy: 0.6707 - val_loss: 0.8182 - val_accuracy: 0.7296\n",
      "Epoch 4/16\n",
      "260/260 [==============================] - 24s 93ms/step - loss: 0.8746 - accuracy: 0.6918 - val_loss: 0.7142 - val_accuracy: 0.7501\n",
      "Epoch 5/16\n",
      "260/260 [==============================] - 24s 94ms/step - loss: 0.8168 - accuracy: 0.7146 - val_loss: 0.7070 - val_accuracy: 0.7480\n",
      "Epoch 6/16\n",
      "260/260 [==============================] - 24s 93ms/step - loss: 0.7923 - accuracy: 0.7247 - val_loss: 0.6690 - val_accuracy: 0.7658\n",
      "Epoch 7/16\n",
      "260/260 [==============================] - 24s 93ms/step - loss: 0.7726 - accuracy: 0.7323 - val_loss: 0.6973 - val_accuracy: 0.7588\n",
      "Epoch 8/16\n",
      "260/260 [==============================] - 25s 97ms/step - loss: 0.7407 - accuracy: 0.7455 - val_loss: 0.7146 - val_accuracy: 0.7555\n",
      "Epoch 9/16\n",
      "260/260 [==============================] - 25s 97ms/step - loss: 0.7268 - accuracy: 0.7444 - val_loss: 0.6257 - val_accuracy: 0.7875\n",
      "Epoch 10/16\n",
      "260/260 [==============================] - 25s 98ms/step - loss: 0.6830 - accuracy: 0.7659 - val_loss: 0.6414 - val_accuracy: 0.7739\n",
      "Epoch 11/16\n",
      "260/260 [==============================] - 24s 93ms/step - loss: 0.6691 - accuracy: 0.7701 - val_loss: 0.6292 - val_accuracy: 0.7885\n",
      "Epoch 12/16\n",
      "260/260 [==============================] - 25s 95ms/step - loss: 0.6489 - accuracy: 0.7735 - val_loss: 0.6129 - val_accuracy: 0.7869\n",
      "Epoch 13/16\n",
      "260/260 [==============================] - 24s 93ms/step - loss: 0.6391 - accuracy: 0.7776 - val_loss: 0.6182 - val_accuracy: 0.7912\n",
      "\n",
      "Reached 79% val_accuracy so cancelling training!\n"
     ]
    }
   ],
   "source": [
    "history = model.fit(\n",
    "    X_train, y_train, epochs=16, validation_split=0.1, batch_size=64, callbacks=[callback]\n",
    ")"
   ]
  },
  {
   "cell_type": "markdown",
   "metadata": {
    "papermill": {
     "duration": 0.285333,
     "end_time": "2020-09-24T10:29:51.069865",
     "exception": false,
     "start_time": "2020-09-24T10:29:50.784532",
     "status": "completed"
    },
    "tags": []
   },
   "source": [
    "### Evaluate training history <a id=\"5.3\"></a>"
   ]
  },
  {
   "cell_type": "code",
   "execution_count": 34,
   "metadata": {
    "_kg_hide-input": true,
    "execution": {
     "iopub.execute_input": "2020-09-24T10:29:51.608946Z",
     "iopub.status.busy": "2020-09-24T10:29:51.607935Z",
     "iopub.status.idle": "2020-09-24T10:29:51.651470Z",
     "shell.execute_reply": "2020-09-24T10:29:51.652059Z"
    },
    "papermill": {
     "duration": 0.339472,
     "end_time": "2020-09-24T10:29:51.652205",
     "exception": false,
     "start_time": "2020-09-24T10:29:51.312733",
     "status": "completed"
    },
    "tags": []
   },
   "outputs": [
    {
     "output_type": "display_data",
     "data": {
      "application/vnd.plotly.v1+json": {
       "config": {
        "plotlyServerURL": "https://plot.ly"
       },
       "data": [
        {
         "hovertemplate": "variable=loss<br>epoch=%{x}<br>loss=%{y}<extra></extra>",
         "legendgroup": "loss",
         "line": {
          "color": "#636efa",
          "dash": "solid"
         },
         "mode": "lines",
         "name": "loss",
         "orientation": "v",
         "showlegend": true,
         "type": "scatter",
         "x": [
          0,
          1,
          2,
          3,
          4,
          5,
          6,
          7,
          8,
          9,
          10,
          11,
          12
         ],
         "xaxis": "x",
         "y": [
          1.2889353036880493,
          1.0251072645187378,
          0.9254645109176636,
          0.863075315952301,
          0.8213387131690979,
          0.7915555834770203,
          0.7695522308349609,
          0.7384260296821594,
          0.7195377349853516,
          0.6945292949676514,
          0.682868480682373,
          0.6492978930473328,
          0.6354689598083496
         ],
         "yaxis": "y"
        },
        {
         "hovertemplate": "variable=val_loss<br>epoch=%{x}<br>loss=%{y}<extra></extra>",
         "legendgroup": "val_loss",
         "line": {
          "color": "#EF553B",
          "dash": "solid"
         },
         "mode": "lines",
         "name": "val_loss",
         "orientation": "v",
         "showlegend": true,
         "type": "scatter",
         "x": [
          0,
          1,
          2,
          3,
          4,
          5,
          6,
          7,
          8,
          9,
          10,
          11,
          12
         ],
         "xaxis": "x",
         "y": [
          1.0852019786834717,
          0.8284540176391602,
          0.8182326555252075,
          0.7142032384872437,
          0.7070152163505554,
          0.6689783334732056,
          0.6972742676734924,
          0.7145838737487793,
          0.6257107257843018,
          0.6413965821266174,
          0.6292499303817749,
          0.6129264831542969,
          0.6181513071060181
         ],
         "yaxis": "y"
        }
       ],
       "layout": {
        "legend": {
         "title": {
          "text": "variable"
         },
         "tracegroupgap": 0
        },
        "template": {
         "data": {
          "bar": [
           {
            "error_x": {
             "color": "#2a3f5f"
            },
            "error_y": {
             "color": "#2a3f5f"
            },
            "marker": {
             "line": {
              "color": "#E5ECF6",
              "width": 0.5
             }
            },
            "type": "bar"
           }
          ],
          "barpolar": [
           {
            "marker": {
             "line": {
              "color": "#E5ECF6",
              "width": 0.5
             }
            },
            "type": "barpolar"
           }
          ],
          "carpet": [
           {
            "aaxis": {
             "endlinecolor": "#2a3f5f",
             "gridcolor": "white",
             "linecolor": "white",
             "minorgridcolor": "white",
             "startlinecolor": "#2a3f5f"
            },
            "baxis": {
             "endlinecolor": "#2a3f5f",
             "gridcolor": "white",
             "linecolor": "white",
             "minorgridcolor": "white",
             "startlinecolor": "#2a3f5f"
            },
            "type": "carpet"
           }
          ],
          "choropleth": [
           {
            "colorbar": {
             "outlinewidth": 0,
             "ticks": ""
            },
            "type": "choropleth"
           }
          ],
          "contour": [
           {
            "colorbar": {
             "outlinewidth": 0,
             "ticks": ""
            },
            "colorscale": [
             [
              0,
              "#0d0887"
             ],
             [
              0.1111111111111111,
              "#46039f"
             ],
             [
              0.2222222222222222,
              "#7201a8"
             ],
             [
              0.3333333333333333,
              "#9c179e"
             ],
             [
              0.4444444444444444,
              "#bd3786"
             ],
             [
              0.5555555555555556,
              "#d8576b"
             ],
             [
              0.6666666666666666,
              "#ed7953"
             ],
             [
              0.7777777777777778,
              "#fb9f3a"
             ],
             [
              0.8888888888888888,
              "#fdca26"
             ],
             [
              1,
              "#f0f921"
             ]
            ],
            "type": "contour"
           }
          ],
          "contourcarpet": [
           {
            "colorbar": {
             "outlinewidth": 0,
             "ticks": ""
            },
            "type": "contourcarpet"
           }
          ],
          "heatmap": [
           {
            "colorbar": {
             "outlinewidth": 0,
             "ticks": ""
            },
            "colorscale": [
             [
              0,
              "#0d0887"
             ],
             [
              0.1111111111111111,
              "#46039f"
             ],
             [
              0.2222222222222222,
              "#7201a8"
             ],
             [
              0.3333333333333333,
              "#9c179e"
             ],
             [
              0.4444444444444444,
              "#bd3786"
             ],
             [
              0.5555555555555556,
              "#d8576b"
             ],
             [
              0.6666666666666666,
              "#ed7953"
             ],
             [
              0.7777777777777778,
              "#fb9f3a"
             ],
             [
              0.8888888888888888,
              "#fdca26"
             ],
             [
              1,
              "#f0f921"
             ]
            ],
            "type": "heatmap"
           }
          ],
          "heatmapgl": [
           {
            "colorbar": {
             "outlinewidth": 0,
             "ticks": ""
            },
            "colorscale": [
             [
              0,
              "#0d0887"
             ],
             [
              0.1111111111111111,
              "#46039f"
             ],
             [
              0.2222222222222222,
              "#7201a8"
             ],
             [
              0.3333333333333333,
              "#9c179e"
             ],
             [
              0.4444444444444444,
              "#bd3786"
             ],
             [
              0.5555555555555556,
              "#d8576b"
             ],
             [
              0.6666666666666666,
              "#ed7953"
             ],
             [
              0.7777777777777778,
              "#fb9f3a"
             ],
             [
              0.8888888888888888,
              "#fdca26"
             ],
             [
              1,
              "#f0f921"
             ]
            ],
            "type": "heatmapgl"
           }
          ],
          "histogram": [
           {
            "marker": {
             "colorbar": {
              "outlinewidth": 0,
              "ticks": ""
             }
            },
            "type": "histogram"
           }
          ],
          "histogram2d": [
           {
            "colorbar": {
             "outlinewidth": 0,
             "ticks": ""
            },
            "colorscale": [
             [
              0,
              "#0d0887"
             ],
             [
              0.1111111111111111,
              "#46039f"
             ],
             [
              0.2222222222222222,
              "#7201a8"
             ],
             [
              0.3333333333333333,
              "#9c179e"
             ],
             [
              0.4444444444444444,
              "#bd3786"
             ],
             [
              0.5555555555555556,
              "#d8576b"
             ],
             [
              0.6666666666666666,
              "#ed7953"
             ],
             [
              0.7777777777777778,
              "#fb9f3a"
             ],
             [
              0.8888888888888888,
              "#fdca26"
             ],
             [
              1,
              "#f0f921"
             ]
            ],
            "type": "histogram2d"
           }
          ],
          "histogram2dcontour": [
           {
            "colorbar": {
             "outlinewidth": 0,
             "ticks": ""
            },
            "colorscale": [
             [
              0,
              "#0d0887"
             ],
             [
              0.1111111111111111,
              "#46039f"
             ],
             [
              0.2222222222222222,
              "#7201a8"
             ],
             [
              0.3333333333333333,
              "#9c179e"
             ],
             [
              0.4444444444444444,
              "#bd3786"
             ],
             [
              0.5555555555555556,
              "#d8576b"
             ],
             [
              0.6666666666666666,
              "#ed7953"
             ],
             [
              0.7777777777777778,
              "#fb9f3a"
             ],
             [
              0.8888888888888888,
              "#fdca26"
             ],
             [
              1,
              "#f0f921"
             ]
            ],
            "type": "histogram2dcontour"
           }
          ],
          "mesh3d": [
           {
            "colorbar": {
             "outlinewidth": 0,
             "ticks": ""
            },
            "type": "mesh3d"
           }
          ],
          "parcoords": [
           {
            "line": {
             "colorbar": {
              "outlinewidth": 0,
              "ticks": ""
             }
            },
            "type": "parcoords"
           }
          ],
          "pie": [
           {
            "automargin": true,
            "type": "pie"
           }
          ],
          "scatter": [
           {
            "marker": {
             "colorbar": {
              "outlinewidth": 0,
              "ticks": ""
             }
            },
            "type": "scatter"
           }
          ],
          "scatter3d": [
           {
            "line": {
             "colorbar": {
              "outlinewidth": 0,
              "ticks": ""
             }
            },
            "marker": {
             "colorbar": {
              "outlinewidth": 0,
              "ticks": ""
             }
            },
            "type": "scatter3d"
           }
          ],
          "scattercarpet": [
           {
            "marker": {
             "colorbar": {
              "outlinewidth": 0,
              "ticks": ""
             }
            },
            "type": "scattercarpet"
           }
          ],
          "scattergeo": [
           {
            "marker": {
             "colorbar": {
              "outlinewidth": 0,
              "ticks": ""
             }
            },
            "type": "scattergeo"
           }
          ],
          "scattergl": [
           {
            "marker": {
             "colorbar": {
              "outlinewidth": 0,
              "ticks": ""
             }
            },
            "type": "scattergl"
           }
          ],
          "scattermapbox": [
           {
            "marker": {
             "colorbar": {
              "outlinewidth": 0,
              "ticks": ""
             }
            },
            "type": "scattermapbox"
           }
          ],
          "scatterpolar": [
           {
            "marker": {
             "colorbar": {
              "outlinewidth": 0,
              "ticks": ""
             }
            },
            "type": "scatterpolar"
           }
          ],
          "scatterpolargl": [
           {
            "marker": {
             "colorbar": {
              "outlinewidth": 0,
              "ticks": ""
             }
            },
            "type": "scatterpolargl"
           }
          ],
          "scatterternary": [
           {
            "marker": {
             "colorbar": {
              "outlinewidth": 0,
              "ticks": ""
             }
            },
            "type": "scatterternary"
           }
          ],
          "surface": [
           {
            "colorbar": {
             "outlinewidth": 0,
             "ticks": ""
            },
            "colorscale": [
             [
              0,
              "#0d0887"
             ],
             [
              0.1111111111111111,
              "#46039f"
             ],
             [
              0.2222222222222222,
              "#7201a8"
             ],
             [
              0.3333333333333333,
              "#9c179e"
             ],
             [
              0.4444444444444444,
              "#bd3786"
             ],
             [
              0.5555555555555556,
              "#d8576b"
             ],
             [
              0.6666666666666666,
              "#ed7953"
             ],
             [
              0.7777777777777778,
              "#fb9f3a"
             ],
             [
              0.8888888888888888,
              "#fdca26"
             ],
             [
              1,
              "#f0f921"
             ]
            ],
            "type": "surface"
           }
          ],
          "table": [
           {
            "cells": {
             "fill": {
              "color": "#EBF0F8"
             },
             "line": {
              "color": "white"
             }
            },
            "header": {
             "fill": {
              "color": "#C8D4E3"
             },
             "line": {
              "color": "white"
             }
            },
            "type": "table"
           }
          ]
         },
         "layout": {
          "annotationdefaults": {
           "arrowcolor": "#2a3f5f",
           "arrowhead": 0,
           "arrowwidth": 1
          },
          "autotypenumbers": "strict",
          "coloraxis": {
           "colorbar": {
            "outlinewidth": 0,
            "ticks": ""
           }
          },
          "colorscale": {
           "diverging": [
            [
             0,
             "#8e0152"
            ],
            [
             0.1,
             "#c51b7d"
            ],
            [
             0.2,
             "#de77ae"
            ],
            [
             0.3,
             "#f1b6da"
            ],
            [
             0.4,
             "#fde0ef"
            ],
            [
             0.5,
             "#f7f7f7"
            ],
            [
             0.6,
             "#e6f5d0"
            ],
            [
             0.7,
             "#b8e186"
            ],
            [
             0.8,
             "#7fbc41"
            ],
            [
             0.9,
             "#4d9221"
            ],
            [
             1,
             "#276419"
            ]
           ],
           "sequential": [
            [
             0,
             "#0d0887"
            ],
            [
             0.1111111111111111,
             "#46039f"
            ],
            [
             0.2222222222222222,
             "#7201a8"
            ],
            [
             0.3333333333333333,
             "#9c179e"
            ],
            [
             0.4444444444444444,
             "#bd3786"
            ],
            [
             0.5555555555555556,
             "#d8576b"
            ],
            [
             0.6666666666666666,
             "#ed7953"
            ],
            [
             0.7777777777777778,
             "#fb9f3a"
            ],
            [
             0.8888888888888888,
             "#fdca26"
            ],
            [
             1,
             "#f0f921"
            ]
           ],
           "sequentialminus": [
            [
             0,
             "#0d0887"
            ],
            [
             0.1111111111111111,
             "#46039f"
            ],
            [
             0.2222222222222222,
             "#7201a8"
            ],
            [
             0.3333333333333333,
             "#9c179e"
            ],
            [
             0.4444444444444444,
             "#bd3786"
            ],
            [
             0.5555555555555556,
             "#d8576b"
            ],
            [
             0.6666666666666666,
             "#ed7953"
            ],
            [
             0.7777777777777778,
             "#fb9f3a"
            ],
            [
             0.8888888888888888,
             "#fdca26"
            ],
            [
             1,
             "#f0f921"
            ]
           ]
          },
          "colorway": [
           "#636efa",
           "#EF553B",
           "#00cc96",
           "#ab63fa",
           "#FFA15A",
           "#19d3f3",
           "#FF6692",
           "#B6E880",
           "#FF97FF",
           "#FECB52"
          ],
          "font": {
           "color": "#2a3f5f"
          },
          "geo": {
           "bgcolor": "white",
           "lakecolor": "white",
           "landcolor": "#E5ECF6",
           "showlakes": true,
           "showland": true,
           "subunitcolor": "white"
          },
          "hoverlabel": {
           "align": "left"
          },
          "hovermode": "closest",
          "mapbox": {
           "style": "light"
          },
          "paper_bgcolor": "white",
          "plot_bgcolor": "#E5ECF6",
          "polar": {
           "angularaxis": {
            "gridcolor": "white",
            "linecolor": "white",
            "ticks": ""
           },
           "bgcolor": "#E5ECF6",
           "radialaxis": {
            "gridcolor": "white",
            "linecolor": "white",
            "ticks": ""
           }
          },
          "scene": {
           "xaxis": {
            "backgroundcolor": "#E5ECF6",
            "gridcolor": "white",
            "gridwidth": 2,
            "linecolor": "white",
            "showbackground": true,
            "ticks": "",
            "zerolinecolor": "white"
           },
           "yaxis": {
            "backgroundcolor": "#E5ECF6",
            "gridcolor": "white",
            "gridwidth": 2,
            "linecolor": "white",
            "showbackground": true,
            "ticks": "",
            "zerolinecolor": "white"
           },
           "zaxis": {
            "backgroundcolor": "#E5ECF6",
            "gridcolor": "white",
            "gridwidth": 2,
            "linecolor": "white",
            "showbackground": true,
            "ticks": "",
            "zerolinecolor": "white"
           }
          },
          "shapedefaults": {
           "line": {
            "color": "#2a3f5f"
           }
          },
          "ternary": {
           "aaxis": {
            "gridcolor": "white",
            "linecolor": "white",
            "ticks": ""
           },
           "baxis": {
            "gridcolor": "white",
            "linecolor": "white",
            "ticks": ""
           },
           "bgcolor": "#E5ECF6",
           "caxis": {
            "gridcolor": "white",
            "linecolor": "white",
            "ticks": ""
           }
          },
          "title": {
           "x": 0.05
          },
          "xaxis": {
           "automargin": true,
           "gridcolor": "white",
           "linecolor": "white",
           "ticks": "",
           "title": {
            "standoff": 15
           },
           "zerolinecolor": "white",
           "zerolinewidth": 2
          },
          "yaxis": {
           "automargin": true,
           "gridcolor": "white",
           "linecolor": "white",
           "ticks": "",
           "title": {
            "standoff": 15
           },
           "zerolinecolor": "white",
           "zerolinewidth": 2
          }
         }
        },
        "title": {
         "text": "Training History"
        },
        "xaxis": {
         "anchor": "y",
         "domain": [
          0,
          1
         ],
         "title": {
          "text": "epoch"
         }
        },
        "yaxis": {
         "anchor": "x",
         "domain": [
          0,
          1
         ],
         "title": {
          "text": "loss"
         }
        }
       }
      }
     },
     "metadata": {}
    }
   ],
   "source": [
    "fig = px.line(\n",
    "    history.history, y=['loss', 'val_loss'],\n",
    "    labels={'index': 'epoch', 'value': 'loss'}, \n",
    "    title='Training History')\n",
    "fig.show()"
   ]
  },
  {
   "cell_type": "code",
   "execution_count": 35,
   "metadata": {
    "execution": {
     "iopub.execute_input": "2020-09-24T10:29:52.220295Z",
     "iopub.status.busy": "2020-09-24T10:29:52.219023Z",
     "iopub.status.idle": "2020-09-24T10:29:52.706052Z",
     "shell.execute_reply": "2020-09-24T10:29:52.706818Z"
    },
    "papermill": {
     "duration": 0.754077,
     "end_time": "2020-09-24T10:29:52.707014",
     "exception": false,
     "start_time": "2020-09-24T10:29:51.952937",
     "status": "completed"
    },
    "tags": []
   },
   "outputs": [
    {
     "output_type": "stream",
     "name": "stdout",
     "text": [
      "Test loss: 0.6275880336761475\nTest Accuracy: 0.7841257452964783\n"
     ]
    }
   ],
   "source": [
    "loss, acc = model.evaluate(X_test,y_test,verbose=0)\n",
    "print('Test loss: {}'.format(loss))\n",
    "print('Test Accuracy: {}'.format(acc))"
   ]
  },
  {
   "cell_type": "markdown",
   "metadata": {
    "papermill": {
     "duration": 0.243475,
     "end_time": "2020-09-24T10:29:53.208562",
     "exception": false,
     "start_time": "2020-09-24T10:29:52.965087",
     "status": "completed"
    },
    "tags": []
   },
   "source": [
    "<a id=\"06\"></a>\n",
    "\n",
    "<h1 class=\"list-group-item active\" style='background:orange; border:0'>\n",
    "    <center>Model for Age prediction</center>\n",
    "</h1>"
   ]
  },
  {
   "cell_type": "markdown",
   "metadata": {
    "papermill": {
     "duration": 0.238676,
     "end_time": "2020-09-24T10:29:53.735784",
     "exception": false,
     "start_time": "2020-09-24T10:29:53.497108",
     "status": "completed"
    },
    "tags": []
   },
   "source": [
    "### Split data into train/test <a id=\"6.1\"></a>"
   ]
  },
  {
   "cell_type": "code",
   "execution_count": 36,
   "metadata": {
    "execution": {
     "iopub.execute_input": "2020-09-24T10:29:54.218731Z",
     "iopub.status.busy": "2020-09-24T10:29:54.217319Z",
     "iopub.status.idle": "2020-09-24T10:29:54.289041Z",
     "shell.execute_reply": "2020-09-24T10:29:54.289581Z"
    },
    "papermill": {
     "duration": 0.317793,
     "end_time": "2020-09-24T10:29:54.289749",
     "exception": false,
     "start_time": "2020-09-24T10:29:53.971956",
     "status": "completed"
    },
    "tags": []
   },
   "outputs": [],
   "source": [
    "y = data['age']\n",
    "\n",
    "X_train, X_test, y_train, y_test = train_test_split(\n",
    "    X, y, test_size=0.22, random_state=37\n",
    ")"
   ]
  },
  {
   "cell_type": "markdown",
   "metadata": {
    "papermill": {
     "duration": 0.257448,
     "end_time": "2020-09-24T10:29:54.786402",
     "exception": false,
     "start_time": "2020-09-24T10:29:54.528954",
     "status": "completed"
    },
    "tags": []
   },
   "source": [
    "### Build and train model <a id=\"6.2\"></a>"
   ]
  },
  {
   "cell_type": "code",
   "execution_count": 37,
   "metadata": {
    "execution": {
     "iopub.execute_input": "2020-09-24T10:29:55.309094Z",
     "iopub.status.busy": "2020-09-24T10:29:55.298788Z",
     "iopub.status.idle": "2020-09-24T10:29:55.417270Z",
     "shell.execute_reply": "2020-09-24T10:29:55.416367Z"
    },
    "papermill": {
     "duration": 0.394524,
     "end_time": "2020-09-24T10:29:55.417391",
     "exception": false,
     "start_time": "2020-09-24T10:29:55.022867",
     "status": "completed"
    },
    "tags": []
   },
   "outputs": [
    {
     "output_type": "stream",
     "name": "stdout",
     "text": [
      "Model: \"sequential_3\"\n_________________________________________________________________\nLayer (type)                 Output Shape              Param #   \n=================================================================\nconv2d_6 (Conv2D)            (None, 46, 46, 32)        320       \n_________________________________________________________________\nbatch_normalization_2 (Batch (None, 46, 46, 32)        128       \n_________________________________________________________________\nmax_pooling2d_6 (MaxPooling2 (None, 23, 23, 32)        0         \n_________________________________________________________________\nconv2d_7 (Conv2D)            (None, 21, 21, 64)        18496     \n_________________________________________________________________\nmax_pooling2d_7 (MaxPooling2 (None, 10, 10, 64)        0         \n_________________________________________________________________\nconv2d_8 (Conv2D)            (None, 8, 8, 128)         73856     \n_________________________________________________________________\nmax_pooling2d_8 (MaxPooling2 (None, 4, 4, 128)         0         \n_________________________________________________________________\nflatten_3 (Flatten)          (None, 2048)              0         \n_________________________________________________________________\ndense_6 (Dense)              (None, 64)                131136    \n_________________________________________________________________\ndropout_3 (Dropout)          (None, 64)                0         \n_________________________________________________________________\ndense_7 (Dense)              (None, 1)                 65        \n=================================================================\nTotal params: 224,001\nTrainable params: 223,937\nNon-trainable params: 64\n_________________________________________________________________\n"
     ]
    }
   ],
   "source": [
    "model = tf.keras.Sequential([\n",
    "    L.InputLayer(input_shape=(48,48,1)),\n",
    "    L.Conv2D(32, (3, 3), activation='relu', input_shape=(32, 32, 3)),\n",
    "    L.BatchNormalization(),\n",
    "    L.MaxPooling2D((2, 2)),\n",
    "    L.Conv2D(64, (3, 3), activation='relu'),\n",
    "    L.MaxPooling2D((2, 2)),\n",
    "    L.Conv2D(128, (3, 3), activation='relu'),\n",
    "    L.MaxPooling2D((2, 2)),\n",
    "    L.Flatten(),\n",
    "    L.Dense(64, activation='relu'),\n",
    "    L.Dropout(rate=0.5),\n",
    "    L.Dense(1, activation='relu')\n",
    "])\n",
    "\n",
    "sgd = tf.keras.optimizers.SGD(momentum=0.9)\n",
    "\n",
    "model.compile(optimizer='adam',\n",
    "              loss='mean_squared_error',\n",
    "              metrics=['mae'])\n",
    "\n",
    "\n",
    "## Stop training when validation loss reach 110\n",
    "class myCallback(tf.keras.callbacks.Callback):\n",
    "    def on_epoch_end(self, epoch, logs={}):\n",
    "        if(logs.get('val_loss')<110):\n",
    "            print(\"\\nReached 110 val_loss so cancelling training!\")\n",
    "            self.model.stop_training = True\n",
    "        \n",
    "callback = myCallback()\n",
    "\n",
    "\n",
    "model.summary()"
   ]
  },
  {
   "cell_type": "code",
   "execution_count": 38,
   "metadata": {
    "execution": {
     "iopub.execute_input": "2020-09-24T10:29:56.117513Z",
     "iopub.status.busy": "2020-09-24T10:29:56.116109Z",
     "iopub.status.idle": "2020-09-24T10:30:03.464320Z",
     "shell.execute_reply": "2020-09-24T10:30:03.463562Z"
    },
    "papermill": {
     "duration": 7.794564,
     "end_time": "2020-09-24T10:30:03.464488",
     "exception": false,
     "start_time": "2020-09-24T10:29:55.669924",
     "status": "completed"
    },
    "tags": []
   },
   "outputs": [
    {
     "output_type": "stream",
     "name": "stdout",
     "text": [
      "Epoch 1/20\n",
      "260/260 [==============================] - 39s 149ms/step - loss: 479.8226 - mae: 16.7172 - val_loss: 1200.0939 - val_mae: 28.9465\n",
      "Epoch 2/20\n",
      "260/260 [==============================] - 41s 158ms/step - loss: 221.9805 - mae: 11.2584 - val_loss: 485.0368 - val_mae: 16.9480\n",
      "Epoch 3/20\n",
      "260/260 [==============================] - 41s 156ms/step - loss: 181.7875 - mae: 10.1458 - val_loss: 133.2316 - val_mae: 8.3923\n",
      "Epoch 4/20\n",
      "260/260 [==============================] - 41s 158ms/step - loss: 165.0134 - mae: 9.6002 - val_loss: 111.7237 - val_mae: 7.8290\n",
      "Epoch 5/20\n",
      "260/260 [==============================] - 41s 156ms/step - loss: 148.7807 - mae: 8.9815 - val_loss: 187.2439 - val_mae: 10.8634\n",
      "Epoch 6/20\n",
      "260/260 [==============================] - 41s 157ms/step - loss: 133.5871 - mae: 8.5471 - val_loss: 117.8403 - val_mae: 8.2489\n",
      "Epoch 7/20\n",
      "260/260 [==============================] - 41s 159ms/step - loss: 129.6332 - mae: 8.4408 - val_loss: 124.2200 - val_mae: 8.1471\n",
      "Epoch 8/20\n",
      "260/260 [==============================] - 41s 159ms/step - loss: 131.3667 - mae: 8.4607 - val_loss: 179.7788 - val_mae: 9.6940\n",
      "Epoch 9/20\n",
      "260/260 [==============================] - 41s 158ms/step - loss: 115.9136 - mae: 7.9011 - val_loss: 141.7077 - val_mae: 9.4875\n",
      "Epoch 10/20\n",
      "260/260 [==============================] - 42s 163ms/step - loss: 112.7362 - mae: 7.8512 - val_loss: 106.0981 - val_mae: 7.5178\n",
      "\n",
      "Reached 110 val_loss so cancelling training!\n"
     ]
    }
   ],
   "source": [
    "history = model.fit(\n",
    "    X_train, y_train, epochs=20, validation_split=0.1, batch_size=64, callbacks=[callback]\n",
    ")"
   ]
  },
  {
   "cell_type": "markdown",
   "metadata": {
    "papermill": {
     "duration": 0.28441,
     "end_time": "2020-09-24T10:30:04.029256",
     "exception": false,
     "start_time": "2020-09-24T10:30:03.744846",
     "status": "completed"
    },
    "tags": []
   },
   "source": [
    "### Evaluate training history <a id=\"6.3\"></a> "
   ]
  },
  {
   "cell_type": "code",
   "execution_count": 39,
   "metadata": {
    "_kg_hide-input": true,
    "execution": {
     "iopub.execute_input": "2020-09-24T10:30:04.631559Z",
     "iopub.status.busy": "2020-09-24T10:30:04.630650Z",
     "iopub.status.idle": "2020-09-24T10:30:04.673336Z",
     "shell.execute_reply": "2020-09-24T10:30:04.673862Z"
    },
    "papermill": {
     "duration": 0.357349,
     "end_time": "2020-09-24T10:30:04.674002",
     "exception": false,
     "start_time": "2020-09-24T10:30:04.316653",
     "status": "completed"
    },
    "tags": []
   },
   "outputs": [
    {
     "output_type": "display_data",
     "data": {
      "application/vnd.plotly.v1+json": {
       "config": {
        "plotlyServerURL": "https://plot.ly"
       },
       "data": [
        {
         "hovertemplate": "variable=loss<br>epoch=%{x}<br>loss=%{y}<extra></extra>",
         "legendgroup": "loss",
         "line": {
          "color": "#636efa",
          "dash": "solid"
         },
         "mode": "lines",
         "name": "loss",
         "orientation": "v",
         "showlegend": true,
         "type": "scatter",
         "x": [
          0,
          1,
          2,
          3,
          4,
          5,
          6,
          7,
          8,
          9
         ],
         "xaxis": "x",
         "y": [
          341.7201232910156,
          210.2537078857422,
          177.23255920410156,
          161.2550048828125,
          152.3960723876953,
          136.89625549316406,
          132.870849609375,
          127.2874984741211,
          118.3136978149414,
          116.34040832519531
         ],
         "yaxis": "y"
        },
        {
         "hovertemplate": "variable=val_loss<br>epoch=%{x}<br>loss=%{y}<extra></extra>",
         "legendgroup": "val_loss",
         "line": {
          "color": "#EF553B",
          "dash": "solid"
         },
         "mode": "lines",
         "name": "val_loss",
         "orientation": "v",
         "showlegend": true,
         "type": "scatter",
         "x": [
          0,
          1,
          2,
          3,
          4,
          5,
          6,
          7,
          8,
          9
         ],
         "xaxis": "x",
         "y": [
          1200.0938720703125,
          485.0368347167969,
          133.23158264160156,
          111.72374725341797,
          187.24392700195312,
          117.84026336669922,
          124.22003936767578,
          179.77882385253906,
          141.70767211914062,
          106.09805297851562
         ],
         "yaxis": "y"
        }
       ],
       "layout": {
        "legend": {
         "title": {
          "text": "variable"
         },
         "tracegroupgap": 0
        },
        "template": {
         "data": {
          "bar": [
           {
            "error_x": {
             "color": "#2a3f5f"
            },
            "error_y": {
             "color": "#2a3f5f"
            },
            "marker": {
             "line": {
              "color": "#E5ECF6",
              "width": 0.5
             }
            },
            "type": "bar"
           }
          ],
          "barpolar": [
           {
            "marker": {
             "line": {
              "color": "#E5ECF6",
              "width": 0.5
             }
            },
            "type": "barpolar"
           }
          ],
          "carpet": [
           {
            "aaxis": {
             "endlinecolor": "#2a3f5f",
             "gridcolor": "white",
             "linecolor": "white",
             "minorgridcolor": "white",
             "startlinecolor": "#2a3f5f"
            },
            "baxis": {
             "endlinecolor": "#2a3f5f",
             "gridcolor": "white",
             "linecolor": "white",
             "minorgridcolor": "white",
             "startlinecolor": "#2a3f5f"
            },
            "type": "carpet"
           }
          ],
          "choropleth": [
           {
            "colorbar": {
             "outlinewidth": 0,
             "ticks": ""
            },
            "type": "choropleth"
           }
          ],
          "contour": [
           {
            "colorbar": {
             "outlinewidth": 0,
             "ticks": ""
            },
            "colorscale": [
             [
              0,
              "#0d0887"
             ],
             [
              0.1111111111111111,
              "#46039f"
             ],
             [
              0.2222222222222222,
              "#7201a8"
             ],
             [
              0.3333333333333333,
              "#9c179e"
             ],
             [
              0.4444444444444444,
              "#bd3786"
             ],
             [
              0.5555555555555556,
              "#d8576b"
             ],
             [
              0.6666666666666666,
              "#ed7953"
             ],
             [
              0.7777777777777778,
              "#fb9f3a"
             ],
             [
              0.8888888888888888,
              "#fdca26"
             ],
             [
              1,
              "#f0f921"
             ]
            ],
            "type": "contour"
           }
          ],
          "contourcarpet": [
           {
            "colorbar": {
             "outlinewidth": 0,
             "ticks": ""
            },
            "type": "contourcarpet"
           }
          ],
          "heatmap": [
           {
            "colorbar": {
             "outlinewidth": 0,
             "ticks": ""
            },
            "colorscale": [
             [
              0,
              "#0d0887"
             ],
             [
              0.1111111111111111,
              "#46039f"
             ],
             [
              0.2222222222222222,
              "#7201a8"
             ],
             [
              0.3333333333333333,
              "#9c179e"
             ],
             [
              0.4444444444444444,
              "#bd3786"
             ],
             [
              0.5555555555555556,
              "#d8576b"
             ],
             [
              0.6666666666666666,
              "#ed7953"
             ],
             [
              0.7777777777777778,
              "#fb9f3a"
             ],
             [
              0.8888888888888888,
              "#fdca26"
             ],
             [
              1,
              "#f0f921"
             ]
            ],
            "type": "heatmap"
           }
          ],
          "heatmapgl": [
           {
            "colorbar": {
             "outlinewidth": 0,
             "ticks": ""
            },
            "colorscale": [
             [
              0,
              "#0d0887"
             ],
             [
              0.1111111111111111,
              "#46039f"
             ],
             [
              0.2222222222222222,
              "#7201a8"
             ],
             [
              0.3333333333333333,
              "#9c179e"
             ],
             [
              0.4444444444444444,
              "#bd3786"
             ],
             [
              0.5555555555555556,
              "#d8576b"
             ],
             [
              0.6666666666666666,
              "#ed7953"
             ],
             [
              0.7777777777777778,
              "#fb9f3a"
             ],
             [
              0.8888888888888888,
              "#fdca26"
             ],
             [
              1,
              "#f0f921"
             ]
            ],
            "type": "heatmapgl"
           }
          ],
          "histogram": [
           {
            "marker": {
             "colorbar": {
              "outlinewidth": 0,
              "ticks": ""
             }
            },
            "type": "histogram"
           }
          ],
          "histogram2d": [
           {
            "colorbar": {
             "outlinewidth": 0,
             "ticks": ""
            },
            "colorscale": [
             [
              0,
              "#0d0887"
             ],
             [
              0.1111111111111111,
              "#46039f"
             ],
             [
              0.2222222222222222,
              "#7201a8"
             ],
             [
              0.3333333333333333,
              "#9c179e"
             ],
             [
              0.4444444444444444,
              "#bd3786"
             ],
             [
              0.5555555555555556,
              "#d8576b"
             ],
             [
              0.6666666666666666,
              "#ed7953"
             ],
             [
              0.7777777777777778,
              "#fb9f3a"
             ],
             [
              0.8888888888888888,
              "#fdca26"
             ],
             [
              1,
              "#f0f921"
             ]
            ],
            "type": "histogram2d"
           }
          ],
          "histogram2dcontour": [
           {
            "colorbar": {
             "outlinewidth": 0,
             "ticks": ""
            },
            "colorscale": [
             [
              0,
              "#0d0887"
             ],
             [
              0.1111111111111111,
              "#46039f"
             ],
             [
              0.2222222222222222,
              "#7201a8"
             ],
             [
              0.3333333333333333,
              "#9c179e"
             ],
             [
              0.4444444444444444,
              "#bd3786"
             ],
             [
              0.5555555555555556,
              "#d8576b"
             ],
             [
              0.6666666666666666,
              "#ed7953"
             ],
             [
              0.7777777777777778,
              "#fb9f3a"
             ],
             [
              0.8888888888888888,
              "#fdca26"
             ],
             [
              1,
              "#f0f921"
             ]
            ],
            "type": "histogram2dcontour"
           }
          ],
          "mesh3d": [
           {
            "colorbar": {
             "outlinewidth": 0,
             "ticks": ""
            },
            "type": "mesh3d"
           }
          ],
          "parcoords": [
           {
            "line": {
             "colorbar": {
              "outlinewidth": 0,
              "ticks": ""
             }
            },
            "type": "parcoords"
           }
          ],
          "pie": [
           {
            "automargin": true,
            "type": "pie"
           }
          ],
          "scatter": [
           {
            "marker": {
             "colorbar": {
              "outlinewidth": 0,
              "ticks": ""
             }
            },
            "type": "scatter"
           }
          ],
          "scatter3d": [
           {
            "line": {
             "colorbar": {
              "outlinewidth": 0,
              "ticks": ""
             }
            },
            "marker": {
             "colorbar": {
              "outlinewidth": 0,
              "ticks": ""
             }
            },
            "type": "scatter3d"
           }
          ],
          "scattercarpet": [
           {
            "marker": {
             "colorbar": {
              "outlinewidth": 0,
              "ticks": ""
             }
            },
            "type": "scattercarpet"
           }
          ],
          "scattergeo": [
           {
            "marker": {
             "colorbar": {
              "outlinewidth": 0,
              "ticks": ""
             }
            },
            "type": "scattergeo"
           }
          ],
          "scattergl": [
           {
            "marker": {
             "colorbar": {
              "outlinewidth": 0,
              "ticks": ""
             }
            },
            "type": "scattergl"
           }
          ],
          "scattermapbox": [
           {
            "marker": {
             "colorbar": {
              "outlinewidth": 0,
              "ticks": ""
             }
            },
            "type": "scattermapbox"
           }
          ],
          "scatterpolar": [
           {
            "marker": {
             "colorbar": {
              "outlinewidth": 0,
              "ticks": ""
             }
            },
            "type": "scatterpolar"
           }
          ],
          "scatterpolargl": [
           {
            "marker": {
             "colorbar": {
              "outlinewidth": 0,
              "ticks": ""
             }
            },
            "type": "scatterpolargl"
           }
          ],
          "scatterternary": [
           {
            "marker": {
             "colorbar": {
              "outlinewidth": 0,
              "ticks": ""
             }
            },
            "type": "scatterternary"
           }
          ],
          "surface": [
           {
            "colorbar": {
             "outlinewidth": 0,
             "ticks": ""
            },
            "colorscale": [
             [
              0,
              "#0d0887"
             ],
             [
              0.1111111111111111,
              "#46039f"
             ],
             [
              0.2222222222222222,
              "#7201a8"
             ],
             [
              0.3333333333333333,
              "#9c179e"
             ],
             [
              0.4444444444444444,
              "#bd3786"
             ],
             [
              0.5555555555555556,
              "#d8576b"
             ],
             [
              0.6666666666666666,
              "#ed7953"
             ],
             [
              0.7777777777777778,
              "#fb9f3a"
             ],
             [
              0.8888888888888888,
              "#fdca26"
             ],
             [
              1,
              "#f0f921"
             ]
            ],
            "type": "surface"
           }
          ],
          "table": [
           {
            "cells": {
             "fill": {
              "color": "#EBF0F8"
             },
             "line": {
              "color": "white"
             }
            },
            "header": {
             "fill": {
              "color": "#C8D4E3"
             },
             "line": {
              "color": "white"
             }
            },
            "type": "table"
           }
          ]
         },
         "layout": {
          "annotationdefaults": {
           "arrowcolor": "#2a3f5f",
           "arrowhead": 0,
           "arrowwidth": 1
          },
          "autotypenumbers": "strict",
          "coloraxis": {
           "colorbar": {
            "outlinewidth": 0,
            "ticks": ""
           }
          },
          "colorscale": {
           "diverging": [
            [
             0,
             "#8e0152"
            ],
            [
             0.1,
             "#c51b7d"
            ],
            [
             0.2,
             "#de77ae"
            ],
            [
             0.3,
             "#f1b6da"
            ],
            [
             0.4,
             "#fde0ef"
            ],
            [
             0.5,
             "#f7f7f7"
            ],
            [
             0.6,
             "#e6f5d0"
            ],
            [
             0.7,
             "#b8e186"
            ],
            [
             0.8,
             "#7fbc41"
            ],
            [
             0.9,
             "#4d9221"
            ],
            [
             1,
             "#276419"
            ]
           ],
           "sequential": [
            [
             0,
             "#0d0887"
            ],
            [
             0.1111111111111111,
             "#46039f"
            ],
            [
             0.2222222222222222,
             "#7201a8"
            ],
            [
             0.3333333333333333,
             "#9c179e"
            ],
            [
             0.4444444444444444,
             "#bd3786"
            ],
            [
             0.5555555555555556,
             "#d8576b"
            ],
            [
             0.6666666666666666,
             "#ed7953"
            ],
            [
             0.7777777777777778,
             "#fb9f3a"
            ],
            [
             0.8888888888888888,
             "#fdca26"
            ],
            [
             1,
             "#f0f921"
            ]
           ],
           "sequentialminus": [
            [
             0,
             "#0d0887"
            ],
            [
             0.1111111111111111,
             "#46039f"
            ],
            [
             0.2222222222222222,
             "#7201a8"
            ],
            [
             0.3333333333333333,
             "#9c179e"
            ],
            [
             0.4444444444444444,
             "#bd3786"
            ],
            [
             0.5555555555555556,
             "#d8576b"
            ],
            [
             0.6666666666666666,
             "#ed7953"
            ],
            [
             0.7777777777777778,
             "#fb9f3a"
            ],
            [
             0.8888888888888888,
             "#fdca26"
            ],
            [
             1,
             "#f0f921"
            ]
           ]
          },
          "colorway": [
           "#636efa",
           "#EF553B",
           "#00cc96",
           "#ab63fa",
           "#FFA15A",
           "#19d3f3",
           "#FF6692",
           "#B6E880",
           "#FF97FF",
           "#FECB52"
          ],
          "font": {
           "color": "#2a3f5f"
          },
          "geo": {
           "bgcolor": "white",
           "lakecolor": "white",
           "landcolor": "#E5ECF6",
           "showlakes": true,
           "showland": true,
           "subunitcolor": "white"
          },
          "hoverlabel": {
           "align": "left"
          },
          "hovermode": "closest",
          "mapbox": {
           "style": "light"
          },
          "paper_bgcolor": "white",
          "plot_bgcolor": "#E5ECF6",
          "polar": {
           "angularaxis": {
            "gridcolor": "white",
            "linecolor": "white",
            "ticks": ""
           },
           "bgcolor": "#E5ECF6",
           "radialaxis": {
            "gridcolor": "white",
            "linecolor": "white",
            "ticks": ""
           }
          },
          "scene": {
           "xaxis": {
            "backgroundcolor": "#E5ECF6",
            "gridcolor": "white",
            "gridwidth": 2,
            "linecolor": "white",
            "showbackground": true,
            "ticks": "",
            "zerolinecolor": "white"
           },
           "yaxis": {
            "backgroundcolor": "#E5ECF6",
            "gridcolor": "white",
            "gridwidth": 2,
            "linecolor": "white",
            "showbackground": true,
            "ticks": "",
            "zerolinecolor": "white"
           },
           "zaxis": {
            "backgroundcolor": "#E5ECF6",
            "gridcolor": "white",
            "gridwidth": 2,
            "linecolor": "white",
            "showbackground": true,
            "ticks": "",
            "zerolinecolor": "white"
           }
          },
          "shapedefaults": {
           "line": {
            "color": "#2a3f5f"
           }
          },
          "ternary": {
           "aaxis": {
            "gridcolor": "white",
            "linecolor": "white",
            "ticks": ""
           },
           "baxis": {
            "gridcolor": "white",
            "linecolor": "white",
            "ticks": ""
           },
           "bgcolor": "#E5ECF6",
           "caxis": {
            "gridcolor": "white",
            "linecolor": "white",
            "ticks": ""
           }
          },
          "title": {
           "x": 0.05
          },
          "xaxis": {
           "automargin": true,
           "gridcolor": "white",
           "linecolor": "white",
           "ticks": "",
           "title": {
            "standoff": 15
           },
           "zerolinecolor": "white",
           "zerolinewidth": 2
          },
          "yaxis": {
           "automargin": true,
           "gridcolor": "white",
           "linecolor": "white",
           "ticks": "",
           "title": {
            "standoff": 15
           },
           "zerolinecolor": "white",
           "zerolinewidth": 2
          }
         }
        },
        "title": {
         "text": "Training History"
        },
        "xaxis": {
         "anchor": "y",
         "domain": [
          0,
          1
         ],
         "title": {
          "text": "epoch"
         }
        },
        "yaxis": {
         "anchor": "x",
         "domain": [
          0,
          1
         ],
         "title": {
          "text": "loss"
         }
        }
       }
      }
     },
     "metadata": {}
    }
   ],
   "source": [
    "fig = px.line(\n",
    "    history.history, y=['loss', 'val_loss'],\n",
    "    labels={'index': 'epoch', 'value': 'loss'}, \n",
    "    title='Training History')\n",
    "fig.show()"
   ]
  },
  {
   "cell_type": "code",
   "execution_count": 40,
   "metadata": {
    "execution": {
     "iopub.execute_input": "2020-09-24T10:30:05.244839Z",
     "iopub.status.busy": "2020-09-24T10:30:05.243725Z",
     "iopub.status.idle": "2020-09-24T10:30:05.705191Z",
     "shell.execute_reply": "2020-09-24T10:30:05.706310Z"
    },
    "papermill": {
     "duration": 0.753236,
     "end_time": "2020-09-24T10:30:05.706492",
     "exception": false,
     "start_time": "2020-09-24T10:30:04.953256",
     "status": "completed"
    },
    "tags": []
   },
   "outputs": [
    {
     "output_type": "stream",
     "name": "stdout",
     "text": [
      "Test Mean squared error: 99.17769622802734\nTest Mean absolute error: 7.221635341644287\n"
     ]
    }
   ],
   "source": [
    "mse, mae = model.evaluate(X_test,y_test,verbose=0)\n",
    "print('Test Mean squared error: {}'.format(mse))\n",
    "print('Test Mean absolute error: {}'.format(mae))"
   ]
  },
  {
   "cell_type": "markdown",
   "metadata": {
    "papermill": {
     "duration": 0.282266,
     "end_time": "2020-09-24T10:30:06.285304",
     "exception": false,
     "start_time": "2020-09-24T10:30:06.003038",
     "status": "completed"
    },
    "tags": []
   },
   "source": [
    "![Alt Text](https://www.kudos.com/assets/Blog/b5843aa89b/thankyou__FillWzcwMCw0NDBd.jpg)"
   ]
  }
 ],
 "metadata": {
  "kernelspec": {
   "display_name": "Python 3",
   "language": "python",
   "name": "python3"
  },
  "language_info": {
   "codemirror_mode": {
    "name": "ipython",
    "version": 3
   },
   "file_extension": ".py",
   "mimetype": "text/x-python",
   "name": "python",
   "nbconvert_exporter": "python",
   "pygments_lexer": "ipython3",
   "version": "3.7.9-final"
  },
  "papermill": {
   "duration": 98.079394,
   "end_time": "2020-09-24T10:30:07.984369",
   "environment_variables": {},
   "exception": null,
   "input_path": "__notebook__.ipynb",
   "output_path": "__notebook__.ipynb",
   "parameters": {},
   "start_time": "2020-09-24T10:28:29.904975",
   "version": "2.1.0"
  }
 },
 "nbformat": 4,
 "nbformat_minor": 4
}